{
 "cells": [
  {
   "cell_type": "code",
   "execution_count": 1,
   "metadata": {},
   "outputs": [],
   "source": [
    "import numpy as np\n",
    "import pandas as pd\n",
    "import json\n",
    "from typing import Dict\n",
    "from itertools import groupby\n",
    "from functools import reduce\n",
    "from collections import Counter\n",
    "import scipy.sparse as sps\n",
    "from sklearn.preprocessing import OneHotEncoder\n",
    "from sklearn.model_selection import train_test_split\n",
    "from sklearn.ensemble import RandomForestRegressor\n",
    "from sklearn.metrics import mean_squared_error, mean_absolute_error\n",
    "from sklearn.model_selection import GridSearchCV"
   ]
  },
  {
   "cell_type": "code",
   "execution_count": 2,
   "metadata": {},
   "outputs": [],
   "source": [
    "df = pd.read_json(\"export/export_0.json\")\n",
    "for i in range(1,2):\n",
    "    dframe = pd.read_json(\"export/export_{}0.json\".format(str(i)))\n",
    "    df = df.append(dframe)"
   ]
  },
  {
   "cell_type": "code",
   "execution_count": 3,
   "metadata": {},
   "outputs": [],
   "source": [
    "# List of all items\n",
    "items_list = list(range(1,10)) + [10 * i + j for i in range(1,10) for j in range(i,10)]"
   ]
  },
  {
   "cell_type": "code",
   "execution_count": 4,
   "metadata": {},
   "outputs": [],
   "source": [
    "\n",
    "# Converting items to their corresponding vectors\n",
    "# Similar to one hot encoding\n",
    "# There are 9 basic items. Each basic item is alloted 2 bits. Therefore, size of vector = 9*2 = 18\n",
    "# Basic item to index mapping is as follows:\n",
    "# {1: (0, 1),\n",
    "#  2: (2, 3),\n",
    "#  3: (4, 5),\n",
    "#  4: (6, 7),\n",
    "#  5: (8, 9),\n",
    "#  6: (10, 11),\n",
    "#  7: (12, 13),\n",
    "#  8: (14, 15),\n",
    "#  9: (16, 17)}\n",
    "# For basic items, the leftmost bit alloted to that item is set to 1. \n",
    "# eg: item_2 => [0, 0, 1, 0, 0, 0, 0, 0, 0, 0, 0, 0, 0, 0, 0, 0, 0, 0]\n",
    "# For combined items, the leftmost bits alloted to the 2 basic items\n",
    "# used to create the combined item are set to 1.\n",
    "# eg: item_23 => [0, 0, 1, 0, 1, 0, 0, 0, 0, 0, 0, 0, 0, 0, 0, 0, 0, 0]\n",
    "# for combined items created using 2 of the same item, both the bits alloted to the basic item are set to 1.\n",
    "# eg: item_33 => [0, 0, 0, 0, 1, 1, 0, 0, 0, 0, 0, 0, 0, 0, 0, 0, 0, 0\n",
    "def vectorise_items(items):\n",
    "    item_index = {x:y for x,y in zip(range(1,10),range(0,18,2))}\n",
    "    res = {}\n",
    "    for i,item in enumerate(items):\n",
    "        item_str = str(item)\n",
    "        vect = np.zeros([18])\n",
    "        for i in item_str:\n",
    "            first_index = item_index[int(i)]\n",
    "            if(not vect[first_index]):\n",
    "                vect[first_index] = 1\n",
    "            else:\n",
    "                vect[first_index+1] = 1\n",
    "        res[item] = vect\n",
    "    res[0] = np.zeros([18])\n",
    "    return res"
   ]
  },
  {
   "cell_type": "code",
   "execution_count": 5,
   "metadata": {},
   "outputs": [],
   "source": [
    "item_vector_dict = vectorise_items(items_list)"
   ]
  },
  {
   "cell_type": "code",
   "execution_count": 6,
   "metadata": {},
   "outputs": [
    {
     "name": "stdout",
     "output_type": "stream",
     "text": [
      "            trait                                         min_active\n",
      "0     Blademaster        {'1': [3, 6], '2': [6, 9], '3': [9, 25000]}\n",
      "1         Blaster                     {'1': [2, 4], '2': [4, 25000]}\n",
      "2         Brawler                     {'1': [2, 4], '2': [4, 25000]}\n",
      "3   Demolitionist                                  {'1': [2, 25000]}\n",
      "4     Infiltrator        {'1': [2, 4], '2': [4, 6], '3': [6, 25000]}\n",
      "5      ManaReaver                                  {'1': [2, 25000]}\n",
      "6       Mercenary                                  {'1': [1, 25000]}\n",
      "7          Mystic                     {'1': [2, 4], '2': [4, 25000]}\n",
      "8         Paragon                                  {'1': [1, 25000]}\n",
      "9       Protector        {'1': [2, 4], '2': [4, 6], '3': [6, 25000]}\n",
      "10         Sniper                     {'1': [2, 4], '2': [4, 25000]}\n",
      "11       Sorcerer        {'1': [2, 4], '2': [4, 6], '3': [6, 25000]}\n",
      "12       Starship                                  {'1': [1, 25000]}\n",
      "13       Vanguard        {'1': [2, 4], '2': [4, 6], '3': [6, 25000]}\n",
      "14          Astro                                  {'1': [3, 25000]}\n",
      "15     Battlecast        {'1': [2, 4], '2': [4, 6], '3': [6, 25000]}\n",
      "16      Celestial        {'1': [2, 4], '2': [4, 6], '3': [6, 25000]}\n",
      "17         Chrono  {'1': [2, 4], '2': [4, 6], '3': [6, 8], '4': [...\n",
      "18     Cybernetic                     {'1': [3, 6], '2': [6, 25000]}\n",
      "19       DarkStar        {'1': [2, 4], '2': [4, 6], '3': [6, 25000]}\n",
      "20      MechPilot                                  {'1': [3, 25000]}\n",
      "21          Rebel        {'1': [3, 6], '2': [6, 9], '3': [9, 25000]}\n",
      "22    SpacePirate                     {'1': [2, 4], '2': [4, 25000]}\n",
      "23   StarGuardian        {'1': [3, 6], '2': [6, 9], '3': [9, 25000]}\n"
     ]
    }
   ],
   "source": [
    "with open('full_mapping.json') as json_data:\n",
    "    fullmap = json.load(json_data)\n",
    "\n",
    "active_trait = pd.DataFrame(fullmap['trait_tier_mapping_json'].items())\n",
    "active_trait.columns = ['trait', 'min_active']\n",
    "print(active_trait)"
   ]
  },
  {
   "cell_type": "code",
   "execution_count": 7,
   "metadata": {},
   "outputs": [],
   "source": [
    "#Make a dataframe with character_id, level, and items\n",
    "char_item_rank = [(char[\"character_id\"], char[\"level\"], \\\n",
    "                   np.pad(i := np.asarray(char[\"items\"]), (0,3-len(i))), player[\"final\"][\"placement\"][\"rank\"], \n",
    "                   player[\"final\"][\"level\"], player['final']['gold_spent'], player[\"final\"][\"traits\"]) \\\n",
    "                      for player in df.player for char in player[\"final\"][\"comp\"]]\n",
    "                        \n",
    "     \n",
    "char_item_rank_df = pd.DataFrame(char_item_rank, columns=[\"character_id\",\"level\",\"items\",\"rank\",\"player_final_level\",\"final_gold\",\"traits\"])"
   ]
  },
  {
   "cell_type": "code",
   "execution_count": 8,
   "metadata": {},
   "outputs": [
    {
     "data": {
      "text/html": [
       "<div>\n",
       "<style scoped>\n",
       "    .dataframe tbody tr th:only-of-type {\n",
       "        vertical-align: middle;\n",
       "    }\n",
       "\n",
       "    .dataframe tbody tr th {\n",
       "        vertical-align: top;\n",
       "    }\n",
       "\n",
       "    .dataframe thead th {\n",
       "        text-align: right;\n",
       "    }\n",
       "</style>\n",
       "<table border=\"1\" class=\"dataframe\">\n",
       "  <thead>\n",
       "    <tr style=\"text-align: right;\">\n",
       "      <th></th>\n",
       "      <th>character_id</th>\n",
       "      <th>level</th>\n",
       "      <th>items</th>\n",
       "      <th>rank</th>\n",
       "      <th>player_final_level</th>\n",
       "      <th>final_gold</th>\n",
       "      <th>traits</th>\n",
       "    </tr>\n",
       "  </thead>\n",
       "  <tbody>\n",
       "    <tr>\n",
       "      <th>0</th>\n",
       "      <td>TFT3_Ashe</td>\n",
       "      <td>2</td>\n",
       "      <td>[0.0, 0.0, 0.0]</td>\n",
       "      <td>4</td>\n",
       "      <td>8</td>\n",
       "      <td>298</td>\n",
       "      <td>{'Set3_Celestial': 4, 'Set3_Blademaster': 3, '...</td>\n",
       "    </tr>\n",
       "    <tr>\n",
       "      <th>1</th>\n",
       "      <td>TFT3_Xayah</td>\n",
       "      <td>2</td>\n",
       "      <td>[19, 23, 0]</td>\n",
       "      <td>4</td>\n",
       "      <td>8</td>\n",
       "      <td>298</td>\n",
       "      <td>{'Set3_Celestial': 4, 'Set3_Blademaster': 3, '...</td>\n",
       "    </tr>\n",
       "    <tr>\n",
       "      <th>2</th>\n",
       "      <td>TFT3_Urgot</td>\n",
       "      <td>1</td>\n",
       "      <td>[3, 77, 0]</td>\n",
       "      <td>4</td>\n",
       "      <td>8</td>\n",
       "      <td>298</td>\n",
       "      <td>{'Set3_Celestial': 4, 'Set3_Blademaster': 3, '...</td>\n",
       "    </tr>\n",
       "    <tr>\n",
       "      <th>3</th>\n",
       "      <td>TFT3_XinZhao</td>\n",
       "      <td>2</td>\n",
       "      <td>[0.0, 0.0, 0.0]</td>\n",
       "      <td>4</td>\n",
       "      <td>8</td>\n",
       "      <td>298</td>\n",
       "      <td>{'Set3_Celestial': 4, 'Set3_Blademaster': 3, '...</td>\n",
       "    </tr>\n",
       "    <tr>\n",
       "      <th>4</th>\n",
       "      <td>TFT3_JarvanIV</td>\n",
       "      <td>2</td>\n",
       "      <td>[55, 66, 77]</td>\n",
       "      <td>4</td>\n",
       "      <td>8</td>\n",
       "      <td>298</td>\n",
       "      <td>{'Set3_Celestial': 4, 'Set3_Blademaster': 3, '...</td>\n",
       "    </tr>\n",
       "    <tr>\n",
       "      <th>5</th>\n",
       "      <td>TFT3_Rakan</td>\n",
       "      <td>2</td>\n",
       "      <td>[0.0, 0.0, 0.0]</td>\n",
       "      <td>4</td>\n",
       "      <td>8</td>\n",
       "      <td>298</td>\n",
       "      <td>{'Set3_Celestial': 4, 'Set3_Blademaster': 3, '...</td>\n",
       "    </tr>\n",
       "    <tr>\n",
       "      <th>6</th>\n",
       "      <td>TFT3_Riven</td>\n",
       "      <td>2</td>\n",
       "      <td>[0.0, 0.0, 0.0]</td>\n",
       "      <td>4</td>\n",
       "      <td>8</td>\n",
       "      <td>298</td>\n",
       "      <td>{'Set3_Celestial': 4, 'Set3_Blademaster': 3, '...</td>\n",
       "    </tr>\n",
       "    <tr>\n",
       "      <th>7</th>\n",
       "      <td>TFT3_Irelia</td>\n",
       "      <td>2</td>\n",
       "      <td>[15, 19, 44]</td>\n",
       "      <td>4</td>\n",
       "      <td>8</td>\n",
       "      <td>298</td>\n",
       "      <td>{'Set3_Celestial': 4, 'Set3_Blademaster': 3, '...</td>\n",
       "    </tr>\n",
       "    <tr>\n",
       "      <th>8</th>\n",
       "      <td>TFT3_Cassiopeia</td>\n",
       "      <td>3</td>\n",
       "      <td>[25, 0, 0]</td>\n",
       "      <td>3</td>\n",
       "      <td>9</td>\n",
       "      <td>335</td>\n",
       "      <td>{'Set3_Mystic': 2, 'Battlecast': 6, 'Blaster':...</td>\n",
       "    </tr>\n",
       "    <tr>\n",
       "      <th>9</th>\n",
       "      <td>TFT3_Viktor</td>\n",
       "      <td>2</td>\n",
       "      <td>[37, 0, 0]</td>\n",
       "      <td>3</td>\n",
       "      <td>9</td>\n",
       "      <td>335</td>\n",
       "      <td>{'Set3_Mystic': 2, 'Battlecast': 6, 'Blaster':...</td>\n",
       "    </tr>\n",
       "  </tbody>\n",
       "</table>\n",
       "</div>"
      ],
      "text/plain": [
       "      character_id level            items rank  player_final_level  \\\n",
       "0        TFT3_Ashe     2  [0.0, 0.0, 0.0]    4                   8   \n",
       "1       TFT3_Xayah     2      [19, 23, 0]    4                   8   \n",
       "2       TFT3_Urgot     1       [3, 77, 0]    4                   8   \n",
       "3     TFT3_XinZhao     2  [0.0, 0.0, 0.0]    4                   8   \n",
       "4    TFT3_JarvanIV     2     [55, 66, 77]    4                   8   \n",
       "5       TFT3_Rakan     2  [0.0, 0.0, 0.0]    4                   8   \n",
       "6       TFT3_Riven     2  [0.0, 0.0, 0.0]    4                   8   \n",
       "7      TFT3_Irelia     2     [15, 19, 44]    4                   8   \n",
       "8  TFT3_Cassiopeia     3       [25, 0, 0]    3                   9   \n",
       "9      TFT3_Viktor     2       [37, 0, 0]    3                   9   \n",
       "\n",
       "   final_gold                                             traits  \n",
       "0         298  {'Set3_Celestial': 4, 'Set3_Blademaster': 3, '...  \n",
       "1         298  {'Set3_Celestial': 4, 'Set3_Blademaster': 3, '...  \n",
       "2         298  {'Set3_Celestial': 4, 'Set3_Blademaster': 3, '...  \n",
       "3         298  {'Set3_Celestial': 4, 'Set3_Blademaster': 3, '...  \n",
       "4         298  {'Set3_Celestial': 4, 'Set3_Blademaster': 3, '...  \n",
       "5         298  {'Set3_Celestial': 4, 'Set3_Blademaster': 3, '...  \n",
       "6         298  {'Set3_Celestial': 4, 'Set3_Blademaster': 3, '...  \n",
       "7         298  {'Set3_Celestial': 4, 'Set3_Blademaster': 3, '...  \n",
       "8         335  {'Set3_Mystic': 2, 'Battlecast': 6, 'Blaster':...  \n",
       "9         335  {'Set3_Mystic': 2, 'Battlecast': 6, 'Blaster':...  "
      ]
     },
     "execution_count": 8,
     "metadata": {},
     "output_type": "execute_result"
    }
   ],
   "source": [
    "char_item_rank_df.head(10)"
   ]
  },
  {
   "cell_type": "code",
   "execution_count": 9,
   "metadata": {},
   "outputs": [
    {
     "name": "stdout",
     "output_type": "stream",
     "text": [
      "{'Blademaster': 0, 'Blaster': 1, 'Brawler': 2, 'Demolitionist': 3, 'Infiltrator': 4, 'ManaReaver': 5, 'Mercenary': 6, 'Mystic': 7, 'Paragon': 8, 'Protector': 9, 'Sniper': 10, 'Sorcerer': 11, 'Starship': 12, 'Vanguard': 13, 'Astro': 14, 'Battlecast': 15, 'Celestial': 16, 'Chrono': 17, 'Cybernetic': 18, 'DarkStar': 19, 'MechPilot': 20, 'Rebel': 21, 'SpacePirate': 22, 'StarGuardian': 23}\n"
     ]
    }
   ],
   "source": [
    "trait_index = {k: v for v, k in enumerate(active_trait['trait'].tolist())} \n",
    "print(trait_index)"
   ]
  },
  {
   "cell_type": "code",
   "execution_count": 32,
   "metadata": {},
   "outputs": [
    {
     "name": "stdout",
     "output_type": "stream",
     "text": [
      "0         {'Set3_Celestial': 4, 'Set3_Blademaster': 3, '...\n",
      "1         {'Set3_Celestial': 4, 'Set3_Blademaster': 3, '...\n",
      "2         {'Set3_Celestial': 4, 'Set3_Blademaster': 3, '...\n",
      "3         {'Set3_Celestial': 4, 'Set3_Blademaster': 3, '...\n",
      "4         {'Set3_Celestial': 4, 'Set3_Blademaster': 3, '...\n",
      "                                ...                        \n",
      "100267    {'Set3_Brawler': 2, 'Chrono': 2, 'Blaster': 2,...\n",
      "100268    {'Set3_Brawler': 2, 'Chrono': 2, 'Blaster': 2,...\n",
      "100269    {'Set3_Brawler': 2, 'Chrono': 2, 'Blaster': 2,...\n",
      "100270    {'Set3_Brawler': 2, 'Chrono': 2, 'Blaster': 2,...\n",
      "100271    {'Set3_Brawler': 2, 'Chrono': 2, 'Blaster': 2,...\n",
      "Name: traits, Length: 100272, dtype: object\n"
     ]
    }
   ],
   "source": [
    "def encode_traits(trait_dict_column, active_trait_df, trait_index):\n",
    "    encoding_list = []\n",
    "    for trait_dict in trait_dict_column:\n",
    "        trait_encoding = [ 0 for i in range(len(trait_index)) ]\n",
    "        for key, value in trait_dict.items():\n",
    "            if key[:5] == 'Set3_':\n",
    "                trait = key[5:]\n",
    "            else:\n",
    "                trait = key\n",
    "            min_active_dict = active_trait_df.loc[active_trait_df['trait'] == trait]['min_active'].values[0]\n",
    "            has_trait_flag = 0\n",
    "            for k, v in min_active_dict.items():\n",
    "                if value >= v[0] and value < v[1]:\n",
    "                    trait_tier = int(k)\n",
    "                    has_trait_flag = 1\n",
    "            if has_trait_flag == 0:\n",
    "                trait_tier = 0\n",
    "            trait_encoding[trait_index[trait]] = trait_tier\n",
    "        encoding_list.append(trait_encoding)\n",
    "    return encoding_list"
   ]
  },
  {
   "cell_type": "code",
   "execution_count": 33,
   "metadata": {},
   "outputs": [],
   "source": [
    "def item_vector_lookup(item_list, d=item_vector_dict):\n",
    "    return [[d[item] for item in items] for items in item_list]"
   ]
  },
  {
   "cell_type": "code",
   "execution_count": 34,
   "metadata": {},
   "outputs": [],
   "source": [
    "# Convert a list of items to vectors\n",
    "def item_vector_lookup2(item_list, d=item_vector_dict):\n",
    "    res = []\n",
    "    for items in item_list:\n",
    "        temp_res = []\n",
    "        for item in items:\n",
    "            temp_res = temp_res + d[item].tolist()\n",
    "        res.append(temp_res)\n",
    "    return res"
   ]
  },
  {
   "cell_type": "code",
   "execution_count": 35,
   "metadata": {},
   "outputs": [],
   "source": [
    "# add item vectors to the existing data frame\n",
    "temp_df = char_item_rank_df.join(pd.DataFrame(item_vector_lookup2(char_item_rank_df[\"items\"]),\n",
    "                                              columns = [f\"item_index{x}\" for x in range(1,55)]))\n",
    "temp_df = temp_df.join(pd.DataFrame(encode_traits(char_item_rank_df[\"traits\"], active_trait, trait_index),\n",
    "                                    columns = [trait for trait in active_trait['trait'].tolist()]))\n"
   ]
  },
  {
   "cell_type": "code",
   "execution_count": 36,
   "metadata": {},
   "outputs": [],
   "source": [
    "temp_df[\"rank\"] = temp_df[\"rank\"].astype('float')"
   ]
  },
  {
   "cell_type": "code",
   "execution_count": 37,
   "metadata": {},
   "outputs": [
    {
     "data": {
      "text/plain": [
       "Index(['character_id', 'level', 'items', 'rank', 'player_final_level',\n",
       "       'final_gold', 'traits', 'item_index1', 'item_index2', 'item_index3',\n",
       "       'item_index4', 'item_index5', 'item_index6', 'item_index7',\n",
       "       'item_index8', 'item_index9', 'item_index10', 'item_index11',\n",
       "       'item_index12', 'item_index13', 'item_index14', 'item_index15',\n",
       "       'item_index16', 'item_index17', 'item_index18', 'item_index19',\n",
       "       'item_index20', 'item_index21', 'item_index22', 'item_index23',\n",
       "       'item_index24', 'item_index25', 'item_index26', 'item_index27',\n",
       "       'item_index28', 'item_index29', 'item_index30', 'item_index31',\n",
       "       'item_index32', 'item_index33', 'item_index34', 'item_index35',\n",
       "       'item_index36', 'item_index37', 'item_index38', 'item_index39',\n",
       "       'item_index40', 'item_index41', 'item_index42', 'item_index43',\n",
       "       'item_index44', 'item_index45', 'item_index46', 'item_index47',\n",
       "       'item_index48', 'item_index49', 'item_index50', 'item_index51',\n",
       "       'item_index52', 'item_index53', 'item_index54', 'Blademaster',\n",
       "       'Blaster', 'Brawler', 'Demolitionist', 'Infiltrator', 'ManaReaver',\n",
       "       'Mercenary', 'Mystic', 'Paragon', 'Protector', 'Sniper', 'Sorcerer',\n",
       "       'Starship', 'Vanguard', 'Astro', 'Battlecast', 'Celestial', 'Chrono',\n",
       "       'Cybernetic', 'DarkStar', 'MechPilot', 'Rebel', 'SpacePirate',\n",
       "       'StarGuardian'],\n",
       "      dtype='object')"
      ]
     },
     "execution_count": 37,
     "metadata": {},
     "output_type": "execute_result"
    }
   ],
   "source": [
    "temp_df.columns"
   ]
  },
  {
   "cell_type": "code",
   "execution_count": 38,
   "metadata": {},
   "outputs": [],
   "source": [
    "temp_df = temp_df.drop([\"level\"], axis = 1).drop([\"traits\"], axis = 1)"
   ]
  },
  {
   "cell_type": "code",
   "execution_count": 39,
   "metadata": {},
   "outputs": [
    {
     "data": {
      "text/html": [
       "<div>\n",
       "<style scoped>\n",
       "    .dataframe tbody tr th:only-of-type {\n",
       "        vertical-align: middle;\n",
       "    }\n",
       "\n",
       "    .dataframe tbody tr th {\n",
       "        vertical-align: top;\n",
       "    }\n",
       "\n",
       "    .dataframe thead th {\n",
       "        text-align: right;\n",
       "    }\n",
       "</style>\n",
       "<table border=\"1\" class=\"dataframe\">\n",
       "  <thead>\n",
       "    <tr style=\"text-align: right;\">\n",
       "      <th></th>\n",
       "      <th>character_id</th>\n",
       "      <th>items</th>\n",
       "      <th>rank</th>\n",
       "      <th>player_final_level</th>\n",
       "      <th>final_gold</th>\n",
       "      <th>item_index1</th>\n",
       "      <th>item_index2</th>\n",
       "      <th>item_index3</th>\n",
       "      <th>item_index4</th>\n",
       "      <th>item_index5</th>\n",
       "      <th>...</th>\n",
       "      <th>TFT3_Vi</th>\n",
       "      <th>TFT3_Viktor</th>\n",
       "      <th>TFT3_WuKong</th>\n",
       "      <th>TFT3_Xayah</th>\n",
       "      <th>TFT3_Xerath</th>\n",
       "      <th>TFT3_XinZhao</th>\n",
       "      <th>TFT3_Yasuo</th>\n",
       "      <th>TFT3_Zed</th>\n",
       "      <th>TFT3_Ziggs</th>\n",
       "      <th>TFT3_Zoe</th>\n",
       "    </tr>\n",
       "  </thead>\n",
       "  <tbody>\n",
       "    <tr>\n",
       "      <th>0</th>\n",
       "      <td>TFT3_Ashe</td>\n",
       "      <td>[0.0, 0.0, 0.0]</td>\n",
       "      <td>4.0</td>\n",
       "      <td>8</td>\n",
       "      <td>298</td>\n",
       "      <td>0.0</td>\n",
       "      <td>0.0</td>\n",
       "      <td>0.0</td>\n",
       "      <td>0.0</td>\n",
       "      <td>0.0</td>\n",
       "      <td>...</td>\n",
       "      <td>0</td>\n",
       "      <td>0</td>\n",
       "      <td>0</td>\n",
       "      <td>0</td>\n",
       "      <td>0</td>\n",
       "      <td>0</td>\n",
       "      <td>0</td>\n",
       "      <td>0</td>\n",
       "      <td>0</td>\n",
       "      <td>0</td>\n",
       "    </tr>\n",
       "    <tr>\n",
       "      <th>1</th>\n",
       "      <td>TFT3_Xayah</td>\n",
       "      <td>[19, 23, 0]</td>\n",
       "      <td>4.0</td>\n",
       "      <td>8</td>\n",
       "      <td>298</td>\n",
       "      <td>1.0</td>\n",
       "      <td>0.0</td>\n",
       "      <td>0.0</td>\n",
       "      <td>0.0</td>\n",
       "      <td>0.0</td>\n",
       "      <td>...</td>\n",
       "      <td>0</td>\n",
       "      <td>0</td>\n",
       "      <td>0</td>\n",
       "      <td>1</td>\n",
       "      <td>0</td>\n",
       "      <td>0</td>\n",
       "      <td>0</td>\n",
       "      <td>0</td>\n",
       "      <td>0</td>\n",
       "      <td>0</td>\n",
       "    </tr>\n",
       "    <tr>\n",
       "      <th>2</th>\n",
       "      <td>TFT3_Urgot</td>\n",
       "      <td>[3, 77, 0]</td>\n",
       "      <td>4.0</td>\n",
       "      <td>8</td>\n",
       "      <td>298</td>\n",
       "      <td>0.0</td>\n",
       "      <td>0.0</td>\n",
       "      <td>0.0</td>\n",
       "      <td>0.0</td>\n",
       "      <td>1.0</td>\n",
       "      <td>...</td>\n",
       "      <td>0</td>\n",
       "      <td>0</td>\n",
       "      <td>0</td>\n",
       "      <td>0</td>\n",
       "      <td>0</td>\n",
       "      <td>0</td>\n",
       "      <td>0</td>\n",
       "      <td>0</td>\n",
       "      <td>0</td>\n",
       "      <td>0</td>\n",
       "    </tr>\n",
       "    <tr>\n",
       "      <th>3</th>\n",
       "      <td>TFT3_XinZhao</td>\n",
       "      <td>[0.0, 0.0, 0.0]</td>\n",
       "      <td>4.0</td>\n",
       "      <td>8</td>\n",
       "      <td>298</td>\n",
       "      <td>0.0</td>\n",
       "      <td>0.0</td>\n",
       "      <td>0.0</td>\n",
       "      <td>0.0</td>\n",
       "      <td>0.0</td>\n",
       "      <td>...</td>\n",
       "      <td>0</td>\n",
       "      <td>0</td>\n",
       "      <td>0</td>\n",
       "      <td>0</td>\n",
       "      <td>0</td>\n",
       "      <td>1</td>\n",
       "      <td>0</td>\n",
       "      <td>0</td>\n",
       "      <td>0</td>\n",
       "      <td>0</td>\n",
       "    </tr>\n",
       "    <tr>\n",
       "      <th>4</th>\n",
       "      <td>TFT3_JarvanIV</td>\n",
       "      <td>[55, 66, 77]</td>\n",
       "      <td>4.0</td>\n",
       "      <td>8</td>\n",
       "      <td>298</td>\n",
       "      <td>0.0</td>\n",
       "      <td>0.0</td>\n",
       "      <td>0.0</td>\n",
       "      <td>0.0</td>\n",
       "      <td>0.0</td>\n",
       "      <td>...</td>\n",
       "      <td>0</td>\n",
       "      <td>0</td>\n",
       "      <td>0</td>\n",
       "      <td>0</td>\n",
       "      <td>0</td>\n",
       "      <td>0</td>\n",
       "      <td>0</td>\n",
       "      <td>0</td>\n",
       "      <td>0</td>\n",
       "      <td>0</td>\n",
       "    </tr>\n",
       "    <tr>\n",
       "      <th>5</th>\n",
       "      <td>TFT3_Rakan</td>\n",
       "      <td>[0.0, 0.0, 0.0]</td>\n",
       "      <td>4.0</td>\n",
       "      <td>8</td>\n",
       "      <td>298</td>\n",
       "      <td>0.0</td>\n",
       "      <td>0.0</td>\n",
       "      <td>0.0</td>\n",
       "      <td>0.0</td>\n",
       "      <td>0.0</td>\n",
       "      <td>...</td>\n",
       "      <td>0</td>\n",
       "      <td>0</td>\n",
       "      <td>0</td>\n",
       "      <td>0</td>\n",
       "      <td>0</td>\n",
       "      <td>0</td>\n",
       "      <td>0</td>\n",
       "      <td>0</td>\n",
       "      <td>0</td>\n",
       "      <td>0</td>\n",
       "    </tr>\n",
       "    <tr>\n",
       "      <th>6</th>\n",
       "      <td>TFT3_Riven</td>\n",
       "      <td>[0.0, 0.0, 0.0]</td>\n",
       "      <td>4.0</td>\n",
       "      <td>8</td>\n",
       "      <td>298</td>\n",
       "      <td>0.0</td>\n",
       "      <td>0.0</td>\n",
       "      <td>0.0</td>\n",
       "      <td>0.0</td>\n",
       "      <td>0.0</td>\n",
       "      <td>...</td>\n",
       "      <td>0</td>\n",
       "      <td>0</td>\n",
       "      <td>0</td>\n",
       "      <td>0</td>\n",
       "      <td>0</td>\n",
       "      <td>0</td>\n",
       "      <td>0</td>\n",
       "      <td>0</td>\n",
       "      <td>0</td>\n",
       "      <td>0</td>\n",
       "    </tr>\n",
       "    <tr>\n",
       "      <th>7</th>\n",
       "      <td>TFT3_Irelia</td>\n",
       "      <td>[15, 19, 44]</td>\n",
       "      <td>4.0</td>\n",
       "      <td>8</td>\n",
       "      <td>298</td>\n",
       "      <td>1.0</td>\n",
       "      <td>0.0</td>\n",
       "      <td>0.0</td>\n",
       "      <td>0.0</td>\n",
       "      <td>0.0</td>\n",
       "      <td>...</td>\n",
       "      <td>0</td>\n",
       "      <td>0</td>\n",
       "      <td>0</td>\n",
       "      <td>0</td>\n",
       "      <td>0</td>\n",
       "      <td>0</td>\n",
       "      <td>0</td>\n",
       "      <td>0</td>\n",
       "      <td>0</td>\n",
       "      <td>0</td>\n",
       "    </tr>\n",
       "    <tr>\n",
       "      <th>8</th>\n",
       "      <td>TFT3_Cassiopeia</td>\n",
       "      <td>[25, 0, 0]</td>\n",
       "      <td>3.0</td>\n",
       "      <td>9</td>\n",
       "      <td>335</td>\n",
       "      <td>0.0</td>\n",
       "      <td>0.0</td>\n",
       "      <td>1.0</td>\n",
       "      <td>0.0</td>\n",
       "      <td>0.0</td>\n",
       "      <td>...</td>\n",
       "      <td>0</td>\n",
       "      <td>0</td>\n",
       "      <td>0</td>\n",
       "      <td>0</td>\n",
       "      <td>0</td>\n",
       "      <td>0</td>\n",
       "      <td>0</td>\n",
       "      <td>0</td>\n",
       "      <td>0</td>\n",
       "      <td>0</td>\n",
       "    </tr>\n",
       "    <tr>\n",
       "      <th>9</th>\n",
       "      <td>TFT3_Viktor</td>\n",
       "      <td>[37, 0, 0]</td>\n",
       "      <td>3.0</td>\n",
       "      <td>9</td>\n",
       "      <td>335</td>\n",
       "      <td>0.0</td>\n",
       "      <td>0.0</td>\n",
       "      <td>0.0</td>\n",
       "      <td>0.0</td>\n",
       "      <td>1.0</td>\n",
       "      <td>...</td>\n",
       "      <td>0</td>\n",
       "      <td>1</td>\n",
       "      <td>0</td>\n",
       "      <td>0</td>\n",
       "      <td>0</td>\n",
       "      <td>0</td>\n",
       "      <td>0</td>\n",
       "      <td>0</td>\n",
       "      <td>0</td>\n",
       "      <td>0</td>\n",
       "    </tr>\n",
       "  </tbody>\n",
       "</table>\n",
       "<p>10 rows × 140 columns</p>\n",
       "</div>"
      ],
      "text/plain": [
       "      character_id            items  rank  player_final_level  final_gold  \\\n",
       "0        TFT3_Ashe  [0.0, 0.0, 0.0]   4.0                   8         298   \n",
       "1       TFT3_Xayah      [19, 23, 0]   4.0                   8         298   \n",
       "2       TFT3_Urgot       [3, 77, 0]   4.0                   8         298   \n",
       "3     TFT3_XinZhao  [0.0, 0.0, 0.0]   4.0                   8         298   \n",
       "4    TFT3_JarvanIV     [55, 66, 77]   4.0                   8         298   \n",
       "5       TFT3_Rakan  [0.0, 0.0, 0.0]   4.0                   8         298   \n",
       "6       TFT3_Riven  [0.0, 0.0, 0.0]   4.0                   8         298   \n",
       "7      TFT3_Irelia     [15, 19, 44]   4.0                   8         298   \n",
       "8  TFT3_Cassiopeia       [25, 0, 0]   3.0                   9         335   \n",
       "9      TFT3_Viktor       [37, 0, 0]   3.0                   9         335   \n",
       "\n",
       "   item_index1  item_index2  item_index3  item_index4  item_index5  ...  \\\n",
       "0          0.0          0.0          0.0          0.0          0.0  ...   \n",
       "1          1.0          0.0          0.0          0.0          0.0  ...   \n",
       "2          0.0          0.0          0.0          0.0          1.0  ...   \n",
       "3          0.0          0.0          0.0          0.0          0.0  ...   \n",
       "4          0.0          0.0          0.0          0.0          0.0  ...   \n",
       "5          0.0          0.0          0.0          0.0          0.0  ...   \n",
       "6          0.0          0.0          0.0          0.0          0.0  ...   \n",
       "7          1.0          0.0          0.0          0.0          0.0  ...   \n",
       "8          0.0          0.0          1.0          0.0          0.0  ...   \n",
       "9          0.0          0.0          0.0          0.0          1.0  ...   \n",
       "\n",
       "   TFT3_Vi  TFT3_Viktor  TFT3_WuKong  TFT3_Xayah  TFT3_Xerath  TFT3_XinZhao  \\\n",
       "0        0            0            0           0            0             0   \n",
       "1        0            0            0           1            0             0   \n",
       "2        0            0            0           0            0             0   \n",
       "3        0            0            0           0            0             1   \n",
       "4        0            0            0           0            0             0   \n",
       "5        0            0            0           0            0             0   \n",
       "6        0            0            0           0            0             0   \n",
       "7        0            0            0           0            0             0   \n",
       "8        0            0            0           0            0             0   \n",
       "9        0            1            0           0            0             0   \n",
       "\n",
       "   TFT3_Yasuo  TFT3_Zed  TFT3_Ziggs  TFT3_Zoe  \n",
       "0           0         0           0         0  \n",
       "1           0         0           0         0  \n",
       "2           0         0           0         0  \n",
       "3           0         0           0         0  \n",
       "4           0         0           0         0  \n",
       "5           0         0           0         0  \n",
       "6           0         0           0         0  \n",
       "7           0         0           0         0  \n",
       "8           0         0           0         0  \n",
       "9           0         0           0         0  \n",
       "\n",
       "[10 rows x 140 columns]"
      ]
     },
     "execution_count": 39,
     "metadata": {},
     "output_type": "execute_result"
    }
   ],
   "source": [
    "# Use one hot encoding to encode character_id\n",
    "temp_df = temp_df.join(pd.get_dummies(temp_df[\"character_id\"]))\n",
    "temp_df.head(10)"
   ]
  },
  {
   "cell_type": "code",
   "execution_count": 40,
   "metadata": {},
   "outputs": [],
   "source": [
    "# Split dataset into training and testing set\n",
    "train, test = train_test_split(temp_df,test_size=0.2)"
   ]
  },
  {
   "cell_type": "code",
   "execution_count": 41,
   "metadata": {},
   "outputs": [
    {
     "data": {
      "text/plain": [
       "Index(['character_id', 'items', 'rank', 'player_final_level', 'final_gold',\n",
       "       'item_index1', 'item_index2', 'item_index3', 'item_index4',\n",
       "       'item_index5',\n",
       "       ...\n",
       "       'TFT3_Vi', 'TFT3_Viktor', 'TFT3_WuKong', 'TFT3_Xayah', 'TFT3_Xerath',\n",
       "       'TFT3_XinZhao', 'TFT3_Yasuo', 'TFT3_Zed', 'TFT3_Ziggs', 'TFT3_Zoe'],\n",
       "      dtype='object', length=140)"
      ]
     },
     "execution_count": 41,
     "metadata": {},
     "output_type": "execute_result"
    }
   ],
   "source": [
    "test.columns"
   ]
  },
  {
   "cell_type": "code",
   "execution_count": 42,
   "metadata": {},
   "outputs": [],
   "source": [
    "test_x = test.iloc[:,3:].to_numpy()\n",
    "train_x = train.iloc[:,3:].to_numpy()"
   ]
  },
  {
   "cell_type": "code",
   "execution_count": 43,
   "metadata": {},
   "outputs": [],
   "source": [
    "test_y = test.iloc[:,2].to_numpy()\n",
    "train_y = train.iloc[:,2].to_numpy()"
   ]
  },
  {
   "cell_type": "code",
   "execution_count": 44,
   "metadata": {},
   "outputs": [],
   "source": [
    "reg = RandomForestRegressor(min_samples_leaf=1, min_samples_split=22, n_estimators=110, n_jobs=-1,verbose=5)"
   ]
  },
  {
   "cell_type": "code",
   "execution_count": 45,
   "metadata": {},
   "outputs": [
    {
     "name": "stderr",
     "output_type": "stream",
     "text": [
      "[Parallel(n_jobs=-1)]: Using backend ThreadingBackend with 12 concurrent workers.\n"
     ]
    },
    {
     "name": "stdout",
     "output_type": "stream",
     "text": [
      "building tree 1 of 110building tree 2 of 110\n",
      "building tree 3 of 110\n",
      "\n",
      "building tree 4 of 110\n",
      "building tree 5 of 110\n",
      "building tree 6 of 110\n",
      "building tree 7 of 110\n",
      "building tree 8 of 110\n",
      "building tree 9 of 110\n",
      "building tree 10 of 110\n",
      "building tree 11 of 110\n",
      "building tree 12 of 110\n",
      "building tree 13 of 110\n",
      "building tree 14 of 110\n",
      "building tree 15 of 110\n",
      "building tree 16 of 110\n",
      "building tree 17 of 110\n",
      "building tree 18 of 110\n",
      "building tree 19 of 110\n",
      "building tree 20 of 110\n",
      "building tree 21 of 110\n",
      "building tree 22 of 110\n",
      "building tree 23 of 110\n",
      "building tree 24 of 110\n",
      "building tree 25 of 110\n",
      "building tree 26 of 110\n",
      "building tree 27 of 110\n",
      "building tree 28 of 110\n",
      "building tree 29 of 110\n",
      "building tree 30 of 110building tree 31 of 110\n",
      "\n",
      "building tree 32 of 110\n",
      "building tree 33 of 110\n",
      "building tree 34 of 110\n",
      "building tree 35 of 110\n",
      "building tree 36 of 110\n",
      "building tree 37 of 110\n",
      "building tree 38 of 110\n",
      "building tree 39 of 110\n",
      "building tree 40 of 110\n",
      "building tree 41 of 110\n",
      "building tree 42 of 110\n",
      "building tree 43 of 110\n",
      "building tree 44 of 110\n",
      "building tree 45 of 110\n",
      "building tree 46 of 110\n",
      "building tree 47 of 110\n",
      "building tree 48 of 110\n",
      "building tree 49 of 110\n",
      "building tree 50 of 110\n",
      "building tree 51 of 110\n",
      "building tree 52 of 110\n",
      "building tree 53 of 110\n",
      "building tree 54 of 110\n",
      "building tree 55 of 110\n",
      "building tree 56 of 110\n",
      "building tree 57 of 110\n",
      "building tree 58 of 110\n",
      "building tree 59 of 110\n",
      "building tree 60 of 110\n"
     ]
    },
    {
     "name": "stderr",
     "output_type": "stream",
     "text": [
      "[Parallel(n_jobs=-1)]: Done  48 tasks      | elapsed:   13.3s\n"
     ]
    },
    {
     "name": "stdout",
     "output_type": "stream",
     "text": [
      "building tree 61 of 110\n",
      "building tree 62 of 110\n",
      "building tree 63 of 110\n",
      "building tree 64 of 110\n",
      "building tree 65 of 110\n",
      "building tree 66 of 110\n",
      "building tree 67 of 110\n",
      "building tree 68 of 110\n",
      "building tree 69 of 110\n",
      "building tree 70 of 110\n",
      "building tree 71 of 110\n",
      "building tree 72 of 110\n",
      "building tree 73 of 110\n",
      "building tree 74 of 110\n",
      "building tree 75 of 110\n",
      "building tree 76 of 110\n",
      "building tree 77 of 110\n",
      "building tree 78 of 110\n",
      "building tree 79 of 110\n",
      "building tree 80 of 110\n",
      "building tree 81 of 110\n",
      "building tree 82 of 110\n",
      "building tree 83 of 110\n",
      "building tree 84 of 110\n",
      "building tree 85 of 110\n",
      "building tree 86 of 110\n",
      "building tree 87 of 110\n",
      "building tree 88 of 110\n",
      "building tree 89 of 110\n",
      "building tree 90 of 110\n",
      "building tree 91 of 110\n",
      "building tree 92 of 110\n",
      "building tree 93 of 110\n",
      "building tree 94 of 110\n",
      "building tree 95 of 110\n",
      "building tree 96 of 110\n",
      "building tree 97 of 110\n",
      "building tree 98 of 110\n",
      "building tree 99 of 110\n",
      "building tree 100 of 110\n",
      "building tree 101 of 110\n",
      "building tree 102 of 110\n",
      "building tree 103 of 110\n",
      "building tree 104 of 110\n",
      "building tree 105 of 110\n",
      "building tree 106 of 110\n",
      "building tree 107 of 110\n",
      "building tree 108 of 110\n",
      "building tree 109 of 110\n",
      "building tree 110 of 110\n"
     ]
    },
    {
     "name": "stderr",
     "output_type": "stream",
     "text": [
      "[Parallel(n_jobs=-1)]: Done 110 out of 110 | elapsed:   30.4s remaining:    0.0s\n",
      "[Parallel(n_jobs=-1)]: Done 110 out of 110 | elapsed:   30.4s finished\n"
     ]
    },
    {
     "data": {
      "text/plain": [
       "RandomForestRegressor(min_samples_split=22, n_estimators=110, n_jobs=-1,\n",
       "                      verbose=5)"
      ]
     },
     "execution_count": 45,
     "metadata": {},
     "output_type": "execute_result"
    }
   ],
   "source": [
    "reg.fit(train_x,train_y)"
   ]
  },
  {
   "cell_type": "code",
   "execution_count": 46,
   "metadata": {},
   "outputs": [
    {
     "name": "stderr",
     "output_type": "stream",
     "text": [
      "[Parallel(n_jobs=12)]: Using backend ThreadingBackend with 12 concurrent workers.\n",
      "[Parallel(n_jobs=12)]: Done  48 tasks      | elapsed:    0.0s\n",
      "[Parallel(n_jobs=12)]: Done 110 out of 110 | elapsed:    0.0s remaining:    0.0s\n",
      "[Parallel(n_jobs=12)]: Done 110 out of 110 | elapsed:    0.0s finished\n"
     ]
    }
   ],
   "source": [
    "pred_y = reg.predict(test_x)"
   ]
  },
  {
   "cell_type": "code",
   "execution_count": 47,
   "metadata": {},
   "outputs": [
    {
     "data": {
      "text/plain": [
       "0.6657963841868273"
      ]
     },
     "execution_count": 47,
     "metadata": {},
     "output_type": "execute_result"
    }
   ],
   "source": [
    "mean_squared_error(test_y,pred_y)"
   ]
  },
  {
   "cell_type": "code",
   "execution_count": 48,
   "metadata": {},
   "outputs": [
    {
     "data": {
      "text/plain": [
       "0.5737311612008535"
      ]
     },
     "execution_count": 48,
     "metadata": {},
     "output_type": "execute_result"
    }
   ],
   "source": [
    "mean_absolute_error(test_y,pred_y)"
   ]
  },
  {
   "cell_type": "code",
   "execution_count": 49,
   "metadata": {},
   "outputs": [],
   "source": [
    "reg2 = RandomForestRegressor(n_jobs=-1)"
   ]
  },
  {
   "cell_type": "code",
   "execution_count": 50,
   "metadata": {},
   "outputs": [
    {
     "data": {
      "text/plain": [
       "{'n_estimators': array([ 50,  80, 110, 140, 170, 200, 230, 260, 290]),\n",
       " 'min_samples_split': array([ 2,  6, 10, 14, 18, 22, 26, 30, 34]),\n",
       " 'min_samples_leaf': array([1, 3, 5, 7, 9])}"
      ]
     },
     "execution_count": 50,
     "metadata": {},
     "output_type": "execute_result"
    }
   ],
   "source": [
    "params = {\"n_estimators\" : np.arange(50,300,30),\n",
    "\"min_samples_split\" : np.arange(2,38,4),\n",
    "\"min_samples_leaf\" : np.arange(1,10,2),\n",
    "}\n",
    "params"
   ]
  },
  {
   "cell_type": "code",
   "execution_count": 51,
   "metadata": {},
   "outputs": [],
   "source": [
    "#clf = GridSearchCV(reg2, params, verbose=10, n_jobs=-1, cv=3)"
   ]
  },
  {
   "cell_type": "code",
   "execution_count": 31,
   "metadata": {},
   "outputs": [],
   "source": [
    "#clf.fit(train_x,train_y)"
   ]
  },
  {
   "cell_type": "code",
   "execution_count": 52,
   "metadata": {},
   "outputs": [
    {
     "name": "stdout",
     "output_type": "stream",
     "text": [
      "[5.62754665 4.66312467 4.31050145 ... 3.3174374  5.33039596 2.12205241]\n"
     ]
    }
   ],
   "source": [
    "print(pred_y)"
   ]
  },
  {
   "cell_type": "code",
   "execution_count": 71,
   "metadata": {},
   "outputs": [
    {
     "name": "stdout",
     "output_type": "stream",
     "text": [
      "[  1   0  78  73  75  72  69  63  67  71  65  66  64  56  68  74  60  57\n",
      "  58  79  77  61  62  59  70  76  14   6  18   4   8  12  32  10  28  26\n",
      "  36   9  50  16   2  30  24  22 120  13  54  20  31 115  46  27  11 125\n",
      "  33   5  23  55  99  48  44 107  25  42  81 129   7  34 103  38 128  40\n",
      " 101  51  91 123   3 132  52  82  29  90 112  95  86  80 127  84  94 113\n",
      " 111  97 131 105 119 117 100 124 136  89  15  17  45 126 133 110 106 114\n",
      "  85 116  92  41 130  87  49  98 109 118 135 102 134 108  88 121  83  96\n",
      "  53 122  35 104  43  93  37  47  19  21  39]\n"
     ]
    }
   ],
   "source": [
    "important_features = np.argsort(np.array(-reg.feature_importances_))\n",
    "print(important_features)"
   ]
  },
  {
   "cell_type": "code",
   "execution_count": 74,
   "metadata": {},
   "outputs": [
    {
     "name": "stdout",
     "output_type": "stream",
     "text": [
      "['final_gold' 'player_final_level' 'SpacePirate' 'Chrono' 'DarkStar'\n",
      " 'Celestial' 'Vanguard' 'Mystic' 'Sorcerer' 'Battlecast' 'Protector'\n",
      " 'Sniper' 'Paragon' 'Blademaster' 'Starship' 'Cybernetic' 'Infiltrator'\n",
      " 'Blaster' 'Brawler' 'StarGuardian' 'Rebel' 'ManaReaver' 'Mercenary'\n",
      " 'Demolitionist' 'Astro' 'MechPilot' 'item_index13' 'item_index5'\n",
      " 'item_index17' 'item_index3' 'item_index7' 'item_index11' 'item_index31'\n",
      " 'item_index9' 'item_index27' 'item_index25' 'item_index35' 'item_index8'\n",
      " 'item_index49' 'item_index15' 'item_index1' 'item_index29' 'item_index23'\n",
      " 'item_index21' 'TFT3_Soraka' 'item_index12' 'item_index53' 'item_index19'\n",
      " 'item_index30' 'TFT3_Rakan' 'item_index45' 'item_index26' 'item_index10'\n",
      " 'TFT3_Urgot' 'item_index32' 'item_index4' 'item_index22' 'item_index54'\n",
      " 'TFT3_JarvanIV' 'item_index47' 'item_index43' 'TFT3_Lulu' 'item_index24'\n",
      " 'item_index41' 'TFT3_Annie' 'TFT3_WuKong' 'item_index6' 'item_index33'\n",
      " 'TFT3_Karma' 'item_index37' 'TFT3_Viktor' 'item_index39' 'TFT3_Jhin'\n",
      " 'item_index50' 'TFT3_Fiora' 'TFT3_Thresh' 'item_index2' 'TFT3_XinZhao'\n",
      " 'item_index51' 'TFT3_Ashe' 'item_index28' 'TFT3_Ezreal' 'TFT3_Neeko'\n",
      " 'TFT3_Graves' 'TFT3_Caitlyn' 'TFT3_Ahri' 'TFT3_Vi' 'TFT3_Bard'\n",
      " 'TFT3_Gnar' 'TFT3_Nocturne' 'TFT3_Nautilus' 'TFT3_Irelia' 'TFT3_Xerath'\n",
      " 'TFT3_Leona' 'TFT3_Shen' 'TFT3_Rumble' 'TFT3_Jayce' 'TFT3_TwistedFate'\n",
      " 'TFT3_Zoe' 'TFT3_Ekko' 'item_index14' 'item_index16' 'item_index44'\n",
      " 'TFT3_Vayne' 'TFT3_Yasuo' 'TFT3_Mordekaiser' 'TFT3_Lucian' 'TFT3_Poppy'\n",
      " 'TFT3_Blitzcrank' 'TFT3_Riven' 'TFT3_Fizz' 'item_index40' 'TFT3_Xayah'\n",
      " 'TFT3_Cassiopeia' 'item_index48' 'TFT3_Janna' 'TFT3_MasterYi'\n",
      " 'TFT3_Shaco' 'TFT3_Ziggs' 'TFT3_Jinx' 'TFT3_Zed' 'TFT3_Malphite'\n",
      " 'TFT3_Darius' 'TFT3_Syndra' 'TFT3_AurelionSol' 'TFT3_Illaoi'\n",
      " 'item_index52' 'TFT3_Teemo' 'item_index34' 'TFT3_KogMaw' 'item_index42'\n",
      " 'TFT3_Gangplank' 'item_index36' 'item_index46' 'item_index18'\n",
      " 'item_index20' 'item_index38']\n"
     ]
    }
   ],
   "source": [
    "column_list = test.columns[3:].to_numpy()\n",
    "print(column_list[important_features])\n",
    "    "
   ]
  },
  {
   "cell_type": "code",
   "execution_count": null,
   "metadata": {},
   "outputs": [],
   "source": []
  }
 ],
 "metadata": {
  "kernelspec": {
   "display_name": "Python 3",
   "language": "python",
   "name": "python3"
  },
  "language_info": {
   "codemirror_mode": {
    "name": "ipython",
    "version": 3
   },
   "file_extension": ".py",
   "mimetype": "text/x-python",
   "name": "python",
   "nbconvert_exporter": "python",
   "pygments_lexer": "ipython3",
   "version": "3.8.5"
  }
 },
 "nbformat": 4,
 "nbformat_minor": 4
}
