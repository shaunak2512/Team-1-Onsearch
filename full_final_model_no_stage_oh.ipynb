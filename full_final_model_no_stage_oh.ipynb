{
 "cells": [
  {
   "cell_type": "code",
   "execution_count": 1,
   "metadata": {},
   "outputs": [],
   "source": [
    "import numpy as np\n",
    "import pandas as pd\n",
    "import json\n",
    "from typing import Dict\n",
    "from itertools import groupby, chain\n",
    "from functools import reduce\n",
    "from collections import Counter, defaultdict\n",
    "import re\n",
    "from sklearn.preprocessing import OneHotEncoder \n",
    "from sklearn.feature_extraction import DictVectorizer\n",
    "from sklearn.model_selection import train_test_split\n",
    "from sklearn.ensemble import RandomForestRegressor, RandomForestClassifier \n",
    "from sklearn.metrics import mean_squared_error, mean_absolute_error, accuracy_score\n",
    "import pickle"
   ]
  },
  {
   "cell_type": "code",
   "execution_count": 2,
   "metadata": {},
   "outputs": [],
   "source": [
    "combined_df = pd.read_pickle(\"final_data_frame_one_hot\")"
   ]
  },
  {
   "cell_type": "code",
   "execution_count": 3,
   "metadata": {},
   "outputs": [
    {
     "data": {
      "text/html": [
       "<div>\n",
       "<style scoped>\n",
       "    .dataframe tbody tr th:only-of-type {\n",
       "        vertical-align: middle;\n",
       "    }\n",
       "\n",
       "    .dataframe tbody tr th {\n",
       "        vertical-align: top;\n",
       "    }\n",
       "\n",
       "    .dataframe thead th {\n",
       "        text-align: right;\n",
       "    }\n",
       "</style>\n",
       "<table border=\"1\" class=\"dataframe\">\n",
       "  <thead>\n",
       "    <tr style=\"text-align: right;\">\n",
       "      <th></th>\n",
       "      <th>stage</th>\n",
       "      <th>gold_spent</th>\n",
       "      <th>level</th>\n",
       "      <th>rank</th>\n",
       "      <th>item_index1</th>\n",
       "      <th>item_index2</th>\n",
       "      <th>item_index3</th>\n",
       "      <th>item_index4</th>\n",
       "      <th>item_index5</th>\n",
       "      <th>item_index6</th>\n",
       "      <th>...</th>\n",
       "      <th>Starship</th>\n",
       "      <th>Vanguard</th>\n",
       "      <th>stage_1</th>\n",
       "      <th>stage_2</th>\n",
       "      <th>stage_3</th>\n",
       "      <th>stage_4</th>\n",
       "      <th>stage_5</th>\n",
       "      <th>stage_6</th>\n",
       "      <th>stage_7</th>\n",
       "      <th>stage_8</th>\n",
       "    </tr>\n",
       "  </thead>\n",
       "  <tbody>\n",
       "    <tr>\n",
       "      <th>0</th>\n",
       "      <td>1</td>\n",
       "      <td>4.0</td>\n",
       "      <td>2.000000</td>\n",
       "      <td>4</td>\n",
       "      <td>0.0</td>\n",
       "      <td>0.0</td>\n",
       "      <td>0.0</td>\n",
       "      <td>0.0</td>\n",
       "      <td>0.0</td>\n",
       "      <td>0.0</td>\n",
       "      <td>...</td>\n",
       "      <td>0.0</td>\n",
       "      <td>0.0</td>\n",
       "      <td>1</td>\n",
       "      <td>0</td>\n",
       "      <td>0</td>\n",
       "      <td>0</td>\n",
       "      <td>0</td>\n",
       "      <td>0</td>\n",
       "      <td>0</td>\n",
       "      <td>0</td>\n",
       "    </tr>\n",
       "    <tr>\n",
       "      <th>1</th>\n",
       "      <td>1</td>\n",
       "      <td>4.0</td>\n",
       "      <td>2.000000</td>\n",
       "      <td>4</td>\n",
       "      <td>0.0</td>\n",
       "      <td>0.0</td>\n",
       "      <td>0.0</td>\n",
       "      <td>0.0</td>\n",
       "      <td>0.0</td>\n",
       "      <td>0.0</td>\n",
       "      <td>...</td>\n",
       "      <td>0.0</td>\n",
       "      <td>0.0</td>\n",
       "      <td>1</td>\n",
       "      <td>0</td>\n",
       "      <td>0</td>\n",
       "      <td>0</td>\n",
       "      <td>0</td>\n",
       "      <td>0</td>\n",
       "      <td>0</td>\n",
       "      <td>0</td>\n",
       "    </tr>\n",
       "    <tr>\n",
       "      <th>2</th>\n",
       "      <td>2</td>\n",
       "      <td>20.0</td>\n",
       "      <td>4.166667</td>\n",
       "      <td>4</td>\n",
       "      <td>0.0</td>\n",
       "      <td>0.0</td>\n",
       "      <td>0.0</td>\n",
       "      <td>0.0</td>\n",
       "      <td>0.0</td>\n",
       "      <td>0.0</td>\n",
       "      <td>...</td>\n",
       "      <td>0.0</td>\n",
       "      <td>1.0</td>\n",
       "      <td>0</td>\n",
       "      <td>1</td>\n",
       "      <td>0</td>\n",
       "      <td>0</td>\n",
       "      <td>0</td>\n",
       "      <td>0</td>\n",
       "      <td>0</td>\n",
       "      <td>0</td>\n",
       "    </tr>\n",
       "    <tr>\n",
       "      <th>3</th>\n",
       "      <td>2</td>\n",
       "      <td>20.0</td>\n",
       "      <td>4.166667</td>\n",
       "      <td>4</td>\n",
       "      <td>0.0</td>\n",
       "      <td>0.0</td>\n",
       "      <td>0.0</td>\n",
       "      <td>0.0</td>\n",
       "      <td>0.0</td>\n",
       "      <td>0.0</td>\n",
       "      <td>...</td>\n",
       "      <td>0.0</td>\n",
       "      <td>1.0</td>\n",
       "      <td>0</td>\n",
       "      <td>1</td>\n",
       "      <td>0</td>\n",
       "      <td>0</td>\n",
       "      <td>0</td>\n",
       "      <td>0</td>\n",
       "      <td>0</td>\n",
       "      <td>0</td>\n",
       "    </tr>\n",
       "    <tr>\n",
       "      <th>4</th>\n",
       "      <td>2</td>\n",
       "      <td>20.0</td>\n",
       "      <td>4.166667</td>\n",
       "      <td>4</td>\n",
       "      <td>0.0</td>\n",
       "      <td>0.0</td>\n",
       "      <td>0.0</td>\n",
       "      <td>0.0</td>\n",
       "      <td>0.0</td>\n",
       "      <td>0.0</td>\n",
       "      <td>...</td>\n",
       "      <td>0.0</td>\n",
       "      <td>1.0</td>\n",
       "      <td>0</td>\n",
       "      <td>1</td>\n",
       "      <td>0</td>\n",
       "      <td>0</td>\n",
       "      <td>0</td>\n",
       "      <td>0</td>\n",
       "      <td>0</td>\n",
       "      <td>0</td>\n",
       "    </tr>\n",
       "  </tbody>\n",
       "</table>\n",
       "<p>5 rows × 147 columns</p>\n",
       "</div>"
      ],
      "text/plain": [
       "   stage  gold_spent     level rank  item_index1  item_index2  item_index3  \\\n",
       "0      1         4.0  2.000000    4          0.0          0.0          0.0   \n",
       "1      1         4.0  2.000000    4          0.0          0.0          0.0   \n",
       "2      2        20.0  4.166667    4          0.0          0.0          0.0   \n",
       "3      2        20.0  4.166667    4          0.0          0.0          0.0   \n",
       "4      2        20.0  4.166667    4          0.0          0.0          0.0   \n",
       "\n",
       "   item_index4  item_index5  item_index6  ...  Starship  Vanguard  stage_1  \\\n",
       "0          0.0          0.0          0.0  ...       0.0       0.0        1   \n",
       "1          0.0          0.0          0.0  ...       0.0       0.0        1   \n",
       "2          0.0          0.0          0.0  ...       0.0       1.0        0   \n",
       "3          0.0          0.0          0.0  ...       0.0       1.0        0   \n",
       "4          0.0          0.0          0.0  ...       0.0       1.0        0   \n",
       "\n",
       "   stage_2  stage_3  stage_4  stage_5  stage_6  stage_7  stage_8  \n",
       "0        0        0        0        0        0        0        0  \n",
       "1        0        0        0        0        0        0        0  \n",
       "2        1        0        0        0        0        0        0  \n",
       "3        1        0        0        0        0        0        0  \n",
       "4        1        0        0        0        0        0        0  \n",
       "\n",
       "[5 rows x 147 columns]"
      ]
     },
     "execution_count": 3,
     "metadata": {},
     "output_type": "execute_result"
    }
   ],
   "source": [
    "combined_df.head()"
   ]
  },
  {
   "cell_type": "code",
   "execution_count": 4,
   "metadata": {},
   "outputs": [],
   "source": [
    "combined_df = combined_df.drop(columns = [\"stage_1\", \"stage_2\", \"stage_3\", \"stage_4\", \"stage_5\", \"stage_6\", \"stage_7\", \"stage_8\"])"
   ]
  },
  {
   "cell_type": "markdown",
   "metadata": {},
   "source": [
    "### Create training and test sets"
   ]
  },
  {
   "cell_type": "code",
   "execution_count": 5,
   "metadata": {},
   "outputs": [],
   "source": [
    "X = combined_df.drop(columns = ['rank'])\n",
    "Y = combined_df['rank']"
   ]
  },
  {
   "cell_type": "code",
   "execution_count": 6,
   "metadata": {},
   "outputs": [
    {
     "data": {
      "text/html": [
       "<div>\n",
       "<style scoped>\n",
       "    .dataframe tbody tr th:only-of-type {\n",
       "        vertical-align: middle;\n",
       "    }\n",
       "\n",
       "    .dataframe tbody tr th {\n",
       "        vertical-align: top;\n",
       "    }\n",
       "\n",
       "    .dataframe thead th {\n",
       "        text-align: right;\n",
       "    }\n",
       "</style>\n",
       "<table border=\"1\" class=\"dataframe\">\n",
       "  <thead>\n",
       "    <tr style=\"text-align: right;\">\n",
       "      <th></th>\n",
       "      <th>stage</th>\n",
       "      <th>gold_spent</th>\n",
       "      <th>level</th>\n",
       "      <th>item_index1</th>\n",
       "      <th>item_index2</th>\n",
       "      <th>item_index3</th>\n",
       "      <th>item_index4</th>\n",
       "      <th>item_index5</th>\n",
       "      <th>item_index6</th>\n",
       "      <th>item_index7</th>\n",
       "      <th>...</th>\n",
       "      <th>Mystic</th>\n",
       "      <th>Paragon</th>\n",
       "      <th>Protector</th>\n",
       "      <th>Rebel</th>\n",
       "      <th>Sniper</th>\n",
       "      <th>Sorcerer</th>\n",
       "      <th>SpacePirate</th>\n",
       "      <th>StarGuardian</th>\n",
       "      <th>Starship</th>\n",
       "      <th>Vanguard</th>\n",
       "    </tr>\n",
       "  </thead>\n",
       "  <tbody>\n",
       "    <tr>\n",
       "      <th>0</th>\n",
       "      <td>1</td>\n",
       "      <td>4.0</td>\n",
       "      <td>2.000000</td>\n",
       "      <td>0.0</td>\n",
       "      <td>0.0</td>\n",
       "      <td>0.0</td>\n",
       "      <td>0.0</td>\n",
       "      <td>0.0</td>\n",
       "      <td>0.0</td>\n",
       "      <td>0.0</td>\n",
       "      <td>...</td>\n",
       "      <td>0.0</td>\n",
       "      <td>0.0</td>\n",
       "      <td>1.0</td>\n",
       "      <td>0.0</td>\n",
       "      <td>0.0</td>\n",
       "      <td>0.0</td>\n",
       "      <td>0.0</td>\n",
       "      <td>0.0</td>\n",
       "      <td>0.0</td>\n",
       "      <td>0.0</td>\n",
       "    </tr>\n",
       "    <tr>\n",
       "      <th>1</th>\n",
       "      <td>1</td>\n",
       "      <td>4.0</td>\n",
       "      <td>2.000000</td>\n",
       "      <td>0.0</td>\n",
       "      <td>0.0</td>\n",
       "      <td>0.0</td>\n",
       "      <td>0.0</td>\n",
       "      <td>0.0</td>\n",
       "      <td>0.0</td>\n",
       "      <td>0.0</td>\n",
       "      <td>...</td>\n",
       "      <td>0.0</td>\n",
       "      <td>0.0</td>\n",
       "      <td>1.0</td>\n",
       "      <td>0.0</td>\n",
       "      <td>0.0</td>\n",
       "      <td>0.0</td>\n",
       "      <td>0.0</td>\n",
       "      <td>0.0</td>\n",
       "      <td>0.0</td>\n",
       "      <td>0.0</td>\n",
       "    </tr>\n",
       "    <tr>\n",
       "      <th>2</th>\n",
       "      <td>2</td>\n",
       "      <td>20.0</td>\n",
       "      <td>4.166667</td>\n",
       "      <td>0.0</td>\n",
       "      <td>0.0</td>\n",
       "      <td>0.0</td>\n",
       "      <td>0.0</td>\n",
       "      <td>0.0</td>\n",
       "      <td>0.0</td>\n",
       "      <td>0.0</td>\n",
       "      <td>...</td>\n",
       "      <td>1.0</td>\n",
       "      <td>0.0</td>\n",
       "      <td>2.0</td>\n",
       "      <td>0.0</td>\n",
       "      <td>0.0</td>\n",
       "      <td>0.0</td>\n",
       "      <td>0.0</td>\n",
       "      <td>0.0</td>\n",
       "      <td>0.0</td>\n",
       "      <td>1.0</td>\n",
       "    </tr>\n",
       "    <tr>\n",
       "      <th>3</th>\n",
       "      <td>2</td>\n",
       "      <td>20.0</td>\n",
       "      <td>4.166667</td>\n",
       "      <td>0.0</td>\n",
       "      <td>0.0</td>\n",
       "      <td>0.0</td>\n",
       "      <td>0.0</td>\n",
       "      <td>0.0</td>\n",
       "      <td>0.0</td>\n",
       "      <td>0.0</td>\n",
       "      <td>...</td>\n",
       "      <td>1.0</td>\n",
       "      <td>0.0</td>\n",
       "      <td>2.0</td>\n",
       "      <td>0.0</td>\n",
       "      <td>0.0</td>\n",
       "      <td>0.0</td>\n",
       "      <td>0.0</td>\n",
       "      <td>0.0</td>\n",
       "      <td>0.0</td>\n",
       "      <td>1.0</td>\n",
       "    </tr>\n",
       "    <tr>\n",
       "      <th>4</th>\n",
       "      <td>2</td>\n",
       "      <td>20.0</td>\n",
       "      <td>4.166667</td>\n",
       "      <td>0.0</td>\n",
       "      <td>0.0</td>\n",
       "      <td>0.0</td>\n",
       "      <td>0.0</td>\n",
       "      <td>0.0</td>\n",
       "      <td>0.0</td>\n",
       "      <td>0.0</td>\n",
       "      <td>...</td>\n",
       "      <td>1.0</td>\n",
       "      <td>0.0</td>\n",
       "      <td>2.0</td>\n",
       "      <td>0.0</td>\n",
       "      <td>0.0</td>\n",
       "      <td>0.0</td>\n",
       "      <td>0.0</td>\n",
       "      <td>0.0</td>\n",
       "      <td>0.0</td>\n",
       "      <td>1.0</td>\n",
       "    </tr>\n",
       "  </tbody>\n",
       "</table>\n",
       "<p>5 rows × 138 columns</p>\n",
       "</div>"
      ],
      "text/plain": [
       "   stage  gold_spent     level  item_index1  item_index2  item_index3  \\\n",
       "0      1         4.0  2.000000          0.0          0.0          0.0   \n",
       "1      1         4.0  2.000000          0.0          0.0          0.0   \n",
       "2      2        20.0  4.166667          0.0          0.0          0.0   \n",
       "3      2        20.0  4.166667          0.0          0.0          0.0   \n",
       "4      2        20.0  4.166667          0.0          0.0          0.0   \n",
       "\n",
       "   item_index4  item_index5  item_index6  item_index7  ...  Mystic  Paragon  \\\n",
       "0          0.0          0.0          0.0          0.0  ...     0.0      0.0   \n",
       "1          0.0          0.0          0.0          0.0  ...     0.0      0.0   \n",
       "2          0.0          0.0          0.0          0.0  ...     1.0      0.0   \n",
       "3          0.0          0.0          0.0          0.0  ...     1.0      0.0   \n",
       "4          0.0          0.0          0.0          0.0  ...     1.0      0.0   \n",
       "\n",
       "   Protector  Rebel  Sniper  Sorcerer  SpacePirate  StarGuardian  Starship  \\\n",
       "0        1.0    0.0     0.0       0.0          0.0           0.0       0.0   \n",
       "1        1.0    0.0     0.0       0.0          0.0           0.0       0.0   \n",
       "2        2.0    0.0     0.0       0.0          0.0           0.0       0.0   \n",
       "3        2.0    0.0     0.0       0.0          0.0           0.0       0.0   \n",
       "4        2.0    0.0     0.0       0.0          0.0           0.0       0.0   \n",
       "\n",
       "   Vanguard  \n",
       "0       0.0  \n",
       "1       0.0  \n",
       "2       1.0  \n",
       "3       1.0  \n",
       "4       1.0  \n",
       "\n",
       "[5 rows x 138 columns]"
      ]
     },
     "execution_count": 6,
     "metadata": {},
     "output_type": "execute_result"
    }
   ],
   "source": [
    "X.head()"
   ]
  },
  {
   "cell_type": "code",
   "execution_count": 7,
   "metadata": {},
   "outputs": [
    {
     "data": {
      "text/plain": [
       "0    4\n",
       "1    4\n",
       "2    4\n",
       "3    4\n",
       "4    4\n",
       "Name: rank, dtype: object"
      ]
     },
     "execution_count": 7,
     "metadata": {},
     "output_type": "execute_result"
    }
   ],
   "source": [
    "Y.head()"
   ]
  },
  {
   "cell_type": "code",
   "execution_count": 8,
   "metadata": {},
   "outputs": [],
   "source": [
    "train_x, test_x, train_y, test_y = train_test_split(X,Y,test_size=0.2)"
   ]
  },
  {
   "cell_type": "markdown",
   "metadata": {},
   "source": [
    "## Create and run Random Forest Regressor to predict rank"
   ]
  },
  {
   "cell_type": "code",
   "execution_count": 9,
   "metadata": {},
   "outputs": [],
   "source": [
    "reg = RandomForestRegressor(n_jobs=-1)"
   ]
  },
  {
   "cell_type": "code",
   "execution_count": 10,
   "metadata": {},
   "outputs": [
    {
     "data": {
      "text/plain": [
       "RandomForestRegressor(n_jobs=-1)"
      ]
     },
     "execution_count": 10,
     "metadata": {},
     "output_type": "execute_result"
    }
   ],
   "source": [
    "reg.fit(train_x,train_y)"
   ]
  },
  {
   "cell_type": "code",
   "execution_count": 11,
   "metadata": {},
   "outputs": [],
   "source": [
    "pred_y = reg.predict(test_x)"
   ]
  },
  {
   "cell_type": "code",
   "execution_count": 12,
   "metadata": {},
   "outputs": [
    {
     "data": {
      "text/plain": [
       "1.136398770539936"
      ]
     },
     "execution_count": 12,
     "metadata": {},
     "output_type": "execute_result"
    }
   ],
   "source": [
    "mean_squared_error(test_y,pred_y)"
   ]
  },
  {
   "cell_type": "code",
   "execution_count": 13,
   "metadata": {},
   "outputs": [
    {
     "data": {
      "text/plain": [
       "0.4872033666976614"
      ]
     },
     "execution_count": 13,
     "metadata": {},
     "output_type": "execute_result"
    }
   ],
   "source": [
    "mean_absolute_error(test_y,np.round(pred_y))"
   ]
  },
  {
   "cell_type": "code",
   "execution_count": 14,
   "metadata": {},
   "outputs": [],
   "source": [
    "def rank_accuracy(true,pred):\n",
    "    return np.sum([x == y for x,y in zip(true,pred)])/true.shape[0]"
   ]
  },
  {
   "cell_type": "markdown",
   "metadata": {},
   "source": [
    "### Accuracy of Random Forest regressor"
   ]
  },
  {
   "cell_type": "code",
   "execution_count": 15,
   "metadata": {},
   "outputs": [
    {
     "data": {
      "text/plain": [
       "0.7183777258441925"
      ]
     },
     "execution_count": 15,
     "metadata": {},
     "output_type": "execute_result"
    }
   ],
   "source": [
    "rank_accuracy(test_y.astype(int), np.round(pred_y).astype(int))"
   ]
  },
  {
   "cell_type": "code",
   "execution_count": 16,
   "metadata": {},
   "outputs": [
    {
     "data": {
      "text/plain": [
       "array([1.04101706e-01, 2.27460754e-01, 1.03289175e-01, 7.76457074e-04,\n",
       "       1.02490493e-04, 5.48900630e-04, 1.05823942e-04, 3.74600507e-04,\n",
       "       1.09867892e-04, 3.72042548e-04, 7.41849597e-06, 6.03460827e-04,\n",
       "       7.21733777e-05, 2.29485385e-04, 9.38264667e-06, 1.83924067e-04,\n",
       "       1.46966020e-07, 1.87630197e-05, 2.02915226e-07, 2.59685133e-04,\n",
       "       0.00000000e+00, 1.43943593e-03, 8.88140646e-05, 1.18118920e-03,\n",
       "       2.98724754e-04, 1.24143613e-03, 4.82689698e-04, 1.03743085e-03,\n",
       "       1.14587651e-04, 1.17950308e-03, 2.84134154e-04, 8.69186778e-04,\n",
       "       1.73756017e-04, 7.36577430e-04, 2.42675684e-05, 8.45101230e-05,\n",
       "       8.89070701e-06, 1.24329688e-03, 0.00000000e+00, 2.80735619e-03,\n",
       "       7.75441607e-05, 2.60950506e-03, 5.51737165e-04, 3.08550633e-03,\n",
       "       5.76462542e-04, 3.16198282e-03, 1.01318201e-03, 2.93154199e-03,\n",
       "       6.45582924e-04, 2.98716588e-03, 6.94366951e-04, 3.39209546e-03,\n",
       "       8.46595811e-04, 9.47036429e-04, 3.29819592e-04, 3.10063316e-03,\n",
       "       7.18725784e-04, 1.06791678e-03, 3.07436490e-04, 7.20840440e-04,\n",
       "       1.88397536e-04, 2.73314083e-04, 7.07733860e-04, 8.11619110e-04,\n",
       "       3.71030539e-04, 6.17668031e-04, 1.20454557e-04, 5.29411561e-04,\n",
       "       9.63856227e-04, 2.34612681e-04, 1.50263457e-04, 2.43821366e-04,\n",
       "       9.86229200e-04, 8.13180559e-04, 3.42921560e-04, 1.64457570e-04,\n",
       "       1.47029650e-03, 6.96664965e-04, 2.98590111e-04, 2.16854179e-04,\n",
       "       4.92537916e-04, 4.33079131e-04, 8.79051120e-04, 4.77893760e-04,\n",
       "       2.29463131e-04, 7.05035460e-04, 4.90938124e-04, 6.94254699e-04,\n",
       "       6.55464096e-04, 9.32082959e-04, 6.32263639e-04, 1.16352653e-03,\n",
       "       1.63301884e-03, 4.28865425e-04, 2.86196691e-04, 2.87506463e-04,\n",
       "       8.66798791e-04, 6.28309505e-04, 6.67388350e-04, 1.26091734e-04,\n",
       "       2.26132784e-04, 6.02677253e-04, 1.41076282e-04, 3.01789718e-04,\n",
       "       4.61927210e-04, 3.73647393e-04, 6.04033796e-04, 1.00137158e-03,\n",
       "       1.39245087e-04, 1.09241150e-03, 5.39938166e-04, 4.23768467e-04,\n",
       "       6.19124861e-04, 1.16359232e-03, 2.15706225e-02, 2.38328798e-02,\n",
       "       2.37038676e-02, 1.87399522e-02, 2.24991055e-02, 2.79996710e-02,\n",
       "       3.37001692e-02, 2.41937463e-02, 3.26177083e-02, 1.00320409e-02,\n",
       "       1.89460099e-02, 1.38451487e-02, 1.29080129e-02, 2.08952165e-03,\n",
       "       2.33904977e-02, 4.54663485e-03, 2.51971077e-02, 2.10442872e-02,\n",
       "       2.15618947e-02, 2.09929743e-02, 2.22281289e-02, 2.79112989e-02,\n",
       "       4.84991149e-03, 2.93090012e-02])"
      ]
     },
     "execution_count": 16,
     "metadata": {},
     "output_type": "execute_result"
    }
   ],
   "source": [
    "reg.feature_importances_"
   ]
  },
  {
   "cell_type": "markdown",
   "metadata": {},
   "source": [
    "## Create and run Random Forest Classifier to predict top 4"
   ]
  },
  {
   "cell_type": "code",
   "execution_count": 17,
   "metadata": {},
   "outputs": [],
   "source": [
    "test_y_top_4 = np.where(test_y.astype('int') <= 4, 1, 0)"
   ]
  },
  {
   "cell_type": "code",
   "execution_count": 18,
   "metadata": {},
   "outputs": [],
   "source": [
    "train_y_top_4 = np.where(train_y.astype('int') <= 4, 1, 0)"
   ]
  },
  {
   "cell_type": "code",
   "execution_count": 19,
   "metadata": {},
   "outputs": [],
   "source": [
    "clf_top_4 = RandomForestClassifier(n_jobs=-1)"
   ]
  },
  {
   "cell_type": "code",
   "execution_count": 20,
   "metadata": {},
   "outputs": [
    {
     "data": {
      "text/plain": [
       "RandomForestClassifier(n_jobs=-1)"
      ]
     },
     "execution_count": 20,
     "metadata": {},
     "output_type": "execute_result"
    }
   ],
   "source": [
    "clf_top_4.fit(train_x,train_y_top_4)"
   ]
  },
  {
   "cell_type": "code",
   "execution_count": 21,
   "metadata": {},
   "outputs": [],
   "source": [
    "pred_y_top_4 = clf_top_4.predict(test_x)"
   ]
  },
  {
   "cell_type": "code",
   "execution_count": 22,
   "metadata": {},
   "outputs": [
    {
     "data": {
      "text/plain": [
       "0.8302141554864297"
      ]
     },
     "execution_count": 22,
     "metadata": {},
     "output_type": "execute_result"
    }
   ],
   "source": [
    "accuracy_score(test_y_top_4, pred_y_top_4)"
   ]
  },
  {
   "cell_type": "code",
   "execution_count": 23,
   "metadata": {},
   "outputs": [
    {
     "data": {
      "text/plain": [
       "array([6.31340312e-02, 2.42355875e-01, 1.28086619e-01, 2.35689239e-03,\n",
       "       2.74279959e-04, 1.61030643e-03, 2.74844478e-04, 1.14999473e-03,\n",
       "       2.96720452e-04, 1.07968418e-03, 2.79927849e-05, 1.66272270e-03,\n",
       "       1.83409256e-04, 7.08763815e-04, 3.26319009e-05, 5.55711494e-04,\n",
       "       1.98005765e-06, 7.64448946e-05, 4.97860361e-07, 7.48043584e-04,\n",
       "       0.00000000e+00, 3.98948495e-03, 2.63422474e-04, 3.20092855e-03,\n",
       "       6.94427395e-04, 3.26847580e-03, 1.02412458e-03, 2.73061174e-03,\n",
       "       3.44836840e-04, 3.24985461e-03, 7.49324669e-04, 2.20854121e-03,\n",
       "       4.43243718e-04, 1.95401269e-03, 8.59735640e-05, 2.85108464e-04,\n",
       "       4.32856385e-05, 2.89264053e-03, 0.00000000e+00, 5.89980720e-03,\n",
       "       2.18607138e-04, 5.81749629e-03, 1.27328979e-03, 6.79968802e-03,\n",
       "       1.23500921e-03, 6.52032787e-03, 2.25753016e-03, 6.18333192e-03,\n",
       "       1.42875569e-03, 6.63858211e-03, 1.77345902e-03, 5.93903585e-03,\n",
       "       1.68812769e-03, 2.31122381e-03, 1.37024809e-03, 6.68687709e-03,\n",
       "       1.71146826e-03, 1.40335336e-03, 8.47775871e-04, 1.79790820e-03,\n",
       "       5.55888678e-04, 9.81255646e-04, 1.70080085e-03, 1.62585482e-03,\n",
       "       1.04655902e-03, 1.51942663e-03, 5.26893035e-04, 1.44444718e-03,\n",
       "       1.74059637e-03, 7.82700832e-04, 5.33328449e-04, 1.06533062e-03,\n",
       "       1.77149070e-03, 1.42114873e-03, 1.18772335e-03, 5.21593718e-04,\n",
       "       2.47423084e-03, 1.96152718e-03, 1.16384104e-03, 8.60723257e-04,\n",
       "       1.43517906e-03, 1.03184325e-03, 1.82790382e-03, 1.24411132e-03,\n",
       "       7.18339090e-04, 1.35956412e-03, 1.11679733e-03, 1.94685523e-03,\n",
       "       1.63775879e-03, 2.00926640e-03, 1.11486653e-03, 1.91893628e-03,\n",
       "       2.67015486e-03, 1.24466690e-03, 9.81245350e-04, 9.75300951e-04,\n",
       "       1.83292319e-03, 1.42787277e-03, 1.25436715e-03, 6.44221811e-04,\n",
       "       7.18777636e-04, 1.08763307e-03, 6.51356575e-04, 9.34290160e-04,\n",
       "       1.28814091e-03, 1.14098731e-03, 1.88221078e-03, 1.72909975e-03,\n",
       "       4.73095962e-04, 1.97600995e-03, 1.05568988e-03, 9.87530297e-04,\n",
       "       1.15870601e-03, 1.45257072e-03, 1.63213741e-02, 1.87686396e-02,\n",
       "       1.91742124e-02, 1.49319878e-02, 1.76560947e-02, 2.07530687e-02,\n",
       "       2.78419021e-02, 2.12217057e-02, 2.36814931e-02, 7.70361169e-03,\n",
       "       1.44564866e-02, 1.16834508e-02, 9.38752200e-03, 3.21797074e-03,\n",
       "       1.95819758e-02, 5.98755778e-03, 1.96749947e-02, 1.75382219e-02,\n",
       "       1.72782907e-02, 1.62247043e-02, 1.63395648e-02, 2.15820546e-02,\n",
       "       4.31055476e-03, 2.30212809e-02])"
      ]
     },
     "execution_count": 23,
     "metadata": {},
     "output_type": "execute_result"
    }
   ],
   "source": [
    "clf_top_4.feature_importances_"
   ]
  },
  {
   "cell_type": "code",
   "execution_count": 24,
   "metadata": {},
   "outputs": [],
   "source": [
    "filename = 'final_reg_model_no_stage_oh.sav'\n",
    "pickle.dump(reg, open(filename, 'wb'))\n",
    "filename2 = 'final_clf_model_no_stage_oh.sav'\n",
    "pickle.dump(clf_top_4, open(filename2, 'wb'))"
   ]
  },
  {
   "cell_type": "code",
   "execution_count": null,
   "metadata": {},
   "outputs": [],
   "source": []
  },
  {
   "cell_type": "code",
   "execution_count": null,
   "metadata": {},
   "outputs": [],
   "source": []
  },
  {
   "cell_type": "code",
   "execution_count": null,
   "metadata": {},
   "outputs": [],
   "source": []
  },
  {
   "cell_type": "code",
   "execution_count": null,
   "metadata": {},
   "outputs": [],
   "source": []
  },
  {
   "cell_type": "code",
   "execution_count": null,
   "metadata": {},
   "outputs": [],
   "source": []
  },
  {
   "cell_type": "code",
   "execution_count": null,
   "metadata": {},
   "outputs": [],
   "source": []
  },
  {
   "cell_type": "code",
   "execution_count": null,
   "metadata": {},
   "outputs": [],
   "source": []
  },
  {
   "cell_type": "code",
   "execution_count": null,
   "metadata": {},
   "outputs": [],
   "source": []
  },
  {
   "cell_type": "code",
   "execution_count": null,
   "metadata": {},
   "outputs": [],
   "source": []
  },
  {
   "cell_type": "code",
   "execution_count": null,
   "metadata": {},
   "outputs": [],
   "source": []
  },
  {
   "cell_type": "code",
   "execution_count": null,
   "metadata": {},
   "outputs": [],
   "source": []
  },
  {
   "cell_type": "code",
   "execution_count": null,
   "metadata": {},
   "outputs": [],
   "source": []
  }
 ],
 "metadata": {
  "kernelspec": {
   "display_name": "Python 3",
   "language": "python",
   "name": "python3"
  },
  "language_info": {
   "codemirror_mode": {
    "name": "ipython",
    "version": 3
   },
   "file_extension": ".py",
   "mimetype": "text/x-python",
   "name": "python",
   "nbconvert_exporter": "python",
   "pygments_lexer": "ipython3",
   "version": "3.8.5"
  }
 },
 "nbformat": 4,
 "nbformat_minor": 4
}
