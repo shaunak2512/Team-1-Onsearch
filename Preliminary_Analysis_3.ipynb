{
 "cells": [
  {
   "cell_type": "code",
   "execution_count": 4,
   "metadata": {},
   "outputs": [],
   "source": [
    "#libraries\n",
    "import pandas as pd\n",
    "import numpy as np\n",
    "import json"
   ]
  },
  {
   "cell_type": "code",
   "execution_count": 2,
   "metadata": {},
   "outputs": [],
   "source": [
    "#open file\n",
    "#open all the fiels later and join them\n",
    "export = pd.read_json('export/export_0.json')"
   ]
  },
  {
   "cell_type": "code",
   "execution_count": 3,
   "metadata": {},
   "outputs": [
    {
     "data": {
      "text/plain": [
       "'B-'"
      ]
     },
     "execution_count": 3,
     "metadata": {},
     "output_type": "execute_result"
    }
   ],
   "source": [
    "score_dict = export.scores[0]\n",
    "score_dict['comp']"
   ]
  },
  {
   "cell_type": "code",
   "execution_count": 4,
   "metadata": {},
   "outputs": [
    {
     "data": {
      "text/plain": [
       "dict_keys(['round_outcomes', 'champion_damage', 'rerolls', 'store', 'gold', 'xp', 'health', 'final'])"
      ]
     },
     "execution_count": 4,
     "metadata": {},
     "output_type": "execute_result"
    }
   ],
   "source": [
    "player_dict=export.player[21]\n",
    "player_dict.keys()"
   ]
  },
  {
   "cell_type": "code",
   "execution_count": 5,
   "metadata": {},
   "outputs": [
    {
     "data": {
      "text/plain": [
       "dict_keys(['comp', 'traits', 'comp_traits', 'bench', 'last_round', 'gold_left', 'gold_gained', 'gold_spent', 'level', 'xp_progress', 'time_survived', 'placement', 'name'])"
      ]
     },
     "execution_count": 5,
     "metadata": {},
     "output_type": "execute_result"
    }
   ],
   "source": [
    "dict_final=player_dict['final']\n",
    "dict_final.keys()"
   ]
  },
  {
   "cell_type": "code",
   "execution_count": 6,
   "metadata": {},
   "outputs": [
    {
     "data": {
      "text/plain": [
       "{'rank': '5'}"
      ]
     },
     "execution_count": 6,
     "metadata": {},
     "output_type": "execute_result"
    }
   ],
   "source": [
    "dict_final['placement']"
   ]
  },
  {
   "cell_type": "code",
   "execution_count": 7,
   "metadata": {},
   "outputs": [
    {
     "data": {
      "text/plain": [
       "[{'name': 'Sniper',\n",
       "  'tier_current': 1,\n",
       "  'tier_total': 2,\n",
       "  'num_units': 2,\n",
       "  'style': 2},\n",
       " {'name': 'Chrono',\n",
       "  'tier_current': 1,\n",
       "  'tier_total': 4,\n",
       "  'num_units': 3,\n",
       "  'style': 0},\n",
       " {'name': 'Cybernetic',\n",
       "  'tier_current': 1,\n",
       "  'tier_total': 2,\n",
       "  'num_units': 6,\n",
       "  'style': 2},\n",
       " {'name': 'Set3_Blademaster',\n",
       "  'tier_current': 1,\n",
       "  'tier_total': 3,\n",
       "  'num_units': 3,\n",
       "  'style': 1},\n",
       " {'name': 'Blaster',\n",
       "  'tier_current': 1,\n",
       "  'tier_total': 2,\n",
       "  'num_units': 2,\n",
       "  'style': 2}]"
      ]
     },
     "execution_count": 7,
     "metadata": {},
     "output_type": "execute_result"
    }
   ],
   "source": [
    "comp_dict=dict_final['comp_traits']\n",
    "comp_dict"
   ]
  },
  {
   "cell_type": "code",
   "execution_count": 8,
   "metadata": {},
   "outputs": [
    {
     "data": {
      "text/plain": [
       "{'Sniper': 2,\n",
       " 'Chrono': 3,\n",
       " 'Cybernetic': 6,\n",
       " 'Set3_Blademaster': 3,\n",
       " 'Blaster': 2}"
      ]
     },
     "execution_count": 8,
     "metadata": {},
     "output_type": "execute_result"
    }
   ],
   "source": [
    "trait_dict=dict_final['traits']\n",
    "trait_dict"
   ]
  },
  {
   "cell_type": "code",
   "execution_count": 29,
   "metadata": {},
   "outputs": [
    {
     "name": "stdout",
     "output_type": "stream",
     "text": [
      "{'Cybernetic': 6, 'Chrono': 3, 'Set3_Blademaster': 3, 'Sniper': 2, 'Blaster': 2}\n",
      "['Cybernetic']\n",
      "{'Chrono': 3, 'Set3_Blademaster': 3, 'Sniper': 2, 'Blaster': 2}\n",
      "Chrono\n"
     ]
    }
   ],
   "source": [
    "x={k: v for k, v in sorted(trait_dict.items(), key=lambda item: item[1], reverse=True)}\n",
    "print(x)\n",
    "top_2_list = []\n",
    "first=max(x, key=x.get)\n",
    "top_2_list.append(first)\n",
    "print(top_2_list)\n",
    "del x[first]\n",
    "print(x)\n",
    "second = max(x, key=x.get)\n",
    "print(second)"
   ]
  },
  {
   "cell_type": "code",
   "execution_count": 37,
   "metadata": {},
   "outputs": [
    {
     "name": "stdout",
     "output_type": "stream",
     "text": [
      "{'Cybernetic': 6, 'Chrono': 3, 'Set3_Blademaster': 3, 'Sniper': 2, 'Blaster': 2}\n",
      "['Cybernetic', 'Chrono', 'Set3_Blademaster']\n"
     ]
    }
   ],
   "source": [
    "x={k: v for k, v in sorted(trait_dict.items(), key=lambda item: item[1], reverse=True)}\n",
    "print(x)\n",
    "y=[k for k, v in x.items() if v == max(x.values())]\n",
    "\n",
    "for item in y:\n",
    "    if item in x.keys():\n",
    "        del x[item]\n",
    "\n",
    "z = [k for k, v in x.items() if v == max(x.values())]\n",
    "\n",
    "final = y + z\n",
    "print(final)"
   ]
  },
  {
   "cell_type": "code",
   "execution_count": null,
   "metadata": {},
   "outputs": [],
   "source": [
    "    '''\n",
    "    if rank['rank'] == '0':\n",
    "        rank_count[0] += 1\n",
    "    elif rank['rank'] == '1':\n",
    "        rank_count[1] += 1\n",
    "    elif rank['rank'] == '2':\n",
    "        rank_count[2] += 1\n",
    "    elif rank['rank'] == '3': \n",
    "        rank_count[3] += 1\n",
    "    elif rank['rank'] =='4':\n",
    "        rank_count[4] += 1\n",
    "    elif rank['rank'] == '5':\n",
    "        rank_count[5] += 1\n",
    "    elif rank['rank'] =='6' :\n",
    "        rank_count[6] += 1\n",
    "    elif rank['rank'] == '7':\n",
    "        rank_count[7] += 1\n",
    "    elif rank['rank'] == '8':\n",
    "        rank_count[8] += 1\n",
    "    elif rank['rank'] == '9':\n",
    "        rank_count[9] += 1\n",
    "    '''"
   ]
  },
  {
   "cell_type": "markdown",
   "metadata": {},
   "source": [
    "### Actual Dataframe Search"
   ]
  },
  {
   "cell_type": "code",
   "execution_count": 2,
   "metadata": {},
   "outputs": [],
   "source": [
    "#libraries\n",
    "import pandas as pd\n",
    "import numpy as np\n",
    "import json"
   ]
  },
  {
   "cell_type": "code",
   "execution_count": 3,
   "metadata": {},
   "outputs": [],
   "source": [
    "#if player not in top 4, get rid of\n",
    "#export0 = pd.read_json('export/export_0.json')\n",
    "export1 = pd.read_json('export/export_10.json')\n",
    "export2 = pd.read_json('export/export_20.json')\n",
    "#export3 = pd.read_json('export/export_30.json')\n",
    "#export4 = pd.read_json('export/export_40.json')\n",
    "#export5 = pd.read_json('export/export_50.json')\n",
    "#export6 = pd.read_json('export/export_60.json')\n",
    "#export7 = pd.read_json('export/export_70.json')\n",
    "#export8 = pd.read_json('export/export_80.json')\n",
    "#export9 = pd.read_json('export/export_90.json')\n",
    "#export10 = pd.read_json('export/export_100.json')\n",
    "\n",
    "\n",
    "\n",
    "#use groupby to isolae just the player \n",
    "#player_col = export0.player\n",
    "\n",
    "#get final -> get comp, traits, placement\n",
    "#df = player_col.to_frame().reset_index()\n",
    "\n",
    "\n",
    "#there is rank 0-8 ???"
   ]
  },
  {
   "cell_type": "code",
   "execution_count": 4,
   "metadata": {},
   "outputs": [],
   "source": [
    "#frames = [export0, export1, export2, export3, export4, export5, export6, export7, export8, export9, export10]\n",
    "frames = [export1, export2]\n",
    "result = pd.concat(frames)\n",
    "player_col = result.player"
   ]
  },
  {
   "cell_type": "code",
   "execution_count": 8,
   "metadata": {},
   "outputs": [
    {
     "name": "stdout",
     "output_type": "stream",
     "text": [
      "              counts     f\n",
      "10         Mercenary    23\n",
      "22          Starship    26\n",
      "11           Paragon    52\n",
      "8         ManaReaver   460\n",
      "9          MechPilot   612\n",
      "6      Demolitionist   736\n",
      "0              Astro   923\n",
      "7        Infiltrator  1034\n",
      "4         Cybernetic  1126\n",
      "20       SpacePirate  1247\n",
      "2            Blaster  1256\n",
      "13             Rebel  1281\n",
      "15      Set3_Brawler  1328\n",
      "1         Battlecast  1396\n",
      "23          Vanguard  1534\n",
      "19            Sniper  1649\n",
      "17       Set3_Mystic  1717\n",
      "21      StarGuardian  1769\n",
      "5           DarkStar  1827\n",
      "14  Set3_Blademaster  1919\n",
      "18     Set3_Sorcerer  2023\n",
      "12         Protector  2219\n",
      "16    Set3_Celestial  2244\n",
      "3             Chrono  2768\n"
     ]
    }
   ],
   "source": [
    "test_head = player_col\n",
    "\n",
    "trait_rank_list = []\n",
    "\n",
    "for i in test_head:\n",
    "    final_dict = i['final']\n",
    "    comp = final_dict['comp']\n",
    "    rank = final_dict['placement']\n",
    "    comp_traits = final_dict['comp_traits']\n",
    "    traits = final_dict['traits']    \n",
    "    \n",
    "    if int(rank['rank']) <= 4 and int(rank['rank']) >= 1:\n",
    "        sort_dict = {k: v for k, v in sorted(traits.items(), key=lambda item: item[1], reverse=True)}\n",
    "        max_trait = [k for k, v in sort_dict.items() if v == max(sort_dict.values())]\n",
    "        \n",
    "        for item in max_trait:\n",
    "            if item in sort_dict.keys():\n",
    "                del sort_dict[item]\n",
    "                \n",
    "        if len(max_trait) > 2:\n",
    "            final_list = max_trait\n",
    "        else:\n",
    "            second_trait = [k for k, v in sort_dict.items() if v == max(sort_dict.values())]\n",
    "            final_list = max_trait + second_trait\n",
    "            \n",
    "        temp_list = []\n",
    "        temp_list.append(final_list)\n",
    "        temp_list.append(int(rank['rank']))\n",
    "        trait_rank_list.append(temp_list)\n",
    "\n",
    "trait_df = pd.DataFrame(trait_rank_list,columns=['traits','rank'])\n",
    "\n",
    "a = pd.Series([item for sublist in trait_df.traits for item in sublist])\n",
    "count_traits = a.value_counts().sort_index().rename_axis('counts').reset_index(name='f')\n",
    "print(count_traits.sort_values('f'))\n",
    "      \n",
    "        \n",
    "\n",
    "        "
   ]
  }
 ],
 "metadata": {
  "kernelspec": {
   "display_name": "Python 3",
   "language": "python",
   "name": "python3"
  },
  "language_info": {
   "codemirror_mode": {
    "name": "ipython",
    "version": 3
   },
   "file_extension": ".py",
   "mimetype": "text/x-python",
   "name": "python",
   "nbconvert_exporter": "python",
   "pygments_lexer": "ipython3",
   "version": "3.7.6"
  }
 },
 "nbformat": 4,
 "nbformat_minor": 4
}
