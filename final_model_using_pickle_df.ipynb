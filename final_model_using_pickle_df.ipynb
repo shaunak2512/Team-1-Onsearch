{
 "cells": [
  {
   "cell_type": "code",
   "execution_count": 2,
   "metadata": {},
   "outputs": [],
   "source": [
    "import numpy as np\n",
    "import pandas as pd\n",
    "import json\n",
    "from typing import Dict\n",
    "from itertools import groupby, chain\n",
    "from functools import reduce\n",
    "from collections import Counter, defaultdict\n",
    "import re\n",
    "from sklearn.preprocessing import OneHotEncoder \n",
    "from sklearn.feature_extraction import DictVectorizer\n",
    "from sklearn.model_selection import train_test_split\n",
    "from sklearn.ensemble import RandomForestRegressor, RandomForestClassifier \n",
    "from sklearn.metrics import mean_squared_error, mean_absolute_error, accuracy_score\n",
    "import pickle"
   ]
  },
  {
   "cell_type": "code",
   "execution_count": 3,
   "metadata": {},
   "outputs": [],
   "source": [
    "combined_df = pd.read_pickle(\"final_data_frame\")"
   ]
  },
  {
   "cell_type": "code",
   "execution_count": 4,
   "metadata": {},
   "outputs": [
    {
     "data": {
      "text/html": [
       "<div>\n",
       "<style scoped>\n",
       "    .dataframe tbody tr th:only-of-type {\n",
       "        vertical-align: middle;\n",
       "    }\n",
       "\n",
       "    .dataframe tbody tr th {\n",
       "        vertical-align: top;\n",
       "    }\n",
       "\n",
       "    .dataframe thead th {\n",
       "        text-align: right;\n",
       "    }\n",
       "</style>\n",
       "<table border=\"1\" class=\"dataframe\">\n",
       "  <thead>\n",
       "    <tr style=\"text-align: right;\">\n",
       "      <th></th>\n",
       "      <th>stage</th>\n",
       "      <th>gold_spent</th>\n",
       "      <th>level</th>\n",
       "      <th>rank</th>\n",
       "      <th>item_index1</th>\n",
       "      <th>item_index2</th>\n",
       "      <th>item_index3</th>\n",
       "      <th>item_index4</th>\n",
       "      <th>item_index5</th>\n",
       "      <th>item_index6</th>\n",
       "      <th>...</th>\n",
       "      <th>Mystic</th>\n",
       "      <th>Paragon</th>\n",
       "      <th>Protector</th>\n",
       "      <th>Rebel</th>\n",
       "      <th>Sniper</th>\n",
       "      <th>Sorcerer</th>\n",
       "      <th>SpacePirate</th>\n",
       "      <th>StarGuardian</th>\n",
       "      <th>Starship</th>\n",
       "      <th>Vanguard</th>\n",
       "    </tr>\n",
       "  </thead>\n",
       "  <tbody>\n",
       "    <tr>\n",
       "      <th>0</th>\n",
       "      <td>1</td>\n",
       "      <td>4.0</td>\n",
       "      <td>2.000000</td>\n",
       "      <td>4</td>\n",
       "      <td>0.0</td>\n",
       "      <td>0.0</td>\n",
       "      <td>0.0</td>\n",
       "      <td>0.0</td>\n",
       "      <td>0.0</td>\n",
       "      <td>0.0</td>\n",
       "      <td>...</td>\n",
       "      <td>0.0</td>\n",
       "      <td>0.0</td>\n",
       "      <td>1.0</td>\n",
       "      <td>0.0</td>\n",
       "      <td>0.0</td>\n",
       "      <td>0.0</td>\n",
       "      <td>0.0</td>\n",
       "      <td>0.0</td>\n",
       "      <td>0.0</td>\n",
       "      <td>0.0</td>\n",
       "    </tr>\n",
       "    <tr>\n",
       "      <th>1</th>\n",
       "      <td>1</td>\n",
       "      <td>4.0</td>\n",
       "      <td>2.000000</td>\n",
       "      <td>4</td>\n",
       "      <td>0.0</td>\n",
       "      <td>0.0</td>\n",
       "      <td>0.0</td>\n",
       "      <td>0.0</td>\n",
       "      <td>0.0</td>\n",
       "      <td>0.0</td>\n",
       "      <td>...</td>\n",
       "      <td>0.0</td>\n",
       "      <td>0.0</td>\n",
       "      <td>1.0</td>\n",
       "      <td>0.0</td>\n",
       "      <td>0.0</td>\n",
       "      <td>0.0</td>\n",
       "      <td>0.0</td>\n",
       "      <td>0.0</td>\n",
       "      <td>0.0</td>\n",
       "      <td>0.0</td>\n",
       "    </tr>\n",
       "    <tr>\n",
       "      <th>2</th>\n",
       "      <td>2</td>\n",
       "      <td>20.0</td>\n",
       "      <td>4.166667</td>\n",
       "      <td>4</td>\n",
       "      <td>1.0</td>\n",
       "      <td>0.0</td>\n",
       "      <td>0.0</td>\n",
       "      <td>0.0</td>\n",
       "      <td>0.0</td>\n",
       "      <td>0.0</td>\n",
       "      <td>...</td>\n",
       "      <td>1.0</td>\n",
       "      <td>0.0</td>\n",
       "      <td>2.0</td>\n",
       "      <td>0.0</td>\n",
       "      <td>0.0</td>\n",
       "      <td>0.0</td>\n",
       "      <td>0.0</td>\n",
       "      <td>0.0</td>\n",
       "      <td>0.0</td>\n",
       "      <td>1.0</td>\n",
       "    </tr>\n",
       "    <tr>\n",
       "      <th>3</th>\n",
       "      <td>2</td>\n",
       "      <td>20.0</td>\n",
       "      <td>4.166667</td>\n",
       "      <td>4</td>\n",
       "      <td>0.0</td>\n",
       "      <td>0.0</td>\n",
       "      <td>0.0</td>\n",
       "      <td>0.0</td>\n",
       "      <td>0.0</td>\n",
       "      <td>0.0</td>\n",
       "      <td>...</td>\n",
       "      <td>1.0</td>\n",
       "      <td>0.0</td>\n",
       "      <td>2.0</td>\n",
       "      <td>0.0</td>\n",
       "      <td>0.0</td>\n",
       "      <td>0.0</td>\n",
       "      <td>0.0</td>\n",
       "      <td>0.0</td>\n",
       "      <td>0.0</td>\n",
       "      <td>1.0</td>\n",
       "    </tr>\n",
       "    <tr>\n",
       "      <th>4</th>\n",
       "      <td>2</td>\n",
       "      <td>20.0</td>\n",
       "      <td>4.166667</td>\n",
       "      <td>4</td>\n",
       "      <td>0.0</td>\n",
       "      <td>0.0</td>\n",
       "      <td>0.0</td>\n",
       "      <td>0.0</td>\n",
       "      <td>0.0</td>\n",
       "      <td>0.0</td>\n",
       "      <td>...</td>\n",
       "      <td>1.0</td>\n",
       "      <td>0.0</td>\n",
       "      <td>2.0</td>\n",
       "      <td>0.0</td>\n",
       "      <td>0.0</td>\n",
       "      <td>0.0</td>\n",
       "      <td>0.0</td>\n",
       "      <td>0.0</td>\n",
       "      <td>0.0</td>\n",
       "      <td>1.0</td>\n",
       "    </tr>\n",
       "  </tbody>\n",
       "</table>\n",
       "<p>5 rows × 139 columns</p>\n",
       "</div>"
      ],
      "text/plain": [
       "   stage  gold_spent     level rank  item_index1  item_index2  item_index3  \\\n",
       "0      1         4.0  2.000000    4          0.0          0.0          0.0   \n",
       "1      1         4.0  2.000000    4          0.0          0.0          0.0   \n",
       "2      2        20.0  4.166667    4          1.0          0.0          0.0   \n",
       "3      2        20.0  4.166667    4          0.0          0.0          0.0   \n",
       "4      2        20.0  4.166667    4          0.0          0.0          0.0   \n",
       "\n",
       "   item_index4  item_index5  item_index6  ...  Mystic  Paragon  Protector  \\\n",
       "0          0.0          0.0          0.0  ...     0.0      0.0        1.0   \n",
       "1          0.0          0.0          0.0  ...     0.0      0.0        1.0   \n",
       "2          0.0          0.0          0.0  ...     1.0      0.0        2.0   \n",
       "3          0.0          0.0          0.0  ...     1.0      0.0        2.0   \n",
       "4          0.0          0.0          0.0  ...     1.0      0.0        2.0   \n",
       "\n",
       "   Rebel  Sniper  Sorcerer  SpacePirate  StarGuardian  Starship  Vanguard  \n",
       "0    0.0     0.0       0.0          0.0           0.0       0.0       0.0  \n",
       "1    0.0     0.0       0.0          0.0           0.0       0.0       0.0  \n",
       "2    0.0     0.0       0.0          0.0           0.0       0.0       1.0  \n",
       "3    0.0     0.0       0.0          0.0           0.0       0.0       1.0  \n",
       "4    0.0     0.0       0.0          0.0           0.0       0.0       1.0  \n",
       "\n",
       "[5 rows x 139 columns]"
      ]
     },
     "execution_count": 4,
     "metadata": {},
     "output_type": "execute_result"
    }
   ],
   "source": [
    "combined_df.head()"
   ]
  },
  {
   "cell_type": "code",
   "execution_count": 6,
   "metadata": {},
   "outputs": [],
   "source": [
    "index_X = list(chain(range(3),range(4,combined_df.shape[1])))\n",
    "X = combined_temp.drop(columns=[\"rank\"])\n",
    "Y = combined_temp.[\"rank\"]"
   ]
  },
  {
   "cell_type": "code",
   "execution_count": 7,
   "metadata": {},
   "outputs": [],
   "source": [
    "train_x, test_x, train_y, test_y = train_test_split(X,Y,test_size=0.2)"
   ]
  },
  {
   "cell_type": "code",
   "execution_count": 8,
   "metadata": {},
   "outputs": [],
   "source": [
    "reg = RandomForestRegressor(n_jobs=-1)"
   ]
  },
  {
   "cell_type": "code",
   "execution_count": 9,
   "metadata": {},
   "outputs": [
    {
     "data": {
      "text/plain": [
       "RandomForestRegressor(n_jobs=-1)"
      ]
     },
     "execution_count": 9,
     "metadata": {},
     "output_type": "execute_result"
    }
   ],
   "source": [
    "reg.fit(train_x,train_y)"
   ]
  },
  {
   "cell_type": "code",
   "execution_count": 10,
   "metadata": {},
   "outputs": [],
   "source": [
    "pred_y = reg.predict(test_x)"
   ]
  },
  {
   "cell_type": "code",
   "execution_count": 11,
   "metadata": {},
   "outputs": [
    {
     "data": {
      "text/plain": [
       "1.125612332806132"
      ]
     },
     "execution_count": 11,
     "metadata": {},
     "output_type": "execute_result"
    }
   ],
   "source": [
    "mean_squared_error(test_y,pred_y)"
   ]
  },
  {
   "cell_type": "code",
   "execution_count": 12,
   "metadata": {},
   "outputs": [
    {
     "data": {
      "text/plain": [
       "0.48317745959130765"
      ]
     },
     "execution_count": 12,
     "metadata": {},
     "output_type": "execute_result"
    }
   ],
   "source": [
    "mean_absolute_error(test_y,np.round(pred_y))"
   ]
  },
  {
   "cell_type": "code",
   "execution_count": 13,
   "metadata": {},
   "outputs": [],
   "source": [
    "def rank_accuracy(true,pred):\n",
    "    return np.sum([x == y for x,y in zip(true,pred)])/true.shape[0]"
   ]
  },
  {
   "cell_type": "code",
   "execution_count": 14,
   "metadata": {},
   "outputs": [
    {
     "data": {
      "text/plain": [
       "0.7203600252823463"
      ]
     },
     "execution_count": 14,
     "metadata": {},
     "output_type": "execute_result"
    }
   ],
   "source": [
    "rank_accuracy(test_y.astype(int), np.round(pred_y).astype(int))"
   ]
  },
  {
   "cell_type": "code",
   "execution_count": 15,
   "metadata": {},
   "outputs": [
    {
     "data": {
      "text/plain": [
       "array([1.04618125e-01, 2.26974083e-01, 1.04055411e-01, 3.21324305e-03,\n",
       "       1.96925424e-04, 2.82124846e-03, 5.38945953e-04, 3.19810268e-03,\n",
       "       6.27038698e-04, 3.12926305e-03, 8.87118490e-04, 3.14343638e-03,\n",
       "       6.53785174e-04, 2.72907183e-03, 5.54970520e-04, 3.30744250e-03,\n",
       "       6.41583308e-04, 8.31896969e-04, 3.32688446e-04, 3.03950185e-03,\n",
       "       6.68979214e-04, 9.56174891e-04, 2.32155244e-05, 1.05946093e-03,\n",
       "       3.08095000e-04, 1.10282322e-03, 4.18713918e-04, 1.00433765e-03,\n",
       "       6.02623496e-04, 1.01582085e-03, 2.87350300e-04, 1.06447188e-03,\n",
       "       3.57307637e-04, 9.23908133e-04, 3.60123104e-04, 1.30603178e-04,\n",
       "       5.35152559e-05, 1.35038230e-03, 6.37381435e-06, 1.30457204e-04,\n",
       "       1.99549582e-07, 3.87533680e-04, 9.15671521e-05, 3.83586994e-04,\n",
       "       8.16252854e-05, 3.53415891e-04, 2.27071448e-04, 2.76726568e-04,\n",
       "       5.34800969e-05, 4.39145237e-04, 1.18939424e-04, 3.67099113e-04,\n",
       "       1.82169376e-04, 4.77476391e-05, 1.88081366e-05, 5.73715903e-04,\n",
       "       3.84306575e-05, 1.06733146e-03, 3.04946326e-04, 7.10136073e-04,\n",
       "       1.83755576e-04, 2.66600170e-04, 7.05136307e-04, 8.10047138e-04,\n",
       "       3.65578292e-04, 6.10265545e-04, 1.22242775e-04, 5.20519619e-04,\n",
       "       9.79220316e-04, 2.26301333e-04, 1.52913140e-04, 2.40056247e-04,\n",
       "       9.69535628e-04, 7.99258278e-04, 3.37860591e-04, 1.68102714e-04,\n",
       "       1.45601791e-03, 6.90629822e-04, 2.96483492e-04, 2.15067154e-04,\n",
       "       5.00605371e-04, 4.25459048e-04, 8.79344802e-04, 4.64370217e-04,\n",
       "       2.30790599e-04, 6.80470110e-04, 4.83665944e-04, 6.78116603e-04,\n",
       "       6.40551732e-04, 9.32048709e-04, 6.13271103e-04, 1.15294360e-03,\n",
       "       1.62639460e-03, 4.28748097e-04, 2.78048377e-04, 2.84997079e-04,\n",
       "       8.60703115e-04, 6.26332639e-04, 6.55464061e-04, 1.29471504e-04,\n",
       "       2.20362158e-04, 5.93592057e-04, 1.42539452e-04, 2.95896212e-04,\n",
       "       4.55328419e-04, 3.59237334e-04, 6.04162112e-04, 1.00028213e-03,\n",
       "       1.48931346e-04, 1.08948532e-03, 5.47626453e-04, 4.26995600e-04,\n",
       "       6.11141452e-04, 1.17445178e-03, 2.16192251e-02, 2.35725991e-02,\n",
       "       2.38544021e-02, 1.84813781e-02, 2.23870693e-02, 2.79494567e-02,\n",
       "       3.32010109e-02, 2.52455858e-02, 3.24726694e-02, 1.00050700e-02,\n",
       "       1.87781049e-02, 1.37909518e-02, 1.27928942e-02, 2.16454604e-03,\n",
       "       2.31860064e-02, 4.42300138e-03, 2.50407104e-02, 2.10520626e-02,\n",
       "       2.13041661e-02, 2.08889959e-02, 2.21604351e-02, 2.76353675e-02,\n",
       "       4.88925169e-03, 2.97053221e-02])"
      ]
     },
     "execution_count": 15,
     "metadata": {},
     "output_type": "execute_result"
    }
   ],
   "source": [
    "reg.feature_importances_"
   ]
  },
  {
   "cell_type": "markdown",
   "metadata": {},
   "source": [
    "## Create and run Random Forest Classifier to predict top 4"
   ]
  },
  {
   "cell_type": "code",
   "execution_count": 16,
   "metadata": {},
   "outputs": [],
   "source": [
    "test_y_top_4 = np.where(test_y.astype('int') <= 4, 1, 0)"
   ]
  },
  {
   "cell_type": "code",
   "execution_count": 17,
   "metadata": {},
   "outputs": [],
   "source": [
    "train_y_top_4 = np.where(train_y.astype('int') <= 4, 1, 0)"
   ]
  },
  {
   "cell_type": "code",
   "execution_count": 18,
   "metadata": {},
   "outputs": [],
   "source": [
    "clf_top_4 = RandomForestClassifier(n_jobs=-1)"
   ]
  },
  {
   "cell_type": "code",
   "execution_count": 19,
   "metadata": {},
   "outputs": [
    {
     "data": {
      "text/plain": [
       "RandomForestClassifier(n_jobs=-1)"
      ]
     },
     "execution_count": 19,
     "metadata": {},
     "output_type": "execute_result"
    }
   ],
   "source": [
    "clf_top_4.fit(train_x,train_y_top_4)"
   ]
  },
  {
   "cell_type": "code",
   "execution_count": 20,
   "metadata": {},
   "outputs": [],
   "source": [
    "pred_y_top_4 = clf_top_4.predict(test_x)"
   ]
  },
  {
   "cell_type": "code",
   "execution_count": 21,
   "metadata": {},
   "outputs": [
    {
     "data": {
      "text/plain": [
       "0.8347217701145734"
      ]
     },
     "execution_count": 21,
     "metadata": {},
     "output_type": "execute_result"
    }
   ],
   "source": [
    "accuracy_score(test_y_top_4, pred_y_top_4)"
   ]
  },
  {
   "cell_type": "code",
   "execution_count": 22,
   "metadata": {},
   "outputs": [
    {
     "data": {
      "text/plain": [
       "array([6.36380630e-02, 2.40646698e-01, 1.26958079e-01, 6.84225620e-03,\n",
       "       5.62030243e-04, 6.15833672e-03, 1.25886044e-03, 6.70599259e-03,\n",
       "       1.39803273e-03, 6.94024893e-03, 1.75882971e-03, 6.56700724e-03,\n",
       "       1.45284242e-03, 6.18700579e-03, 1.34929465e-03, 6.24101272e-03,\n",
       "       1.25266465e-03, 2.16419476e-03, 1.21597225e-03, 6.48006940e-03,\n",
       "       1.66303753e-03, 2.48416677e-03, 7.37165280e-05, 2.77550918e-03,\n",
       "       7.36567059e-04, 3.11361495e-03, 9.31979628e-04, 2.66704963e-03,\n",
       "       1.32303687e-03, 2.69669503e-03, 7.42432879e-04, 2.85524810e-03,\n",
       "       9.31450504e-04, 2.47301317e-03, 9.26442187e-04, 5.28219008e-04,\n",
       "       3.03185275e-04, 3.48717783e-03, 1.83272915e-05, 3.46740040e-04,\n",
       "       7.22935622e-07, 1.11385262e-03, 2.35103825e-04, 1.14543452e-03,\n",
       "       2.11015696e-04, 1.14509157e-03, 6.94722077e-04, 9.00266856e-04,\n",
       "       1.71403283e-04, 1.33660943e-03, 4.01188517e-04, 1.20771736e-03,\n",
       "       5.53947284e-04, 1.77533156e-04, 8.74516850e-05, 1.75886629e-03,\n",
       "       1.02500887e-04, 1.42516320e-03, 8.37357282e-04, 1.83685677e-03,\n",
       "       5.54025289e-04, 9.80291521e-04, 1.68471716e-03, 1.67377692e-03,\n",
       "       1.04395705e-03, 1.53807419e-03, 5.24726639e-04, 1.46465896e-03,\n",
       "       1.75104735e-03, 7.65225970e-04, 5.28111121e-04, 1.06697248e-03,\n",
       "       1.82687041e-03, 1.43729213e-03, 1.17561602e-03, 5.42182612e-04,\n",
       "       2.52467495e-03, 1.96145614e-03, 1.15942055e-03, 8.72892916e-04,\n",
       "       1.44767182e-03, 1.03865988e-03, 1.86089479e-03, 1.25619532e-03,\n",
       "       7.13552894e-04, 1.35252550e-03, 1.11525924e-03, 1.96893187e-03,\n",
       "       1.64751598e-03, 2.00512855e-03, 1.10097235e-03, 1.93013927e-03,\n",
       "       2.70753436e-03, 1.24146765e-03, 9.69263244e-04, 9.66025621e-04,\n",
       "       1.83620956e-03, 1.42963180e-03, 1.30460973e-03, 6.50230907e-04,\n",
       "       7.40102162e-04, 1.08589747e-03, 6.51501107e-04, 9.28113746e-04,\n",
       "       1.28587466e-03, 1.12484356e-03, 1.90282793e-03, 1.76334232e-03,\n",
       "       4.68127322e-04, 1.96783069e-03, 1.05487486e-03, 9.77300266e-04,\n",
       "       1.14840708e-03, 1.48962913e-03, 1.63185483e-02, 1.84190092e-02,\n",
       "       1.90776947e-02, 1.49077220e-02, 1.75049079e-02, 2.08076902e-02,\n",
       "       2.79663218e-02, 2.07836391e-02, 2.38373983e-02, 7.48360291e-03,\n",
       "       1.43111561e-02, 1.19762459e-02, 9.27066274e-03, 3.07022104e-03,\n",
       "       2.00407550e-02, 5.99807464e-03, 1.96606907e-02, 1.76944324e-02,\n",
       "       1.69427382e-02, 1.61389842e-02, 1.64946141e-02, 2.16550530e-02,\n",
       "       4.27976195e-03, 2.29550872e-02])"
      ]
     },
     "execution_count": 22,
     "metadata": {},
     "output_type": "execute_result"
    }
   ],
   "source": [
    "clf_top_4.feature_importances_"
   ]
  },
  {
   "cell_type": "code",
   "execution_count": null,
   "metadata": {},
   "outputs": [],
   "source": []
  }
 ],
 "metadata": {
  "kernelspec": {
   "display_name": "Python 3",
   "language": "python",
   "name": "python3"
  },
  "language_info": {
   "codemirror_mode": {
    "name": "ipython",
    "version": 3
   },
   "file_extension": ".py",
   "mimetype": "text/x-python",
   "name": "python",
   "nbconvert_exporter": "python",
   "pygments_lexer": "ipython3",
   "version": "3.8.5"
  }
 },
 "nbformat": 4,
 "nbformat_minor": 4
}
