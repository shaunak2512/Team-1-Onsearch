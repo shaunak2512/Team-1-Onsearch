{
 "cells": [
  {
   "cell_type": "code",
   "execution_count": null,
   "metadata": {},
   "outputs": [],
   "source": [
    "def get_best_item(recommended_items):\n",
    "    max_rank = recommended_items[0][1]\n",
    "    max_rank_items = []\n",
    "    for items,rank in recommended_items:\n",
    "        if(rank == max_rank):\n",
    "            max_rank_items += list(items)\n",
    "    c = Counter(max_rank_items)\n",
    "    return c.most_common(1)[0][0]"
   ]
  }
 ],
 "metadata": {
  "kernelspec": {
   "display_name": "Python 3",
   "language": "python",
   "name": "python3"
  },
  "language_info": {
   "codemirror_mode": {
    "name": "ipython",
    "version": 3
   },
   "file_extension": ".py",
   "mimetype": "text/x-python",
   "name": "python",
   "nbconvert_exporter": "python",
   "pygments_lexer": "ipython3",
   "version": "3.8.3"
  }
 },
 "nbformat": 4,
 "nbformat_minor": 4
}
