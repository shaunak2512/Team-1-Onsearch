{
 "cells": [
  {
   "cell_type": "code",
   "execution_count": 1,
   "metadata": {},
   "outputs": [],
   "source": [
    "import pickle\n",
    "import random\n",
    "import numpy as np\n",
    "import pandas as pd\n",
    "import json\n",
    "from itertools import groupby, chain, permutations, combinations, combinations_with_replacement\n",
    "from collections import Counter"
   ]
  },
  {
   "cell_type": "code",
   "execution_count": 2,
   "metadata": {},
   "outputs": [],
   "source": [
    "reg_model = open('final_reg_model.sav', 'rb')\n",
    "reg = pickle.load(reg_model)"
   ]
  },
  {
   "cell_type": "code",
   "execution_count": 3,
   "metadata": {},
   "outputs": [
    {
     "name": "stdout",
     "output_type": "stream",
     "text": [
      "[2.41929347e-01 1.43612345e-01 7.83580597e-04 1.01204220e-04\n",
      " 5.51466436e-04 1.13638592e-04 3.71696041e-04 1.03751745e-04\n",
      " 3.71916972e-04 6.77853381e-06 6.03588345e-04 7.50785656e-05\n",
      " 2.19364171e-04 9.87194975e-06 1.86194526e-04 2.39813158e-07\n",
      " 2.12815938e-05 1.41306741e-07 2.55752461e-04 0.00000000e+00\n",
      " 1.44637358e-03 8.91452310e-05 1.18383149e-03 3.00839551e-04\n",
      " 1.24860120e-03 4.77289095e-04 1.04717745e-03 1.09367934e-04\n",
      " 1.17926897e-03 2.78946344e-04 8.70615991e-04 1.80979634e-04\n",
      " 7.37889822e-04 2.31624847e-05 8.28889389e-05 8.55959545e-06\n",
      " 1.23882953e-03 0.00000000e+00 2.86183956e-03 7.29824514e-05\n",
      " 2.61600130e-03 5.46324888e-04 3.10927582e-03 5.93263334e-04\n",
      " 3.16268441e-03 1.02182841e-03 2.96723129e-03 6.33471286e-04\n",
      " 2.99187256e-03 7.01051380e-04 3.38401341e-03 8.47366506e-04\n",
      " 9.19210283e-04 3.57706625e-04 3.08419419e-03 7.10812975e-04\n",
      " 1.05666925e-03 3.05657170e-04 7.06847372e-04 1.78276506e-04\n",
      " 2.67623485e-04 7.11753619e-04 8.07633118e-04 3.68518700e-04\n",
      " 6.17972949e-04 1.18429920e-04 5.35483806e-04 9.56526374e-04\n",
      " 2.34203873e-04 1.52605810e-04 2.45469479e-04 9.89761706e-04\n",
      " 8.19034534e-04 3.36676439e-04 1.68569948e-04 1.44956691e-03\n",
      " 6.89423552e-04 3.00520088e-04 2.15001537e-04 4.94607935e-04\n",
      " 4.41973075e-04 8.73704230e-04 4.58820549e-04 2.28091755e-04\n",
      " 7.00152330e-04 4.88706457e-04 6.80637094e-04 6.47776231e-04\n",
      " 9.53484503e-04 6.28542230e-04 1.16477038e-03 1.62121681e-03\n",
      " 4.35468562e-04 2.84392123e-04 2.80950768e-04 8.72532027e-04\n",
      " 6.36129504e-04 6.65311611e-04 1.25782606e-04 2.26102248e-04\n",
      " 5.97832402e-04 1.40361496e-04 3.01124810e-04 4.66576215e-04\n",
      " 3.62236052e-04 6.06647204e-04 1.01972224e-03 1.43834066e-04\n",
      " 1.10462279e-03 5.51643929e-04 4.14373908e-04 6.08480432e-04\n",
      " 1.18030278e-03 2.14613366e-02 2.36881680e-02 2.33024706e-02\n",
      " 1.77247207e-02 2.23289686e-02 2.74470999e-02 3.33312814e-02\n",
      " 2.40954376e-02 3.22323229e-02 1.00299385e-02 1.84874365e-02\n",
      " 1.38469258e-02 1.27783421e-02 2.19350674e-03 2.33430851e-02\n",
      " 4.53649100e-03 2.47190321e-02 2.01729777e-02 2.10578628e-02\n",
      " 2.03414256e-02 2.14652964e-02 2.77388368e-02 4.67680144e-03\n",
      " 2.89153260e-02 2.55453337e-04 1.16876137e-03 2.62038225e-03\n",
      " 8.13009444e-03 2.59694356e-02 5.93614168e-03 1.29500502e-02\n",
      " 1.33175880e-05]\n"
     ]
    }
   ],
   "source": [
    "print(reg.feature_importances_)"
   ]
  },
  {
   "cell_type": "code",
   "execution_count": 4,
   "metadata": {},
   "outputs": [],
   "source": [
    "# Generate all possible item combinations\n",
    "from itertools import combinations_with_replacement \n",
    "def generate_item_combinations(items_list):\n",
    "    combinations = combinations_with_replacement(items_list,3)\n",
    "    res = []\n",
    "    for combination in combinations:\n",
    "        combination = tuple(x for x in combination)\n",
    "        # check if tuple is in ascending order\n",
    "        if(combination[0] <= combination[1] and combination[1] <= combination[2]):\n",
    "            # check if there are no more than 1 basic items in the tuple \n",
    "            # note: 0 is considered as a combined item since 1, 2 or even all 3 item slots can be empty\n",
    "            if(np.sum(np.floor([(x/10) if x else 1 for x in combination]) == 0) <= 1):\n",
    "                res.append(combination)\n",
    "    return res"
   ]
  },
  {
   "cell_type": "code",
   "execution_count": 5,
   "metadata": {},
   "outputs": [
    {
     "data": {
      "text/plain": [
       "[(7, 16, 57),\n",
       " (0, 15, 66),\n",
       " (15, 23, 77),\n",
       " (3, 37, 45),\n",
       " (14, 24, 29),\n",
       " (4, 12, 29),\n",
       " (12, 37, 89),\n",
       " (14, 48, 67),\n",
       " (34, 57, 89),\n",
       " (8, 23, 24)]"
      ]
     },
     "execution_count": 5,
     "metadata": {},
     "output_type": "execute_result"
    }
   ],
   "source": [
    "items_list = [10 * i + j for i in range(10) for j in range(i,10)]\n",
    "item_combinations_list = generate_item_combinations(items_list)\n",
    "random.sample(item_combinations_list, 10)"
   ]
  },
  {
   "cell_type": "code",
   "execution_count": 6,
   "metadata": {},
   "outputs": [],
   "source": [
    "def vectorise_items(items):\n",
    "    item_index = {x:y for x,y in zip(range(1,10),range(0,18,2))}\n",
    "    res = {}\n",
    "    for i,item in enumerate(items):\n",
    "        item_str = str(item)\n",
    "        vect = np.zeros([18])\n",
    "        for i in item_str:\n",
    "            if i != '0':\n",
    "                first_index = item_index[int(i)]\n",
    "                if(not vect[first_index]):\n",
    "                    vect[first_index] = 1\n",
    "                else:\n",
    "                    vect[first_index+1] = 1\n",
    "        res[item] = vect\n",
    "    res[0] = np.zeros([18])\n",
    "    return res\n",
    "# Vector embeddings for all item combinations\n",
    "# Convert a list of items to vectors\n",
    "item_vector_dict = vectorise_items(items_list)\n",
    "def item_vector_lookup(item_list, d=item_vector_dict):\n",
    "    res = []\n",
    "    for items in item_list:\n",
    "        temp_res = []\n",
    "        for item in items:\n",
    "            temp_res = temp_res + d[item].tolist()\n",
    "        res.append(temp_res)\n",
    "    return res\n",
    "item_combinations_vector = item_vector_lookup(item_combinations_list)"
   ]
  },
  {
   "cell_type": "code",
   "execution_count": 7,
   "metadata": {},
   "outputs": [],
   "source": [
    "item_combinations_vector = np.asarray(item_combinations_vector)"
   ]
  },
  {
   "cell_type": "code",
   "execution_count": 8,
   "metadata": {},
   "outputs": [],
   "source": [
    "# Get n item recommendations and their predicted rank by running random forest model on all possible item combinations\n",
    "def get_n_item_recommendations(model, item_combinations_list, item_combinations_vector, input_vector):\n",
    "    # Duplicate input vector N times, N = #total number of item combinations\n",
    "    input_vector_stretched = np.tile(input_vector,(item_combinations_vector.shape[0],1))\n",
    "    # Add every item combination vector to the stretched input vector\n",
    "    input_vector_with_item_combo = np.insert(input_vector_stretched,3,item_combinations_vector.transpose(),axis=1)\n",
    "    # Predict rank\n",
    "    results = reg.predict(input_vector_with_item_combo)\n",
    "    # sort indices by predicted rank (descending)\n",
    "    sorted_items_index = np.argsort(results)\n",
    "    # Return n item combinations with the highest predicted ranks\n",
    "    return np.asarray([(item_combinations_list[x], results[x]) for x in sorted_items_index], dtype = object)\n",
    "\n",
    "# Get the highest average predicted rank of each item by using the model on all item combos\n",
    "def get_highest_average_rank_items(model, item_combinations_list, item_combinations_vector, input_vector):\n",
    "    # Duplicate input vector N times, N = #total number of item combinations\n",
    "    input_vector_stretched = np.tile(input_vector,(item_combinations_vector.shape[0],1))\n",
    "    # Add every item combination vector to the stretched input vector\n",
    "    input_vector_with_item_combo = np.insert(input_vector_stretched,3,item_combinations_vector.transpose(),axis=1)\n",
    "    # Predict rank\n",
    "    results = reg.predict(input_vector_with_item_combo)\n",
    "    sum_rank_dict = {}\n",
    "    for i, rank in enumerate(results):\n",
    "        for item in item_combinations_list[i]:\n",
    "            if item not in sum_rank_dict:\n",
    "                sum_rank_dict[item] = [rank, 1]\n",
    "            else:\n",
    "                sum_rank_dict[item][0] += rank\n",
    "                sum_rank_dict[item][1] += 1\n",
    "    avg_rank_dict = {}\n",
    "    for k, v in sum_rank_dict.items():\n",
    "        avg_rank_dict[k] = 1.0 * v[0] / v[1]\n",
    "    return avg_rank_dict"
   ]
  },
  {
   "cell_type": "code",
   "execution_count": 9,
   "metadata": {},
   "outputs": [],
   "source": [
    "with open('full_mapping.json') as json_data:\n",
    "    fullmap = json.load(json_data)\n",
    "item_mapping = fullmap['item_mapping_json']\n",
    "item_mapping['0'] = 'None'"
   ]
  },
  {
   "cell_type": "code",
   "execution_count": 10,
   "metadata": {},
   "outputs": [],
   "source": [
    "# Get item names for a tuple of item numbers\n",
    "def get_item_names(item_combo, item_mapping = item_mapping):\n",
    "    return tuple(item_mapping.get(str(item)) for item in item_combo)"
   ]
  },
  {
   "cell_type": "code",
   "execution_count": 11,
   "metadata": {},
   "outputs": [],
   "source": [
    "combined_df = pd.read_pickle(\"final_data_frame_one_hot\")\n",
    "combined_df = combined_df.drop(columns = [\"stage\"])"
   ]
  },
  {
   "cell_type": "code",
   "execution_count": 12,
   "metadata": {},
   "outputs": [
    {
     "name": "stdout",
     "output_type": "stream",
     "text": [
      "['gold_spent', 'level', 'Chrono', 'DarkStar', 'Vanguard', 'StarGuardian', 'Celestial', 'stage_5', 'Protector', 'Cybernetic', 'Battlecast', 'Mystic', 'Blademaster', 'Brawler', 'SpacePirate', 'Astro', 'Sniper', 'Sorcerer', 'Rebel', 'Infiltrator', 'Blaster', 'ManaReaver', 'stage_7', 'MechPilot', 'Demolitionist', 'stage_4', 'stage_6', 'Starship', 'Paragon', 'item_index49', 'item_index43', 'item_index41', 'item_index53', 'item_index47', 'item_index45', 'item_index37', 'stage_3', 'item_index39', 'Mercenary', 'TFT3_Rakan', 'TFT3_JarvanIV', 'item_index19', 'item_index23', 'item_index35', 'item_index21', 'TFT3_Zoe', 'item_index27', 'stage_2', 'TFT3_Poppy', 'TFT3_XinZhao', 'TFT3_Ahri', 'item_index25', 'item_index44', 'TFT3_Xayah', 'TFT3_Graves', 'TFT3_Fiora', 'TFT3_Neeko', 'item_index51', 'TFT3_Leona', 'TFT3_Shen', 'item_index29', 'item_index50', 'TFT3_Illaoi', 'TFT3_Caitlyn', 'item_index1', 'item_index31', 'TFT3_Blitzcrank', 'item_index54', 'TFT3_Ashe', 'item_index48', 'TFT3_Malphite', 'TFT3_Jayce', 'TFT3_Mordekaiser', 'TFT3_Syndra', 'TFT3_Nautilus', 'TFT3_Soraka', 'item_index46', 'TFT3_Nocturne', 'TFT3_Darius', 'TFT3_Ziggs', 'TFT3_WuKong', 'item_index9', 'TFT3_TwistedFate', 'item_index42', 'TFT3_Yasuo', 'item_index3', 'item_index40', 'TFT3_Ezreal', 'TFT3_Karma', 'TFT3_MasterYi', 'item_index24', 'TFT3_Vi', 'TFT3_Lucian', 'TFT3_KogMaw', 'TFT3_Riven', 'TFT3_Zed', 'item_index7', 'item_index5', 'TFT3_Cassiopeia', 'TFT3_Viktor', 'item_index52', 'TFT3_Irelia', 'TFT3_Annie', 'TFT3_Vayne', 'item_index22', 'TFT3_Jhin', 'TFT3_Rumble', 'TFT3_Shaco', 'item_index28', 'TFT3_Bard', 'item_index17', 'stage_1', 'TFT3_Gnar', 'TFT3_Fizz', 'TFT3_Lulu', 'TFT3_Thresh', 'item_index11', 'TFT3_Jinx', 'item_index13', 'item_index30', 'TFT3_AurelionSol', 'TFT3_Janna', 'TFT3_Gangplank', 'TFT3_Xerath', 'TFT3_Urgot', 'TFT3_Teemo', 'TFT3_Ekko', 'item_index4', 'item_index26', 'item_index6', 'item_index2', 'item_index20', 'item_index33', 'item_index10', 'item_index38', 'item_index32', 'item_index15', 'stage_8', 'item_index12', 'item_index34', 'item_index8', 'item_index14', 'item_index16', 'item_index18', 'item_index36']\n"
     ]
    }
   ],
   "source": [
    "col_name = list(combined_df.drop(columns = [\"rank\"]).columns)\n",
    "col_importance = list(reg.feature_importances_)\n",
    "feature_importance = [name for (value, name) in sorted(zip(col_importance, col_name), key = lambda x: x[0], reverse = True)]\n",
    "print(feature_importance)"
   ]
  },
  {
   "cell_type": "code",
   "execution_count": 91,
   "metadata": {},
   "outputs": [
    {
     "name": "stdout",
     "output_type": "stream",
     "text": [
      "gold_spent         36\n",
      "level         5.33333\n",
      "TFT3_Ahri           0\n",
      "TFT3_Annie          0\n",
      "TFT3_Ashe           0\n",
      "               ...   \n",
      "stage_4             0\n",
      "stage_5             0\n",
      "stage_6             0\n",
      "stage_7             0\n",
      "stage_8             0\n",
      "Name: 1854662, Length: 91, dtype: object\n"
     ]
    }
   ],
   "source": [
    "# Get a random row of combined_df and remove all item indices\n",
    "not_item_index = list(chain(range(3),range(58,combined_df.shape[1])))\n",
    "#x_single = combined_df.iloc[663,not_item_index]\n",
    "row = random.randint(0,combined_df.shape[0])\n",
    "x_single = combined_df.iloc[row,~combined_df.columns.str.match(r'^(item|rank)')]\n",
    "print(x_single)\n",
    "\n",
    "def get_row_info(row, x_single):\n",
    "    character = 'None'\n",
    "    tft = list(combined_df.iloc[row, combined_df.columns.str.match(r'^TFT3_')].keys())\n",
    "    stages = list(combined_df.iloc[row, combined_df.columns.str.match(r'^stage')].keys())\n",
    "    gold = list(combined_df.iloc[row, combined_df.columns.str.match(r'^gold_spent$')].keys())\n",
    "    levels = list(combined_df.iloc[row, combined_df.columns.str.match(r'^level$')].keys())\n",
    "    traits = list(set(x_single.keys()) - set(tft) - set(stages) - set(gold) - set(levels))\n",
    "    for key in tft:\n",
    "        if x_single[key] == 1:\n",
    "            character = key\n",
    "            break\n",
    "    stage = 'None'\n",
    "    for key in stages:\n",
    "        if x_single[key] == 1:\n",
    "            stage = key\n",
    "            break\n",
    "    gold_spent = x_single[gold][0]\n",
    "    level = x_single[levels][0]\n",
    "    trait_dict = {}\n",
    "    for key in traits:\n",
    "        if x_single[key] > 0:\n",
    "            trait_dict[key] = x_single[key]\n",
    "    info_dict = {'Character': character[5:],\n",
    "                 'Stage': stage,\n",
    "                 'Gold_spent': gold_spent,\n",
    "                 'Level': level,\n",
    "                 'Traits': trait_dict}\n",
    "    return info_dict\n",
    "\n",
    "row_info = get_row_info(row, x_single)\n",
    "input_vector = x_single.to_numpy()"
   ]
  },
  {
   "cell_type": "code",
   "execution_count": 92,
   "metadata": {},
   "outputs": [
    {
     "name": "stdout",
     "output_type": "stream",
     "text": [
      "Character: Riven\n",
      "Stage: stage_3\n",
      "Gold_spent: 36.0\n",
      "Level: 5.333333333333333\n",
      "Traits: {'Brawler': 2.0, 'Chrono': 4.0, 'Blaster': 2.0, 'Cybernetic': 3.0, 'Blademaster': 2.0, 'Sniper': 1.0}\n"
     ]
    },
    {
     "data": {
      "text/plain": [
       "array([[(22, 33, 88), 3.73],\n",
       "       [(11, 33, 88), 3.73],\n",
       "       [(11, 66, 88), 3.74],\n",
       "       ...,\n",
       "       [(68, 99, 99), 4.19],\n",
       "       [(22, 99, 99), 4.2],\n",
       "       [(99, 99, 99), 4.24]], dtype=object)"
      ]
     },
     "execution_count": 92,
     "metadata": {},
     "output_type": "execute_result"
    }
   ],
   "source": [
    "recommended_items = get_n_item_recommendations(reg, item_combinations_list, item_combinations_vector, input_vector)\n",
    "for k, v in row_info.items():\n",
    "    print(f'{k}: {v}')\n",
    "recommended_items"
   ]
  },
  {
   "cell_type": "code",
   "execution_count": 93,
   "metadata": {},
   "outputs": [
    {
     "name": "stdout",
     "output_type": "stream",
     "text": [
      "Character: Riven\n",
      "Stage: stage_3\n",
      "Gold_spent: 36.0\n",
      "Level: 5.333333333333333\n",
      "Traits: {'Brawler': 2.0, 'Chrono': 4.0, 'Blaster': 2.0, 'Cybernetic': 3.0, 'Blademaster': 2.0, 'Sniper': 1.0}\n",
      "\n",
      "Recommendation: RabadonsDeathcap\n"
     ]
    }
   ],
   "source": [
    "def get_best_item(recommended_items):\n",
    "    max_rank = recommended_items[0][1]\n",
    "    max_rank_items = []\n",
    "    for items,rank in recommended_items:\n",
    "        if(rank == max_rank):\n",
    "            max_rank_items += list(items)\n",
    "    c = Counter(max_rank_items)\n",
    "    return c.most_common(1)[0][0]\n",
    "\n",
    "for k, v in row_info.items():\n",
    "    print(f'{k}: {v}')\n",
    "print('\\nRecommendation: ' + item_mapping.get(str(get_best_item(recommended_items))))"
   ]
  },
  {
   "cell_type": "code",
   "execution_count": 94,
   "metadata": {},
   "outputs": [
    {
     "name": "stdout",
     "output_type": "stream",
     "text": [
      "Character: Riven\n",
      "Stage: stage_3\n",
      "Gold_spent: 36.0\n",
      "Level: 5.333333333333333\n",
      "Traits: {'Brawler': 2.0, 'Chrono': 4.0, 'Blaster': 2.0, 'Cybernetic': 3.0, 'Blademaster': 2.0, 'Sniper': 1.0}\n",
      "\n",
      "Recommendations:\n",
      "('RapidFirecannon', 'RabadonsDeathcap', 'ForceofNature')\n",
      "('Deathblade', 'RabadonsDeathcap', 'ForceofNature')\n",
      "('Deathblade', 'DragonsClaw', 'ForceofNature')\n",
      "('Deathblade', 'BrambleVest', 'ForceofNature')\n",
      "('RapidFirecannon', 'BrambleVest', 'ForceofNature')\n",
      "('RapidFirecannon', 'DragonsClaw', 'ForceofNature')\n",
      "('Deathblade', 'LastWhisper', 'RabadonsDeathcap')\n",
      "('Deathblade', 'GiantSlayer', 'RabadonsDeathcap')\n",
      "('Deathblade', 'HextechGunblade', 'RabadonsDeathcap')\n",
      "('RapidFirecannon', 'ForceofNature', 'ForceofNature')\n"
     ]
    }
   ],
   "source": [
    "for k, v in row_info.items():\n",
    "    print(f'{k}: {v}')\n",
    "recommended = [get_item_names(x) for x in recommended_items[:,0]]\n",
    "print('\\nRecommendations:')\n",
    "for rec in recommended[:10]:\n",
    "    print(rec)"
   ]
  },
  {
   "cell_type": "code",
   "execution_count": 95,
   "metadata": {},
   "outputs": [
    {
     "name": "stdout",
     "output_type": "stream",
     "text": [
      "Character: Riven\n",
      "Stage: stage_3\n",
      "Gold_spent: 36.0\n",
      "Level: 5.333333333333333\n",
      "Traits: {'Brawler': 2.0, 'Chrono': 4.0, 'Blaster': 2.0, 'Cybernetic': 3.0, 'Blademaster': 2.0, 'Sniper': 1.0}\n",
      "\n",
      "Recommendations:\n",
      "('ForceofNature', 3.809509993552621)\n",
      "('ProtectorsChestguard', 3.8663765312702094)\n",
      "('CelestialOrb', 3.8718891038040457)\n",
      "('RabadonsDeathcap', 3.8794390715667473)\n",
      "('Deathblade', 3.8938555770470926)\n",
      "('Zephyr', 3.901057382334022)\n",
      "('BattlecastArmor', 3.901766602192147)\n",
      "('DragonsClaw', 3.9071502256608497)\n",
      "('WarmogsArmor', 3.907672469374576)\n",
      "('InfiltratorsTalons', 3.9077498388136767)\n",
      "('BladeoftheRuinedKing', 3.9144229529335997)\n",
      "('IonicSpark', 3.9150741457124587)\n",
      "('Morellonomicon', 3.9150741457124587)\n",
      "('ZzrotPortal', 3.9156415215989777)\n",
      "('RunaansHurricane', 3.91564152159898)\n",
      "('GuinsoosRageblade', 3.917182462927156)\n",
      "('BrambleVest', 3.9176208897485636)\n",
      "('Bloodthirster', 3.917672469374609)\n",
      "('ZekesHerald', 3.917672469374609)\n",
      "('RebelMedal', 3.918762088974839)\n",
      "('GiantSlayer', 3.919142488716969)\n",
      "('HextechGunblade', 3.919142488716969)\n",
      "('StarGuardiansCharm', 3.9199871050935355)\n",
      "('GuardianAngel', 3.9211927788523653)\n",
      "('None', 3.9217021276595876)\n",
      "('Spatula', 3.924329324699348)\n",
      "('Recurve Bow', 3.9243663274745564)\n",
      "('Needlessly Large Rod', 3.9243663274745564)\n",
      "('Negatron Cloak', 3.9243663274745564)\n",
      "(\"Giant's Belt\", 3.9243663274745564)\n",
      "('B.F. Sword', 3.9243755781683585)\n",
      "('Chain Vest', 3.924421831637369)\n",
      "('Sparring Gloves', 3.924440333024972)\n",
      "('TitansResolve', 3.925506125080602)\n",
      "('InfinityEdge', 3.925641521598979)\n",
      "('Tear of the Goddess', 3.9258279370952778)\n",
      "('LocketoftheIronSolari', 3.9325209542230866)\n",
      "('SpearofShojin', 3.9332817537072966)\n",
      "('LastWhisper', 3.9335138620245087)\n",
      "('RapidFirecannon', 3.93419084461635)\n",
      "('DarkStarsHeart', 3.9353707285622557)\n",
      "('StatikkShiv', 3.9372082527401826)\n",
      "('ChaliceofFavor', 3.9389426176660596)\n",
      "('Redemption', 3.9389426176660596)\n",
      "('LudensEcho', 3.9403159252095676)\n",
      "('SwordBreaker', 3.9431334622823697)\n",
      "('RedBuff', 3.9431334622823697)\n",
      "('JeweledGauntlet', 3.9443197936815046)\n",
      "('Quicksilver', 3.9631850419084835)\n",
      "('FrozenHeart', 3.9643971631205766)\n",
      "('TrapClaw', 3.9695099935525904)\n",
      "('BlueBuff', 3.974261766602225)\n",
      "('HandofJustice', 3.9799484203739954)\n",
      "('ThiefsGloves', 3.989574468085127)\n",
      "('ShroudofStillness', 3.9953578336557283)\n"
     ]
    }
   ],
   "source": [
    "for k, v in row_info.items():\n",
    "    print(f'{k}: {v}')\n",
    "highest_items = get_highest_average_rank_items(reg, item_combinations_list, item_combinations_vector, input_vector)\n",
    "situational_trait_items = {'BladeoftheRuinedKing', 'InfiltratorsTalons', 'RebelMedal', 'CelestialOrb', 'BattlecastArmor', 'StarGuardiansCharm', 'ProtectorsChestguard', 'DarkStarsHeart'}\n",
    "print('\\nRecommendations:')\n",
    "for tup in sorted([(item_mapping.get(str(item)), avg_rank) for item, avg_rank in highest_items.items()], key = lambda x: x[1]):\n",
    "    #if tup[0] not in situational_trait_items:\n",
    "    print(tup)"
   ]
  },
  {
   "cell_type": "code",
   "execution_count": null,
   "metadata": {},
   "outputs": [],
   "source": []
  },
  {
   "cell_type": "code",
   "execution_count": null,
   "metadata": {},
   "outputs": [],
   "source": []
  }
 ],
 "metadata": {
  "kernelspec": {
   "display_name": "Python 3",
   "language": "python",
   "name": "python3"
  },
  "language_info": {
   "codemirror_mode": {
    "name": "ipython",
    "version": 3
   },
   "file_extension": ".py",
   "mimetype": "text/x-python",
   "name": "python",
   "nbconvert_exporter": "python",
   "pygments_lexer": "ipython3",
   "version": "3.8.5"
  }
 },
 "nbformat": 4,
 "nbformat_minor": 4
}
