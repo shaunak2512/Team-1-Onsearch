{
 "cells": [
  {
   "cell_type": "code",
   "execution_count": 5,
   "metadata": {},
   "outputs": [],
   "source": [
    "import pickle\n",
    "import random\n",
    "import numpy as np\n",
    "import pandas as pd\n",
    "import json\n",
    "from itertools import groupby, chain, permutations, combinations, combinations_with_replacement"
   ]
  },
  {
   "cell_type": "code",
   "execution_count": 6,
   "metadata": {},
   "outputs": [],
   "source": [
    "reg_model = open('final_reg_model.sav', 'rb')\n",
    "reg = pickle.load(reg_model)"
   ]
  },
  {
   "cell_type": "code",
   "execution_count": 7,
   "metadata": {},
   "outputs": [
    {
     "name": "stdout",
     "output_type": "stream",
     "text": [
      "[2.41929347e-01 1.43612345e-01 7.83580597e-04 1.01204220e-04\n",
      " 5.51466436e-04 1.13638592e-04 3.71696041e-04 1.03751745e-04\n",
      " 3.71916972e-04 6.77853381e-06 6.03588345e-04 7.50785656e-05\n",
      " 2.19364171e-04 9.87194975e-06 1.86194526e-04 2.39813158e-07\n",
      " 2.12815938e-05 1.41306741e-07 2.55752461e-04 0.00000000e+00\n",
      " 1.44637358e-03 8.91452310e-05 1.18383149e-03 3.00839551e-04\n",
      " 1.24860120e-03 4.77289095e-04 1.04717745e-03 1.09367934e-04\n",
      " 1.17926897e-03 2.78946344e-04 8.70615991e-04 1.80979634e-04\n",
      " 7.37889822e-04 2.31624847e-05 8.28889389e-05 8.55959545e-06\n",
      " 1.23882953e-03 0.00000000e+00 2.86183956e-03 7.29824514e-05\n",
      " 2.61600130e-03 5.46324888e-04 3.10927582e-03 5.93263334e-04\n",
      " 3.16268441e-03 1.02182841e-03 2.96723129e-03 6.33471286e-04\n",
      " 2.99187256e-03 7.01051380e-04 3.38401341e-03 8.47366506e-04\n",
      " 9.19210283e-04 3.57706625e-04 3.08419419e-03 7.10812975e-04\n",
      " 1.05666925e-03 3.05657170e-04 7.06847372e-04 1.78276506e-04\n",
      " 2.67623485e-04 7.11753619e-04 8.07633118e-04 3.68518700e-04\n",
      " 6.17972949e-04 1.18429920e-04 5.35483806e-04 9.56526374e-04\n",
      " 2.34203873e-04 1.52605810e-04 2.45469479e-04 9.89761706e-04\n",
      " 8.19034534e-04 3.36676439e-04 1.68569948e-04 1.44956691e-03\n",
      " 6.89423552e-04 3.00520088e-04 2.15001537e-04 4.94607935e-04\n",
      " 4.41973075e-04 8.73704230e-04 4.58820549e-04 2.28091755e-04\n",
      " 7.00152330e-04 4.88706457e-04 6.80637094e-04 6.47776231e-04\n",
      " 9.53484503e-04 6.28542230e-04 1.16477038e-03 1.62121681e-03\n",
      " 4.35468562e-04 2.84392123e-04 2.80950768e-04 8.72532027e-04\n",
      " 6.36129504e-04 6.65311611e-04 1.25782606e-04 2.26102248e-04\n",
      " 5.97832402e-04 1.40361496e-04 3.01124810e-04 4.66576215e-04\n",
      " 3.62236052e-04 6.06647204e-04 1.01972224e-03 1.43834066e-04\n",
      " 1.10462279e-03 5.51643929e-04 4.14373908e-04 6.08480432e-04\n",
      " 1.18030278e-03 2.14613366e-02 2.36881680e-02 2.33024706e-02\n",
      " 1.77247207e-02 2.23289686e-02 2.74470999e-02 3.33312814e-02\n",
      " 2.40954376e-02 3.22323229e-02 1.00299385e-02 1.84874365e-02\n",
      " 1.38469258e-02 1.27783421e-02 2.19350674e-03 2.33430851e-02\n",
      " 4.53649100e-03 2.47190321e-02 2.01729777e-02 2.10578628e-02\n",
      " 2.03414256e-02 2.14652964e-02 2.77388368e-02 4.67680144e-03\n",
      " 2.89153260e-02 2.55453337e-04 1.16876137e-03 2.62038225e-03\n",
      " 8.13009444e-03 2.59694356e-02 5.93614168e-03 1.29500502e-02\n",
      " 1.33175880e-05]\n"
     ]
    }
   ],
   "source": [
    "print(reg.feature_importances_)"
   ]
  },
  {
   "cell_type": "code",
   "execution_count": 8,
   "metadata": {},
   "outputs": [],
   "source": [
    "# Generate all possible item combinations\n",
    "from itertools import combinations_with_replacement \n",
    "def generate_item_combinations(items_list):\n",
    "    combinations = combinations_with_replacement(items_list,3)\n",
    "    res = []\n",
    "    for combination in combinations:\n",
    "        combination = tuple(x for x in combination)\n",
    "        # check if tuple is in ascending order\n",
    "        if(combination[0] <= combination[1] and combination[1] <= combination[2]):\n",
    "            # check if there are no more than 1 basic items in the tuple \n",
    "            # note: 0 is considered as a combined item since 1, 2 or even all 3 item slots can be empty\n",
    "            if(np.sum(np.floor([(x/10) if x else 1 for x in combination]) == 0) <= 1):\n",
    "                res.append(combination)\n",
    "    return res"
   ]
  },
  {
   "cell_type": "code",
   "execution_count": 9,
   "metadata": {},
   "outputs": [
    {
     "data": {
      "text/plain": [
       "[(1, 44, 78),\n",
       " (7, 34, 45),\n",
       " (35, 46, 78),\n",
       " (19, 39, 99),\n",
       " (8, 79, 99),\n",
       " (1, 25, 33),\n",
       " (16, 28, 48),\n",
       " (35, 56, 79),\n",
       " (35, 36, 67),\n",
       " (24, 35, 47)]"
      ]
     },
     "execution_count": 9,
     "metadata": {},
     "output_type": "execute_result"
    }
   ],
   "source": [
    "items_list = [10 * i + j for i in range(10) for j in range(i,10)]\n",
    "item_combinations_list = generate_item_combinations(items_list)\n",
    "random.sample(item_combinations_list, 10)"
   ]
  },
  {
   "cell_type": "code",
   "execution_count": 10,
   "metadata": {},
   "outputs": [],
   "source": [
    "def vectorise_items(items):\n",
    "    item_index = {x:y for x,y in zip(range(1,10),range(0,18,2))}\n",
    "    res = {}\n",
    "    for i,item in enumerate(items):\n",
    "        item_str = str(item)\n",
    "        vect = np.zeros([18])\n",
    "        for i in item_str:\n",
    "            if i != '0':\n",
    "                first_index = item_index[int(i)]\n",
    "                if(not vect[first_index]):\n",
    "                    vect[first_index] = 1\n",
    "                else:\n",
    "                    vect[first_index+1] = 1\n",
    "        res[item] = vect\n",
    "    res[0] = np.zeros([18])\n",
    "    return res\n",
    "# Vector embeddings for all item combinations\n",
    "# Convert a list of items to vectors\n",
    "item_vector_dict = vectorise_items(items_list)\n",
    "def item_vector_lookup(item_list, d=item_vector_dict):\n",
    "    res = []\n",
    "    for items in item_list:\n",
    "        temp_res = []\n",
    "        for item in items:\n",
    "            temp_res = temp_res + d[item].tolist()\n",
    "        res.append(temp_res)\n",
    "    return res\n",
    "item_combinations_vector = item_vector_lookup(item_combinations_list)"
   ]
  },
  {
   "cell_type": "code",
   "execution_count": 11,
   "metadata": {},
   "outputs": [],
   "source": [
    "item_combinations_vector = np.asarray(item_combinations_vector)"
   ]
  },
  {
   "cell_type": "code",
   "execution_count": 55,
   "metadata": {},
   "outputs": [],
   "source": [
    "# Get n item recommendations and their predicted rank by running random forest model on all possible item combinations\n",
    "def get_n_item_recommendations(model, item_combinations_list, item_combinations_vector, input_vector, n=5):\n",
    "    # Duplicate input vector N times, N = #total number of item combinations\n",
    "    input_vector_stretched = np.tile(input_vector,(item_combinations_vector.shape[0],1))\n",
    "    # Add every item combination vector to the stretched input vector\n",
    "    input_vector_with_item_combo = np.insert(input_vector_stretched,3,item_combinations_vector.transpose(),axis=1)\n",
    "    # Predict rank\n",
    "    results = reg.predict(input_vector_with_item_combo)\n",
    "    # sort indices by predicted rank (descending)\n",
    "    sorted_items_index = np.argsort(results)\n",
    "    # Return n item combinations with the highest predicted ranks\n",
    "    return np.asarray([(item_combinations_list[x], results[x]) for x in sorted_items_index[:n]], dtype = object)\n",
    "\n",
    "# Get the highest average predicted rank of each item by using the model on all item combos\n",
    "def get_highest_average_rank_items(model, item_combinations_list, item_combinations_vector, input_vector):\n",
    "    # Duplicate input vector N times, N = #total number of item combinations\n",
    "    input_vector_stretched = np.tile(input_vector,(item_combinations_vector.shape[0],1))\n",
    "    # Add every item combination vector to the stretched input vector\n",
    "    input_vector_with_item_combo = np.insert(input_vector_stretched,3,item_combinations_vector.transpose(),axis=1)\n",
    "    # Predict rank\n",
    "    results = reg.predict(input_vector_with_item_combo)\n",
    "    sum_rank_dict = {}\n",
    "    for i, rank in enumerate(results):\n",
    "        for item in item_combinations_list[i]:\n",
    "            if item not in sum_rank_dict:\n",
    "                sum_rank_dict[item] = [rank, 1]\n",
    "            else:\n",
    "                sum_rank_dict[item][0] += rank\n",
    "                sum_rank_dict[item][1] += 1\n",
    "    avg_rank_dict = {}\n",
    "    for k, v in sum_rank_dict.items():\n",
    "        avg_rank_dict[k] = 1.0 * v[0] / v[1]\n",
    "    return avg_rank_dict"
   ]
  },
  {
   "cell_type": "code",
   "execution_count": 56,
   "metadata": {},
   "outputs": [],
   "source": [
    "with open('full_mapping.json') as json_data:\n",
    "    fullmap = json.load(json_data)\n",
    "item_mapping = fullmap['item_mapping_json']\n",
    "item_mapping['0'] = 'None'"
   ]
  },
  {
   "cell_type": "code",
   "execution_count": 57,
   "metadata": {},
   "outputs": [],
   "source": [
    "# Get item names for a tuple of item numbers\n",
    "def get_item_names(item_combo, item_mapping = item_mapping):\n",
    "    return tuple(item_mapping.get(str(item)) for item in item_combo)"
   ]
  },
  {
   "cell_type": "code",
   "execution_count": 110,
   "metadata": {},
   "outputs": [
    {
     "name": "stdout",
     "output_type": "stream",
     "text": [
      "gold_spent    52\n",
      "level          8\n",
      "TFT3_Ahri      0\n",
      "TFT3_Annie     0\n",
      "TFT3_Ashe      0\n",
      "              ..\n",
      "stage_4        0\n",
      "stage_5        0\n",
      "stage_6        1\n",
      "stage_7        0\n",
      "stage_8        0\n",
      "Name: 3358293, Length: 91, dtype: object\n"
     ]
    }
   ],
   "source": [
    "combined_df = pd.read_pickle(\"final_data_frame_one_hot\")\n",
    "combined_df = combined_df.drop(columns = [\"stage\"])\n",
    "# Get a random row of combined_df and remove all item indices\n",
    "not_item_index = list(chain(range(3),range(58,combined_df.shape[1])))\n",
    "#x_single = combined_df.iloc[663,not_item_index]\n",
    "row = random.randint(0,combined_df.shape[0])\n",
    "x_single = combined_df.iloc[row,~combined_df.columns.str.match(r'^(item|rank)')]\n",
    "print(x_single)\n",
    "\n",
    "def get_row_info(row):\n",
    "    character = 'None'\n",
    "    for key in combined_df.iloc[row, combined_df.columns.str.match(r'^TFT3_')].keys():\n",
    "        if combined_df.iloc[row, combined_df.columns.str.match(r'^TFT3_')][key] == 1:\n",
    "            character = key\n",
    "            break\n",
    "    stage = 'None'\n",
    "    for key in combined_df.iloc[row, combined_df.columns.str.match(r'^stage')].keys():\n",
    "        if combined_df.iloc[row, combined_df.columns.str.match(r'^stage')][key] == 1:\n",
    "            stage = key\n",
    "            break\n",
    "    gold_spent = combined_df.iloc[row, combined_df.columns.str.match(r'^gold_spent$')][0]\n",
    "    level = combined_df.iloc[row, combined_df.columns.str.match(r'^level$')][0]\n",
    "    info_dict = {'Character': character[5:],\n",
    "                 'Stage': stage,\n",
    "                 'Gold_spent': gold_spent,\n",
    "                 'Level': level}\n",
    "    return info_dict\n",
    "\n",
    "row_info = get_row_info(row)\n",
    "input_vector = x_single.to_numpy()"
   ]
  },
  {
   "cell_type": "code",
   "execution_count": 111,
   "metadata": {},
   "outputs": [
    {
     "name": "stdout",
     "output_type": "stream",
     "text": [
      "Character: Janna\n",
      "Stage: stage_6\n",
      "Gold_spent: 52.0\n",
      "Level: 8.0\n"
     ]
    },
    {
     "data": {
      "text/plain": [
       "array([[(44, 48, 79), 1.95],\n",
       "       [(44, 48, 69), 1.95],\n",
       "       [(44, 48, 89), 1.95],\n",
       "       [(44, 88, 89), 1.95],\n",
       "       [(44, 49, 89), 1.95],\n",
       "       [(44, 49, 79), 1.95],\n",
       "       [(44, 49, 69), 1.95],\n",
       "       [(44, 89, 89), 1.95],\n",
       "       [(44, 48, 99), 1.9580000000000002],\n",
       "       [(44, 88, 99), 1.9580000000000002],\n",
       "       [(44, 89, 99), 1.9580000000000002],\n",
       "       [(44, 49, 99), 1.9580000000000002],\n",
       "       [(44, 66, 89), 1.96],\n",
       "       [(44, 49, 49), 1.96],\n",
       "       [(44, 66, 79), 1.96],\n",
       "       [(44, 66, 69), 1.96],\n",
       "       [(44, 44, 69), 1.96],\n",
       "       [(44, 44, 79), 1.96],\n",
       "       [(44, 48, 49), 1.96],\n",
       "       [(44, 68, 89), 1.96],\n",
       "       [(44, 44, 89), 1.96],\n",
       "       [(44, 69, 69), 1.96],\n",
       "       [(44, 46, 69), 1.96],\n",
       "       [(44, 69, 79), 1.96],\n",
       "       [(44, 68, 79), 1.96],\n",
       "       [(44, 46, 79), 1.96],\n",
       "       [(44, 46, 89), 1.96],\n",
       "       [(44, 69, 89), 1.96],\n",
       "       [(44, 44, 99), 1.96],\n",
       "       [(44, 47, 49), 1.96],\n",
       "       [(44, 68, 69), 1.96],\n",
       "       [(44, 46, 99), 1.9680000000000002],\n",
       "       [(44, 69, 99), 1.9680000000000002],\n",
       "       [(44, 66, 99), 1.9680000000000002],\n",
       "       [(44, 68, 99), 1.9680000000000002],\n",
       "       [(44, 58, 89), 1.97],\n",
       "       [(44, 58, 79), 1.97],\n",
       "       [(44, 58, 69), 1.97],\n",
       "       [(44, 47, 79), 1.97],\n",
       "       [(44, 55, 89), 1.97],\n",
       "       [(44, 55, 79), 1.97],\n",
       "       [(44, 44, 49), 1.97],\n",
       "       [(44, 45, 89), 1.97],\n",
       "       [(44, 47, 69), 1.97],\n",
       "       [(44, 59, 69), 1.97],\n",
       "       [(44, 47, 89), 1.97],\n",
       "       [(44, 45, 79), 1.97],\n",
       "       [(44, 45, 69), 1.97],\n",
       "       [(44, 55, 69), 1.97],\n",
       "       [(44, 59, 79), 1.97]], dtype=object)"
      ]
     },
     "execution_count": 111,
     "metadata": {},
     "output_type": "execute_result"
    }
   ],
   "source": [
    "recommended_items = get_n_item_recommendations(reg, item_combinations_list, item_combinations_vector, input_vector,n=50)\n",
    "for k, v in row_info.items():\n",
    "    print(f'{k}: {v}')\n",
    "recommended_items"
   ]
  },
  {
   "cell_type": "code",
   "execution_count": 112,
   "metadata": {},
   "outputs": [
    {
     "name": "stdout",
     "output_type": "stream",
     "text": [
      "Character: Janna\n",
      "Stage: stage_6\n",
      "Gold_spent: 52.0\n",
      "Level: 8.0\n"
     ]
    },
    {
     "data": {
      "text/plain": [
       "[('BlueBuff', 'StarGuardiansCharm', 'TrapClaw'),\n",
       " ('BlueBuff', 'StarGuardiansCharm', 'Quicksilver'),\n",
       " ('BlueBuff', 'StarGuardiansCharm', 'DarkStarsHeart'),\n",
       " ('BlueBuff', 'ForceofNature', 'DarkStarsHeart'),\n",
       " ('BlueBuff', 'HandofJustice', 'DarkStarsHeart'),\n",
       " ('BlueBuff', 'HandofJustice', 'TrapClaw'),\n",
       " ('BlueBuff', 'HandofJustice', 'Quicksilver'),\n",
       " ('BlueBuff', 'DarkStarsHeart', 'DarkStarsHeart'),\n",
       " ('BlueBuff', 'StarGuardiansCharm', 'ThiefsGloves'),\n",
       " ('BlueBuff', 'ForceofNature', 'ThiefsGloves'),\n",
       " ('BlueBuff', 'DarkStarsHeart', 'ThiefsGloves'),\n",
       " ('BlueBuff', 'HandofJustice', 'ThiefsGloves'),\n",
       " ('BlueBuff', 'DragonsClaw', 'DarkStarsHeart'),\n",
       " ('BlueBuff', 'HandofJustice', 'HandofJustice'),\n",
       " ('BlueBuff', 'DragonsClaw', 'TrapClaw'),\n",
       " ('BlueBuff', 'DragonsClaw', 'Quicksilver'),\n",
       " ('BlueBuff', 'BlueBuff', 'Quicksilver'),\n",
       " ('BlueBuff', 'BlueBuff', 'TrapClaw'),\n",
       " ('BlueBuff', 'StarGuardiansCharm', 'HandofJustice'),\n",
       " ('BlueBuff', 'CelestialOrb', 'DarkStarsHeart'),\n",
       " ('BlueBuff', 'BlueBuff', 'DarkStarsHeart'),\n",
       " ('BlueBuff', 'Quicksilver', 'Quicksilver'),\n",
       " ('BlueBuff', 'ChaliceofFavor', 'Quicksilver'),\n",
       " ('BlueBuff', 'Quicksilver', 'TrapClaw'),\n",
       " ('BlueBuff', 'CelestialOrb', 'TrapClaw'),\n",
       " ('BlueBuff', 'ChaliceofFavor', 'TrapClaw'),\n",
       " ('BlueBuff', 'ChaliceofFavor', 'DarkStarsHeart'),\n",
       " ('BlueBuff', 'Quicksilver', 'DarkStarsHeart'),\n",
       " ('BlueBuff', 'BlueBuff', 'ThiefsGloves'),\n",
       " ('BlueBuff', 'Redemption', 'HandofJustice'),\n",
       " ('BlueBuff', 'CelestialOrb', 'Quicksilver'),\n",
       " ('BlueBuff', 'ChaliceofFavor', 'ThiefsGloves'),\n",
       " ('BlueBuff', 'Quicksilver', 'ThiefsGloves'),\n",
       " ('BlueBuff', 'DragonsClaw', 'ThiefsGloves'),\n",
       " ('BlueBuff', 'CelestialOrb', 'ThiefsGloves'),\n",
       " ('BlueBuff', 'RebelMedal', 'DarkStarsHeart'),\n",
       " ('BlueBuff', 'RebelMedal', 'TrapClaw'),\n",
       " ('BlueBuff', 'RebelMedal', 'Quicksilver'),\n",
       " ('BlueBuff', 'Redemption', 'TrapClaw'),\n",
       " ('BlueBuff', 'BrambleVest', 'DarkStarsHeart'),\n",
       " ('BlueBuff', 'BrambleVest', 'TrapClaw'),\n",
       " ('BlueBuff', 'BlueBuff', 'HandofJustice'),\n",
       " ('BlueBuff', 'FrozenHeart', 'DarkStarsHeart'),\n",
       " ('BlueBuff', 'Redemption', 'Quicksilver'),\n",
       " ('BlueBuff', 'ShroudofStillness', 'Quicksilver'),\n",
       " ('BlueBuff', 'Redemption', 'DarkStarsHeart'),\n",
       " ('BlueBuff', 'FrozenHeart', 'TrapClaw'),\n",
       " ('BlueBuff', 'FrozenHeart', 'Quicksilver'),\n",
       " ('BlueBuff', 'BrambleVest', 'Quicksilver'),\n",
       " ('BlueBuff', 'ShroudofStillness', 'TrapClaw')]"
      ]
     },
     "execution_count": 112,
     "metadata": {},
     "output_type": "execute_result"
    }
   ],
   "source": [
    "for k, v in row_info.items():\n",
    "    print(f'{k}: {v}')\n",
    "[get_item_names(x) for x in recommended_items[:,0]]"
   ]
  },
  {
   "cell_type": "code",
   "execution_count": 113,
   "metadata": {},
   "outputs": [
    {
     "name": "stdout",
     "output_type": "stream",
     "text": [
      "Character: Janna\n",
      "Stage: stage_6\n",
      "Gold_spent: 52.0\n",
      "Level: 8.0\n",
      "('TrapClaw', 2.0223584784010193)\n",
      "('Quicksilver', 2.023641521598959)\n",
      "('ThiefsGloves', 2.0306370083816474)\n",
      "('HandofJustice', 2.0347633784655064)\n",
      "('Zephyr', 2.0440992907801467)\n",
      "('None', 2.0444822695035514)\n",
      "('BlueBuff', 2.0447259832366105)\n",
      "('Sparring Gloves', 2.0457742830712076)\n",
      "('Tear of the Goddess', 2.0458020351526134)\n",
      "(\"Giant's Belt\", 2.0458020351526134)\n",
      "('Spatula', 2.0458020351526134)\n",
      "('Recurve Bow', 2.0458297872340196)\n",
      "('Negatron Cloak', 2.0460148011100605)\n",
      "('LastWhisper', 2.0462411347517753)\n",
      "('Chain Vest', 2.046690101757609)\n",
      "('Needlessly Large Rod', 2.047143385753909)\n",
      "('ChaliceofFavor', 2.047993552546742)\n",
      "('Redemption', 2.0482321083172113)\n",
      "('JeweledGauntlet', 2.0510509348807253)\n",
      "('RunaansHurricane', 2.051624758220505)\n",
      "('ZzrotPortal', 2.051818181818184)\n",
      "('ForceofNature', 2.052319793681477)\n",
      "('StatikkShiv', 2.0525789813023874)\n",
      "('WarmogsArmor', 2.055936814958071)\n",
      "('ShroudofStillness', 2.056027079303648)\n",
      "('DragonsClaw', 2.0591025145067694)\n",
      "('RapidFirecannon', 2.059517730496448)\n",
      "('IonicSpark', 2.0601869761444163)\n",
      "('Morellonomicon', 2.0603739522888405)\n",
      "('LudensEcho', 2.06053513862024)\n",
      "('InfinityEdge', 2.060684719535761)\n",
      "('Bloodthirster', 2.063070277240466)\n",
      "('ZekesHerald', 2.063141199226282)\n",
      "('Deathblade', 2.063876208897474)\n",
      "('SpearofShojin', 2.063901998710486)\n",
      "('GuinsoosRageblade', 2.0645454545454527)\n",
      "('GiantSlayer', 2.0650174081237664)\n",
      "('TitansResolve', 2.0682269503546107)\n",
      "('FrozenHeart', 2.0703146357188884)\n",
      "('SwordBreaker', 2.0723391360412644)\n",
      "('RedBuff', 2.0731192778852328)\n",
      "('HextechGunblade', 2.0736118633139657)\n",
      "('GuardianAngel', 2.073876208897461)\n",
      "('B.F. Sword', 2.0765698427381736)\n",
      "('RabadonsDeathcap', 2.0798581560283638)\n",
      "('LocketoftheIronSolari', 2.0799999999999983)\n",
      "('BrambleVest', 2.0846731141199224)\n"
     ]
    }
   ],
   "source": [
    "for k, v in row_info.items():\n",
    "    print(f'{k}: {v}')\n",
    "highest_items = get_highest_average_rank_items(reg, item_combinations_list, item_combinations_vector, input_vector)\n",
    "situational_trait_items = {'BladeoftheRuinedKing', 'InfiltratorsTalons', 'RebelMedal', 'CelestialOrb', 'BattlecastArmor', 'StarGuardiansCharm', 'ProtectorsChestguard', 'DarkStarsHeart'}\n",
    "for tup in sorted([(item_mapping.get(str(item)), avg_rank) for item, avg_rank in highest_items.items()], key = lambda x: x[1]):\n",
    "    if tup[0] not in situational_trait_items:\n",
    "        print(tup)"
   ]
  },
  {
   "cell_type": "code",
   "execution_count": null,
   "metadata": {},
   "outputs": [],
   "source": []
  },
  {
   "cell_type": "code",
   "execution_count": null,
   "metadata": {},
   "outputs": [],
   "source": []
  }
 ],
 "metadata": {
  "kernelspec": {
   "display_name": "Python 3",
   "language": "python",
   "name": "python3"
  },
  "language_info": {
   "codemirror_mode": {
    "name": "ipython",
    "version": 3
   },
   "file_extension": ".py",
   "mimetype": "text/x-python",
   "name": "python",
   "nbconvert_exporter": "python",
   "pygments_lexer": "ipython3",
   "version": "3.8.5"
  }
 },
 "nbformat": 4,
 "nbformat_minor": 4
}
