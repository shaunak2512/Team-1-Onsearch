{
 "cells": [
  {
   "cell_type": "code",
   "execution_count": 54,
   "metadata": {},
   "outputs": [],
   "source": [
    "import numpy as np\n",
    "import pandas as pd\n",
    "import json\n",
    "from typing import Dict\n",
    "from itertools import groupby\n",
    "from functools import reduce\n",
    "from collections import Counter, defaultdict\n",
    "import re"
   ]
  },
  {
   "cell_type": "code",
   "execution_count": 55,
   "metadata": {},
   "outputs": [],
   "source": [
    "df = pd.read_json(\"export/export_0.json\")"
   ]
  },
  {
   "cell_type": "markdown",
   "metadata": {},
   "source": [
    "# Gold Per Stage"
   ]
  },
  {
   "cell_type": "code",
   "execution_count": 5,
   "metadata": {},
   "outputs": [],
   "source": [
    "def gold_spent(player):\n",
    "    gold_spent_per_round = {}\n",
    "    for currRound, group in groupby(player[\"gold\"][\"by_round\"], lambda x: x[\"current_round\"]):\n",
    "        l = list(group)\n",
    "        goldSpent = max(0,int(l[0][\"gold\"]) - int(l[-1][\"gold\"]))\n",
    "        gold_spent_per_round[currRound] = goldSpent\n",
    "    gold_spent_by_stage = defaultdict(int)\n",
    "    for x in list(gold_spent_per_round.keys()):\n",
    "        m = re.match(r'(\\d).+', x)\n",
    "        gold_spent_by_stage[f\"gold_spent_stage_{m.group(1)}\"] += gold_spent_per_round[m.group(0)]\n",
    "\n",
    "    return gold_spent_by_stage"
   ]
  },
  {
   "cell_type": "code",
   "execution_count": 6,
   "metadata": {},
   "outputs": [
    {
     "data": {
      "text/plain": [
       "defaultdict(int,\n",
       "            {'gold_spent_stage_1': 4,\n",
       "             'gold_spent_stage_2': 20,\n",
       "             'gold_spent_stage_3': 13,\n",
       "             'gold_spent_stage_4': 97,\n",
       "             'gold_spent_stage_5': 40,\n",
       "             'gold_spent_stage_6': 30})"
      ]
     },
     "execution_count": 6,
     "metadata": {},
     "output_type": "execute_result"
    }
   ],
   "source": [
    "gold_spent(df.player.iloc[0])"
   ]
  },
  {
   "cell_type": "code",
   "execution_count": 11,
   "metadata": {},
   "outputs": [],
   "source": [
    "gold_dict = [gold_spent(df.player.iloc[i]) for i in range(df.shape[0])]"
   ]
  },
  {
   "cell_type": "markdown",
   "metadata": {},
   "source": [
    "# Level Per Stage"
   ]
  },
  {
   "cell_type": "code",
   "execution_count": 18,
   "metadata": {},
   "outputs": [],
   "source": [
    "def level_stage(player):\n",
    "    tp_dict = {}\n",
    "    \n",
    "    level_agg = 0\n",
    "    current_stage = 0\n",
    "    count_stage = 0\n",
    "    \n",
    "    for key, group in groupby(player[\"xp\"][\"by_round\"], lambda x: x[\"current_round\"]): \n",
    "        round_split = key.split(\"-\")\n",
    "        stage = int(round_split[0])\n",
    "\n",
    "        #start of loop\n",
    "        if current_stage == 0:\n",
    "            current_stage = stage\n",
    "        #going from stage x to stage y\n",
    "        elif current_stage != stage:\n",
    "            level_avg = level_agg/count_stage\n",
    "            tp_dict[f\"level_at_stage_{current_stage}\"] = level_avg \n",
    "            current_stage = stage\n",
    "            level_agg = 0\n",
    "            count_stage = 0\n",
    "\n",
    "        #continue\n",
    "        list_r = list(group)\n",
    "        level_agg += list_r[0]['level']\n",
    "        count_stage += 1\n",
    "\n",
    "    #getting the last stage\n",
    "    level_avg = level_agg/count_stage\n",
    "    tp_dict[f\"level_at_stage_{current_stage}\"] = level_avg\n",
    "    \n",
    "    return tp_dict"
   ]
  },
  {
   "cell_type": "code",
   "execution_count": 21,
   "metadata": {},
   "outputs": [
    {
     "data": {
      "text/plain": [
       "{'level_at_stage_1': 2.0,\n",
       " 'level_at_stage_2': 4.166666666666667,\n",
       " 'level_at_stage_3': 5.333333333333333,\n",
       " 'level_at_stage_4': 6.5,\n",
       " 'level_at_stage_5': 7.333333333333333,\n",
       " 'level_at_stage_6': 8.0}"
      ]
     },
     "execution_count": 21,
     "metadata": {},
     "output_type": "execute_result"
    }
   ],
   "source": [
    "level_stage(df.player.iloc[0])"
   ]
  },
  {
   "cell_type": "code",
   "execution_count": 20,
   "metadata": {},
   "outputs": [],
   "source": [
    "level_dict = [level_stage(df.player.iloc[i]) for i in range(df.shape[0])]"
   ]
  },
  {
   "cell_type": "markdown",
   "metadata": {},
   "source": [
    "# Active Traits"
   ]
  },
  {
   "cell_type": "code",
   "execution_count": 12,
   "metadata": {},
   "outputs": [],
   "source": [
    "def encode_traits(trait_dict_column, active_trait_df, trait_index):\n",
    "    encoding_list = []\n",
    "    for trait_dict in trait_dict_column:\n",
    "        trait_encoding = [ 0 for i in range(len(trait_index)) ]\n",
    "        for key, value in trait_dict.items():\n",
    "            if key[:5] == 'Set3_':\n",
    "                trait = key[5:]\n",
    "            else:\n",
    "                trait = key\n",
    "            min_active_dict = active_trait_df.loc[active_trait_df['trait'] == trait]['min_active'].values[0]\n",
    "            has_trait_flag = 0\n",
    "            for k, v in min_active_dict.items():\n",
    "                if value >= v[0] and value < v[1]:\n",
    "                    trait_tier = int(k)\n",
    "                    has_trait_flag = 1\n",
    "            if has_trait_flag == 0:\n",
    "                trait_tier = 0\n",
    "            trait_encoding[trait_index[trait]] = trait_tier\n",
    "        encoding_list.append(trait_encoding)\n",
    "    return encoding_list\n",
    "\n",
    "def get_active_traits(player, char_trait, trait_tier):\n",
    "    active_traits = {}\n",
    "    last_rounds = get_last_rounds(player)\n",
    "    for rounds in last_rounds:\n",
    "        stage = rounds.split('-')[0]\n",
    "        board = player['round_outcomes']['by_round'][rounds]['board']\n",
    "        char_seen = set()\n",
    "        trait_count = {}\n",
    "        for char_dict in board:\n",
    "            char = char_dict['character_id']\n",
    "            if char not in char_seen:\n",
    "                char_seen.add(char_dict['character_id'])\n",
    "                trait_list = char_trait.loc[char_trait['name'] == char]['trait'].values[0].replace('\\'', '').replace(' ', '').strip('][ ').split(',')\n",
    "                for trait in trait_list:\n",
    "                    if trait not in trait_count:\n",
    "                        trait_count[trait] = 1\n",
    "                    else:\n",
    "                        trait_count[trait] += 1      \n",
    "        active_traits[stage] = trait_count\n",
    "        \n",
    "    return active_traits\n",
    "    \n",
    "def get_last_rounds(player):\n",
    "    round_list = list(player['round_outcomes']['by_round'].keys())\n",
    "    last_round_stage = []\n",
    "    last_r = 0\n",
    "    last_round = ''\n",
    "    for rounds in round_list:\n",
    "        r = int(rounds.split('-')[1])\n",
    "        if last_r > r:\n",
    "            last_round_stage.append(last_round)\n",
    "        last_r = r\n",
    "        last_round = rounds\n",
    "    last_round_stage.append(round_list[-1])\n",
    "    return last_round_stage"
   ]
  },
  {
   "cell_type": "code",
   "execution_count": 13,
   "metadata": {},
   "outputs": [
    {
     "name": "stdout",
     "output_type": "stream",
     "text": [
      "                name                                          trait\n",
      "0        TFT3_Thresh                       ['ManaReaver', 'Chrono']\n",
      "1          TFT3_Ekko                  ['Infiltrator', 'Cybernetic']\n",
      "2   TFT3_AurelionSol                          ['Starship', 'Rebel']\n",
      "3          TFT3_Lulu                        ['Mystic', 'Celestial']\n",
      "4         TFT3_Janna                    ['Paragon', 'StarGuardian']\n",
      "5        TFT3_Soraka                     ['Mystic', 'StarGuardian']\n",
      "6         TFT3_Urgot                    ['Protector', 'Battlecast']\n",
      "7     TFT3_Gangplank  ['Mercenary', 'Demolitionist', 'SpacePirate']\n",
      "8        TFT3_Xerath                       ['Sorcerer', 'DarkStar']\n",
      "9          TFT3_Fizz                   ['Infiltrator', 'MechPilot']\n",
      "10       TFT3_Irelia    ['ManaReaver', 'Blademaster', 'Cybernetic']\n",
      "11       TFT3_Ezreal                          ['Blaster', 'Chrono']\n",
      "12        TFT3_Riven                      ['Blademaster', 'Chrono']\n",
      "13        TFT3_Fiora                  ['Blademaster', 'Cybernetic']\n",
      "14       TFT3_WuKong                         ['Vanguard', 'Chrono']\n",
      "15        TFT3_Ziggs                     ['Demolitionist', 'Rebel']\n",
      "16        TFT3_Karma                         ['Mystic', 'DarkStar']\n",
      "17           TFT3_Vi                      ['Brawler', 'Cybernetic']\n",
      "18     TFT3_Malphite                           ['Brawler', 'Rebel']\n",
      "19       TFT3_Rumble                 ['Demolitionist', 'MechPilot']\n",
      "20      TFT3_Caitlyn                           ['Sniper', 'Chrono']\n",
      "21        TFT3_Vayne                       ['Sniper', 'Cybernetic']\n",
      "22         TFT3_Ashe                        ['Sniper', 'Celestial']\n",
      "23         TFT3_Gnar                           ['Brawler', 'Astro']\n",
      "24         TFT3_Jinx                           ['Blaster', 'Rebel']\n",
      "25        TFT3_Leona                     ['Vanguard', 'Cybernetic']\n",
      "26        TFT3_Annie                      ['Sorcerer', 'MechPilot']\n",
      "27        TFT3_Teemo                            ['Sniper', 'Astro']\n",
      "28   TFT3_Blitzcrank                          ['Brawler', 'Chrono']\n",
      "29        TFT3_Yasuo                       ['Blademaster', 'Rebel']\n",
      "30     TFT3_MasterYi                       ['Blademaster', 'Rebel']\n",
      "31         TFT3_Jhin                         ['Sniper', 'DarkStar']\n",
      "32          TFT3_Zed                       ['Infiltrator', 'Rebel']\n",
      "33     TFT3_Nautilus                          ['Vanguard', 'Astro']\n",
      "34       TFT3_Syndra                   ['Sorcerer', 'StarGuardian']\n",
      "35          TFT3_Zoe                   ['Sorcerer', 'StarGuardian']\n",
      "36        TFT3_Shaco                    ['Infiltrator', 'DarkStar']\n",
      "37         TFT3_Ahri                   ['Sorcerer', 'StarGuardian']\n",
      "38  TFT3_TwistedFate                         ['Sorcerer', 'Chrono']\n",
      "39       TFT3_Viktor                     ['Sorcerer', 'Battlecast']\n",
      "40         TFT3_Shen                      ['Blademaster', 'Chrono']\n",
      "41       TFT3_Lucian                      ['Blaster', 'Cybernetic']\n",
      "42        TFT3_Xayah                   ['Blademaster', 'Celestial']\n",
      "43   TFT3_Cassiopeia                       ['Mystic', 'Battlecast']\n",
      "44  TFT3_Mordekaiser                       ['Vanguard', 'DarkStar']\n",
      "45        TFT3_Jayce                    ['Vanguard', 'SpacePirate']\n",
      "46     TFT3_JarvanIV                      ['Protector', 'DarkStar']\n",
      "47        TFT3_Rakan                     ['Protector', 'Celestial']\n",
      "48      TFT3_XinZhao                     ['Protector', 'Celestial']\n",
      "49        TFT3_Neeko                  ['Protector', 'StarGuardian']\n",
      "50       TFT3_Graves                     ['Blaster', 'SpacePirate']\n",
      "51     TFT3_Nocturne                  ['Infiltrator', 'Battlecast']\n",
      "52        TFT3_Poppy                   ['Vanguard', 'StarGuardian']\n",
      "53       TFT3_KogMaw                      ['Blaster', 'Battlecast']\n",
      "54       TFT3_Illaoi                      ['Brawler', 'Battlecast']\n",
      "55         TFT3_Bard                            ['Mystic', 'Astro']\n",
      "56       TFT3_Darius                  ['ManaReaver', 'SpacePirate']\n",
      "                0                                                  1\n",
      "0     Blademaster        {'1': [3, 6], '2': [6, 9], '3': [9, 25000]}\n",
      "1         Blaster                     {'1': [2, 4], '2': [4, 25000]}\n",
      "2         Brawler                     {'1': [2, 4], '2': [4, 25000]}\n",
      "3   Demolitionist                                  {'1': [2, 25000]}\n",
      "4     Infiltrator        {'1': [2, 4], '2': [4, 6], '3': [6, 25000]}\n",
      "5      ManaReaver                                  {'1': [2, 25000]}\n",
      "6       Mercenary                                  {'1': [1, 25000]}\n",
      "7          Mystic                     {'1': [2, 4], '2': [4, 25000]}\n",
      "8         Paragon                                  {'1': [1, 25000]}\n",
      "9       Protector        {'1': [2, 4], '2': [4, 6], '3': [6, 25000]}\n",
      "10         Sniper                     {'1': [2, 4], '2': [4, 25000]}\n",
      "11       Sorcerer        {'1': [2, 4], '2': [4, 6], '3': [6, 25000]}\n",
      "12       Starship                                  {'1': [1, 25000]}\n",
      "13       Vanguard        {'1': [2, 4], '2': [4, 6], '3': [6, 25000]}\n",
      "14          Astro                                  {'1': [3, 25000]}\n",
      "15     Battlecast        {'1': [2, 4], '2': [4, 6], '3': [6, 25000]}\n",
      "16      Celestial        {'1': [2, 4], '2': [4, 6], '3': [6, 25000]}\n",
      "17         Chrono  {'1': [2, 4], '2': [4, 6], '3': [6, 8], '4': [...\n",
      "18     Cybernetic                     {'1': [3, 6], '2': [6, 25000]}\n",
      "19       DarkStar        {'1': [2, 4], '2': [4, 6], '3': [6, 25000]}\n",
      "20      MechPilot                                  {'1': [3, 25000]}\n",
      "21          Rebel        {'1': [3, 6], '2': [6, 9], '3': [9, 25000]}\n",
      "22    SpacePirate                     {'1': [2, 4], '2': [4, 25000]}\n",
      "23   StarGuardian        {'1': [3, 6], '2': [6, 9], '3': [9, 25000]}\n"
     ]
    }
   ],
   "source": [
    "with open('full_mapping.json') as json_data:\n",
    "    fullmap = json.load(json_data)\n",
    "    \n",
    "char_trait = pd.DataFrame(fullmap['character_trait_json'].items()).astype(str)\n",
    "char_trait.columns = ['name', 'trait']\n",
    "print(char_trait)\n",
    "\n",
    "trait_tier = pd.DataFrame(fullmap['trait_tier_mapping_json'].items())\n",
    "print(trait_tier)"
   ]
  },
  {
   "cell_type": "code",
   "execution_count": 15,
   "metadata": {},
   "outputs": [
    {
     "data": {
      "text/plain": [
       "{'1': {'Blademaster': 1, 'Cybernetic': 1, 'Protector': 1, 'DarkStar': 1},\n",
       " '2': {'Blademaster': 1,\n",
       "  'Celestial': 2,\n",
       "  'Mystic': 1,\n",
       "  'DarkStar': 3,\n",
       "  'Protector': 2,\n",
       "  'Vanguard': 1},\n",
       " '3': {'Blademaster': 1,\n",
       "  'Celestial': 2,\n",
       "  'Sniper': 1,\n",
       "  'Chrono': 2,\n",
       "  'Vanguard': 2,\n",
       "  'Protector': 2,\n",
       "  'DarkStar': 2},\n",
       " '4': {'Sniper': 1,\n",
       "  'Celestial': 4,\n",
       "  'Blademaster': 2,\n",
       "  'ManaReaver': 1,\n",
       "  'Cybernetic': 1,\n",
       "  'Protector': 4,\n",
       "  'DarkStar': 1,\n",
       "  'StarGuardian': 1},\n",
       " '5': {'Sniper': 1,\n",
       "  'Celestial': 4,\n",
       "  'Blademaster': 3,\n",
       "  'ManaReaver': 1,\n",
       "  'Cybernetic': 1,\n",
       "  'Protector': 4,\n",
       "  'Battlecast': 1,\n",
       "  'DarkStar': 1,\n",
       "  'Chrono': 1},\n",
       " '6': {'Sniper': 1,\n",
       "  'Celestial': 4,\n",
       "  'Blademaster': 3,\n",
       "  'ManaReaver': 1,\n",
       "  'Cybernetic': 1,\n",
       "  'Protector': 4,\n",
       "  'Battlecast': 1,\n",
       "  'DarkStar': 1,\n",
       "  'Chrono': 1}}"
      ]
     },
     "execution_count": 15,
     "metadata": {},
     "output_type": "execute_result"
    }
   ],
   "source": [
    "get_active_traits(df.player.iloc[0], char_trait, trait_tier)"
   ]
  },
  {
   "cell_type": "code",
   "execution_count": 22,
   "metadata": {},
   "outputs": [],
   "source": [
    "def active_trait_func(player):\n",
    "    return get_active_traits(player, char_trait, trait_tier)"
   ]
  },
  {
   "cell_type": "code",
   "execution_count": 23,
   "metadata": {},
   "outputs": [],
   "source": [
    "active_trait_dict = [active_trait_func(df.player.iloc[i]) for i in range(df.shape[0])]"
   ]
  },
  {
   "cell_type": "markdown",
   "metadata": {},
   "source": [
    "# Characters and Items"
   ]
  },
  {
   "cell_type": "code",
   "execution_count": 83,
   "metadata": {},
   "outputs": [
    {
     "data": {
      "text/plain": [
       "{1: [{'character_id': 'TFT3_Fiora', 'items': []},\n",
       "  {'character_id': 'TFT3_JarvanIV', 'items': []}],\n",
       " 2: [{'character_id': 'TFT3_Xayah', 'items': [19]},\n",
       "  {'character_id': 'TFT3_Karma', 'items': []},\n",
       "  {'character_id': 'TFT3_XinZhao', 'items': []},\n",
       "  {'character_id': 'TFT3_JarvanIV', 'items': []},\n",
       "  {'character_id': 'TFT3_Mordekaiser', 'items': [77]}],\n",
       " 3: [{'character_id': 'TFT3_Xayah', 'items': [19]},\n",
       "  {'character_id': 'TFT3_Caitlyn', 'items': []},\n",
       "  {'character_id': 'TFT3_WuKong', 'items': [6]},\n",
       "  {'character_id': 'TFT3_JarvanIV', 'items': []},\n",
       "  {'character_id': 'TFT3_XinZhao', 'items': []},\n",
       "  {'character_id': 'TFT3_Mordekaiser', 'items': [77]}],\n",
       " 4: [{'character_id': 'TFT3_Ashe', 'items': []},\n",
       "  {'character_id': 'TFT3_Xayah', 'items': [19, 23]},\n",
       "  {'character_id': 'TFT3_Irelia', 'items': [15, 19, 44]},\n",
       "  {'character_id': 'TFT3_XinZhao', 'items': []},\n",
       "  {'character_id': 'TFT3_JarvanIV', 'items': [66, 77]},\n",
       "  {'character_id': 'TFT3_Rakan', 'items': []},\n",
       "  {'character_id': 'TFT3_Neeko', 'items': []}],\n",
       " 5: [{'character_id': 'TFT3_Ashe', 'items': []},\n",
       "  {'character_id': 'TFT3_Xayah', 'items': [19, 23]},\n",
       "  {'character_id': 'TFT3_Irelia', 'items': [15, 19, 44]},\n",
       "  {'character_id': 'TFT3_Urgot', 'items': [3]},\n",
       "  {'character_id': 'TFT3_XinZhao', 'items': []},\n",
       "  {'character_id': 'TFT3_JarvanIV', 'items': [55, 66, 77]},\n",
       "  {'character_id': 'TFT3_Rakan', 'items': []},\n",
       "  {'character_id': 'TFT3_Riven', 'items': []}],\n",
       " 6: [{'character_id': 'TFT3_Ashe', 'items': []},\n",
       "  {'character_id': 'TFT3_Xayah', 'items': [19, 23]},\n",
       "  {'character_id': 'TFT3_Irelia', 'items': [15, 19, 44]},\n",
       "  {'character_id': 'TFT3_Urgot', 'items': [3, 77]},\n",
       "  {'character_id': 'TFT3_XinZhao', 'items': []},\n",
       "  {'character_id': 'TFT3_JarvanIV', 'items': [55, 66, 77]},\n",
       "  {'character_id': 'TFT3_Rakan', 'items': []},\n",
       "  {'character_id': 'TFT3_Riven', 'items': []}]}"
      ]
     },
     "execution_count": 83,
     "metadata": {},
     "output_type": "execute_result"
    }
   ],
   "source": [
    "def character_items(player):\n",
    "    tp_dict={}\n",
    "    \n",
    "    round_outcome_dict = player['round_outcomes']\n",
    "    by_round_dict = round_outcome_dict['by_round']\n",
    "    \n",
    "    current_stage = 0\n",
    "    prev_stage = 1\n",
    "    \n",
    "    current_round = 'a'\n",
    "    prev_round = 'a'\n",
    "    \n",
    "    for key in by_round_dict.keys():\n",
    "        round_split = key.split(\"-\")\n",
    "        current_stage = int(round_split[0])\n",
    "\n",
    "        current_round = key\n",
    "\n",
    "        if(prev_round == 'a'):\n",
    "            prev_round = key\n",
    "            prev_stage = current_stage\n",
    "\n",
    "        if (current_stage == prev_stage):\n",
    "            prev_round = key\n",
    "        #went from stage x to stage y\n",
    "        elif (current_stage != prev_stage):\n",
    "            #a dictionary containg board\n",
    "            #get the board characters and items\n",
    "            board_dict = by_round_dict[prev_round]['board']\n",
    "            #each index has one character and item combo in a dictionary with character_id and items\n",
    "            #the temp dictionary will be 1: [character_id, items]\n",
    "\n",
    "            temp_list = []\n",
    "            \n",
    "            for char in board_dict:\n",
    "                character_id_value = char['character_id']\n",
    "                items_value = char['items']\n",
    "\n",
    "                temp_dict = {}\n",
    "                temp_dict['character_id'] = character_id_value\n",
    "                temp_dict['items'] = items_value\n",
    "\n",
    "                temp_list.append(temp_dict)\n",
    "\n",
    "            tp_dict[prev_stage] = temp_list\n",
    "\n",
    "            prev_round = key\n",
    "            prev_stage = current_stage\n",
    "            \n",
    "    #last one\n",
    "    board_dict = by_round_dict[prev_round]['board']\n",
    "    \n",
    "    temp_list = []\n",
    "\n",
    "    for char in board_dict:\n",
    "        character_id_value = char['character_id']\n",
    "        items_value = char['items']\n",
    "\n",
    "        temp_dict = {}\n",
    "        temp_dict['character_id'] = character_id_value\n",
    "        temp_dict['items'] = items_value\n",
    "\n",
    "        temp_list.append(temp_dict)\n",
    "\n",
    "    tp_dict[prev_stage] = temp_list\n",
    "    \n",
    "    \n",
    "    return tp_dict\n"
   ]
  },
  {
   "cell_type": "code",
   "execution_count": 84,
   "metadata": {},
   "outputs": [],
   "source": [
    "char_item_dict = [character_items(df.player.iloc[i]) for i in range(df.shape[0])]"
   ]
  },
  {
   "cell_type": "code",
   "execution_count": 86,
   "metadata": {},
   "outputs": [
    {
     "data": {
      "text/plain": [
       "{1: [{'character_id': 'TFT3_Caitlyn', 'items': []},\n",
       "  {'character_id': 'TFT3_JarvanIV', 'items': []}],\n",
       " 2: [{'character_id': 'TFT3_Xayah', 'items': [6, 19]},\n",
       "  {'character_id': 'TFT3_Karma', 'items': []},\n",
       "  {'character_id': 'TFT3_XinZhao', 'items': []},\n",
       "  {'character_id': 'TFT3_JarvanIV', 'items': [5]}],\n",
       " 3: [{'character_id': 'TFT3_Rakan', 'items': [37]},\n",
       "  {'character_id': 'TFT3_Xayah', 'items': [6, 19]},\n",
       "  {'character_id': 'TFT3_Riven', 'items': []},\n",
       "  {'character_id': 'TFT3_Shen', 'items': []},\n",
       "  {'character_id': 'TFT3_JarvanIV', 'items': [5]},\n",
       "  {'character_id': 'TFT3_Fiora', 'items': []}],\n",
       " 4: [{'character_id': 'TFT3_Rakan', 'items': [37]},\n",
       "  {'character_id': 'TFT3_Riven', 'items': []},\n",
       "  {'character_id': 'TFT3_Xayah', 'items': [12, 19, 69]},\n",
       "  {'character_id': 'TFT3_Shen', 'items': []},\n",
       "  {'character_id': 'TFT3_JarvanIV', 'items': [55]},\n",
       "  {'character_id': 'TFT3_MasterYi', 'items': []}],\n",
       " 5: [{'character_id': 'TFT3_Rakan', 'items': [37]},\n",
       "  {'character_id': 'TFT3_MasterYi', 'items': [22, 24]},\n",
       "  {'character_id': 'TFT3_Xayah', 'items': [12, 19, 69]},\n",
       "  {'character_id': 'TFT3_Riven', 'items': []},\n",
       "  {'character_id': 'TFT3_Shen', 'items': []},\n",
       "  {'character_id': 'TFT3_JarvanIV', 'items': [55]},\n",
       "  {'character_id': 'TFT3_Fiora', 'items': []}],\n",
       " 6: [{'character_id': 'TFT3_Rakan', 'items': [37]},\n",
       "  {'character_id': 'TFT3_MasterYi', 'items': [22, 24]},\n",
       "  {'character_id': 'TFT3_Xayah', 'items': [12, 19, 69]},\n",
       "  {'character_id': 'TFT3_Riven', 'items': []},\n",
       "  {'character_id': 'TFT3_Shen', 'items': [47]},\n",
       "  {'character_id': 'TFT3_JarvanIV', 'items': [55]},\n",
       "  {'character_id': 'TFT3_Fiora', 'items': []}]}"
      ]
     },
     "execution_count": 86,
     "metadata": {},
     "output_type": "execute_result"
    }
   ],
   "source": [
    "char_item_dict[2]"
   ]
  }
 ],
 "metadata": {
  "kernelspec": {
   "display_name": "Python 3",
   "language": "python",
   "name": "python3"
  },
  "language_info": {
   "codemirror_mode": {
    "name": "ipython",
    "version": 3
   },
   "file_extension": ".py",
   "mimetype": "text/x-python",
   "name": "python",
   "nbconvert_exporter": "python",
   "pygments_lexer": "ipython3",
   "version": "3.8.5"
  }
 },
 "nbformat": 4,
 "nbformat_minor": 4
}
