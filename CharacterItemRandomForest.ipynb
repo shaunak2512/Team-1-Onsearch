{
 "cells": [
  {
   "cell_type": "code",
   "execution_count": 93,
   "metadata": {},
   "outputs": [],
   "source": [
    "import numpy as np\n",
    "import pandas as pd\n",
    "import json\n",
    "from typing import Dict\n",
    "from itertools import groupby\n",
    "from functools import reduce\n",
    "from collections import Counter\n",
    "import scipy.sparse as sps\n",
    "from sklearn.preprocessing import OneHotEncoder\n",
    "from sklearn.model_selection import train_test_split\n",
    "from sklearn.ensemble import RandomForestRegressor\n",
    "from sklearn.metrics import mean_squared_error\n",
    "from sklearn.model_selection import GridSearchCV"
   ]
  },
  {
   "cell_type": "code",
   "execution_count": 94,
   "metadata": {},
   "outputs": [],
   "source": [
    "df = pd.read_json(\"export/export_0.json\")"
   ]
  },
  {
   "cell_type": "code",
   "execution_count": 95,
   "metadata": {},
   "outputs": [],
   "source": [
    "# List of all items\n",
    "items_list = list(range(1,10)) + [10 * i + j for i in range(1,10) for j in range(i,10)]"
   ]
  },
  {
   "cell_type": "code",
   "execution_count": 96,
   "metadata": {},
   "outputs": [],
   "source": [
    "# Converting items to their corresponding vectors\n",
    "# Similar to one hot encoding\n",
    "# There are 9 basic items. Each basic item is alloted 2 bits. Therefore, size of vector = 9*2 = 18\n",
    "# Basic item to index mapping is as follows:\n",
    "# {1: (0, 1),\n",
    "#  2: (2, 3),\n",
    "#  3: (4, 5),\n",
    "#  4: (6, 7),\n",
    "#  5: (8, 9),\n",
    "#  6: (10, 11),\n",
    "#  7: (12, 13),\n",
    "#  8: (14, 15),\n",
    "#  9: (16, 17)}\n",
    "# For basic items, the leftmost bit alloted to that item is set to 1. \n",
    "# eg: item_2 => [0, 0, 1, 0, 0, 0, 0, 0, 0, 0, 0, 0, 0, 0, 0, 0, 0, 0]\n",
    "# For combined items, the leftmost bits alloted to the 2 basic items\n",
    "# used to create the combined item are set to 1.\n",
    "# eg: item_23 => [0, 0, 1, 0, 1, 0, 0, 0, 0, 0, 0, 0, 0, 0, 0, 0, 0, 0]\n",
    "# for combined items created using 2 of the same item, both the bits alloted to the basic item are set to 1.\n",
    "# eg: item_33 => [0, 0, 0, 0, 1, 1, 0, 0, 0, 0, 0, 0, 0, 0, 0, 0, 0, 0\n",
    "def vectorise_items(items):\n",
    "    item_index = {x:y for x,y in zip(range(1,10),range(0,18,2))}\n",
    "    res = {}\n",
    "    for i,item in enumerate(items):\n",
    "        item_str = str(item)\n",
    "        vect = np.zeros([18])\n",
    "        for i in item_str:\n",
    "            first_index = item_index[int(i)]\n",
    "            if(not vect[first_index]):\n",
    "                vect[first_index] = 1\n",
    "            else:\n",
    "                vect[first_index+1] = 1\n",
    "        res[item] = vect\n",
    "    res[0] = np.zeros([18])\n",
    "    return res"
   ]
  },
  {
   "cell_type": "code",
   "execution_count": 97,
   "metadata": {},
   "outputs": [],
   "source": [
    "item_vector_dict = vectorise_items(items_list)"
   ]
  },
  {
   "cell_type": "code",
   "execution_count": 98,
   "metadata": {},
   "outputs": [],
   "source": [
    "#Make a dataframe with character_id, level, and items\n",
    "char_item_rank = [(char[\"character_id\"], char[\"level\"], \\\n",
    "                   np.pad(i := np.asarray(char[\"items\"]), (0,3-len(i))), player[\"final\"][\"placement\"][\"rank\"]) \\\n",
    "                      for player in df.player for char in player[\"final\"][\"comp\"]]\n",
    "     \n",
    "char_item_rank_df = pd.DataFrame(char_item_rank, columns=[\"character_id\",\"level\",\"items\",\"rank\"])"
   ]
  },
  {
   "cell_type": "code",
   "execution_count": 99,
   "metadata": {},
   "outputs": [
    {
     "data": {
      "text/html": [
       "<div>\n",
       "<style scoped>\n",
       "    .dataframe tbody tr th:only-of-type {\n",
       "        vertical-align: middle;\n",
       "    }\n",
       "\n",
       "    .dataframe tbody tr th {\n",
       "        vertical-align: top;\n",
       "    }\n",
       "\n",
       "    .dataframe thead th {\n",
       "        text-align: right;\n",
       "    }\n",
       "</style>\n",
       "<table border=\"1\" class=\"dataframe\">\n",
       "  <thead>\n",
       "    <tr style=\"text-align: right;\">\n",
       "      <th></th>\n",
       "      <th>character_id</th>\n",
       "      <th>level</th>\n",
       "      <th>items</th>\n",
       "      <th>rank</th>\n",
       "    </tr>\n",
       "  </thead>\n",
       "  <tbody>\n",
       "    <tr>\n",
       "      <th>0</th>\n",
       "      <td>TFT3_Ashe</td>\n",
       "      <td>2</td>\n",
       "      <td>[0.0, 0.0, 0.0]</td>\n",
       "      <td>4</td>\n",
       "    </tr>\n",
       "    <tr>\n",
       "      <th>1</th>\n",
       "      <td>TFT3_Xayah</td>\n",
       "      <td>2</td>\n",
       "      <td>[19, 23, 0]</td>\n",
       "      <td>4</td>\n",
       "    </tr>\n",
       "    <tr>\n",
       "      <th>2</th>\n",
       "      <td>TFT3_Urgot</td>\n",
       "      <td>1</td>\n",
       "      <td>[3, 77, 0]</td>\n",
       "      <td>4</td>\n",
       "    </tr>\n",
       "    <tr>\n",
       "      <th>3</th>\n",
       "      <td>TFT3_XinZhao</td>\n",
       "      <td>2</td>\n",
       "      <td>[0.0, 0.0, 0.0]</td>\n",
       "      <td>4</td>\n",
       "    </tr>\n",
       "    <tr>\n",
       "      <th>4</th>\n",
       "      <td>TFT3_JarvanIV</td>\n",
       "      <td>2</td>\n",
       "      <td>[55, 66, 77]</td>\n",
       "      <td>4</td>\n",
       "    </tr>\n",
       "    <tr>\n",
       "      <th>5</th>\n",
       "      <td>TFT3_Rakan</td>\n",
       "      <td>2</td>\n",
       "      <td>[0.0, 0.0, 0.0]</td>\n",
       "      <td>4</td>\n",
       "    </tr>\n",
       "    <tr>\n",
       "      <th>6</th>\n",
       "      <td>TFT3_Riven</td>\n",
       "      <td>2</td>\n",
       "      <td>[0.0, 0.0, 0.0]</td>\n",
       "      <td>4</td>\n",
       "    </tr>\n",
       "    <tr>\n",
       "      <th>7</th>\n",
       "      <td>TFT3_Irelia</td>\n",
       "      <td>2</td>\n",
       "      <td>[15, 19, 44]</td>\n",
       "      <td>4</td>\n",
       "    </tr>\n",
       "    <tr>\n",
       "      <th>8</th>\n",
       "      <td>TFT3_Cassiopeia</td>\n",
       "      <td>3</td>\n",
       "      <td>[25, 0, 0]</td>\n",
       "      <td>3</td>\n",
       "    </tr>\n",
       "    <tr>\n",
       "      <th>9</th>\n",
       "      <td>TFT3_Viktor</td>\n",
       "      <td>2</td>\n",
       "      <td>[37, 0, 0]</td>\n",
       "      <td>3</td>\n",
       "    </tr>\n",
       "  </tbody>\n",
       "</table>\n",
       "</div>"
      ],
      "text/plain": [
       "      character_id level            items rank\n",
       "0        TFT3_Ashe     2  [0.0, 0.0, 0.0]    4\n",
       "1       TFT3_Xayah     2      [19, 23, 0]    4\n",
       "2       TFT3_Urgot     1       [3, 77, 0]    4\n",
       "3     TFT3_XinZhao     2  [0.0, 0.0, 0.0]    4\n",
       "4    TFT3_JarvanIV     2     [55, 66, 77]    4\n",
       "5       TFT3_Rakan     2  [0.0, 0.0, 0.0]    4\n",
       "6       TFT3_Riven     2  [0.0, 0.0, 0.0]    4\n",
       "7      TFT3_Irelia     2     [15, 19, 44]    4\n",
       "8  TFT3_Cassiopeia     3       [25, 0, 0]    3\n",
       "9      TFT3_Viktor     2       [37, 0, 0]    3"
      ]
     },
     "execution_count": 99,
     "metadata": {},
     "output_type": "execute_result"
    }
   ],
   "source": [
    "char_item_rank_df.head(10)"
   ]
  },
  {
   "cell_type": "code",
   "execution_count": 100,
   "metadata": {},
   "outputs": [],
   "source": [
    "def item_vector_lookup(item_list, d=item_vector_dict):\n",
    "    return [[d[item] for item in items] for items in item_list]\n",
    "        "
   ]
  },
  {
   "cell_type": "code",
   "execution_count": 101,
   "metadata": {},
   "outputs": [],
   "source": [
    "# Convert a list of items to vectors\n",
    "def item_vector_lookup2(item_list, d=item_vector_dict):\n",
    "    res = []\n",
    "    for items in item_list:\n",
    "        temp_res = []\n",
    "        for item in items:\n",
    "            temp_res = temp_res + d[item].tolist()\n",
    "        res.append(temp_res)\n",
    "    return res\n"
   ]
  },
  {
   "cell_type": "code",
   "execution_count": 102,
   "metadata": {},
   "outputs": [],
   "source": [
    "# add item vectors to the existing data frame\n",
    "temp_df = char_item_rank_df.join(pd.DataFrame(item_vector_lookup2(char_item_rank_df[\"items\"]) ,\\\n",
    "                                                        columns = [f\"item_index{x}\" for x in range(1,55)]))                "
   ]
  },
  {
   "cell_type": "code",
   "execution_count": 103,
   "metadata": {},
   "outputs": [],
   "source": [
    "temp_df[\"rank\"] = temp_df[\"rank\"].astype('float')"
   ]
  },
  {
   "cell_type": "code",
   "execution_count": 104,
   "metadata": {},
   "outputs": [
    {
     "data": {
      "text/plain": [
       "Index(['character_id', 'level', 'items', 'rank', 'item_index1', 'item_index2',\n",
       "       'item_index3', 'item_index4', 'item_index5', 'item_index6',\n",
       "       'item_index7', 'item_index8', 'item_index9', 'item_index10',\n",
       "       'item_index11', 'item_index12', 'item_index13', 'item_index14',\n",
       "       'item_index15', 'item_index16', 'item_index17', 'item_index18',\n",
       "       'item_index19', 'item_index20', 'item_index21', 'item_index22',\n",
       "       'item_index23', 'item_index24', 'item_index25', 'item_index26',\n",
       "       'item_index27', 'item_index28', 'item_index29', 'item_index30',\n",
       "       'item_index31', 'item_index32', 'item_index33', 'item_index34',\n",
       "       'item_index35', 'item_index36', 'item_index37', 'item_index38',\n",
       "       'item_index39', 'item_index40', 'item_index41', 'item_index42',\n",
       "       'item_index43', 'item_index44', 'item_index45', 'item_index46',\n",
       "       'item_index47', 'item_index48', 'item_index49', 'item_index50',\n",
       "       'item_index51', 'item_index52', 'item_index53', 'item_index54'],\n",
       "      dtype='object')"
      ]
     },
     "execution_count": 104,
     "metadata": {},
     "output_type": "execute_result"
    }
   ],
   "source": [
    "temp_df.columns"
   ]
  },
  {
   "cell_type": "code",
   "execution_count": 105,
   "metadata": {},
   "outputs": [],
   "source": [
    "temp_df = temp_df.drop([\"level\"], axis=1)"
   ]
  },
  {
   "cell_type": "code",
   "execution_count": 106,
   "metadata": {},
   "outputs": [],
   "source": [
    "# Use one hot encoding to encode character_id\n",
    "temp_df = temp_df.join(pd.get_dummies(temp_df[\"character_id\"]))"
   ]
  },
  {
   "cell_type": "code",
   "execution_count": 107,
   "metadata": {},
   "outputs": [],
   "source": [
    "# Split dataset into training and testing set\n",
    "train, test = train_test_split(temp_df,test_size=0.2)"
   ]
  },
  {
   "cell_type": "code",
   "execution_count": 108,
   "metadata": {},
   "outputs": [],
   "source": [
    "test_x = test.iloc[:,3:].to_numpy()\n",
    "train_x = train.iloc[:,3:].to_numpy()"
   ]
  },
  {
   "cell_type": "code",
   "execution_count": 109,
   "metadata": {},
   "outputs": [],
   "source": [
    "test_y = test.iloc[:,2].to_numpy()\n",
    "train_y = train.iloc[:,2].to_numpy()"
   ]
  },
  {
   "cell_type": "code",
   "execution_count": 110,
   "metadata": {},
   "outputs": [],
   "source": [
    "reg = RandomForestRegressor(min_samples_leaf=1, min_samples_split=22, n_estimators=110, n_jobs=-1,verbose=5)"
   ]
  },
  {
   "cell_type": "code",
   "execution_count": 111,
   "metadata": {},
   "outputs": [
    {
     "name": "stderr",
     "output_type": "stream",
     "text": [
      "[Parallel(n_jobs=-1)]: Using backend ThreadingBackend with 8 concurrent workers.\n",
      "[Parallel(n_jobs=-1)]: Done   2 tasks      | elapsed:    0.2s\n"
     ]
    },
    {
     "name": "stdout",
     "output_type": "stream",
     "text": [
      "building tree 1 of 110building tree 2 of 110\n",
      "\n",
      "building tree 3 of 110building tree 4 of 110\n",
      "building tree 5 of 110building tree 6 of 110\n",
      "\n",
      "\n",
      "building tree 7 of 110building tree 8 of 110\n",
      "\n",
      "building tree 9 of 110\n",
      "building tree 10 of 110building tree 11 of 110\n",
      "\n",
      "building tree 12 of 110\n",
      "building tree 13 of 110\n",
      "building tree 14 of 110building tree 15 of 110\n",
      "\n",
      "building tree 16 of 110\n",
      "building tree 17 of 110\n",
      "building tree 18 of 110\n",
      "building tree 19 of 110\n",
      "building tree 20 of 110\n",
      "building tree 21 of 110\n",
      "building tree 22 of 110\n",
      "building tree 23 of 110\n",
      "building tree 24 of 110\n",
      "building tree 25 of 110\n",
      "building tree 26 of 110\n",
      "building tree 27 of 110\n",
      "building tree 28 of 110\n",
      "building tree 29 of 110\n",
      "building tree 30 of 110\n",
      "building tree 31 of 110building tree 32 of 110\n",
      "\n",
      "building tree 33 of 110\n",
      "building tree 34 of 110\n",
      "building tree 35 of 110\n",
      "building tree 36 of 110\n",
      "building tree 37 of 110\n",
      "building tree 38 of 110\n",
      "building tree 39 of 110\n",
      "building tree 40 of 110\n",
      "building tree 41 of 110\n",
      "building tree 42 of 110\n",
      "building tree 43 of 110\n",
      "building tree 44 of 110\n",
      "building tree 45 of 110\n",
      "building tree 46 of 110\n",
      "building tree 47 of 110\n",
      "building tree 48 of 110\n",
      "building tree 49 of 110\n",
      "building tree 50 of 110\n",
      "building tree 51 of 110\n",
      "building tree 52 of 110\n",
      "building tree 53 of 110\n",
      "building tree 54 of 110\n",
      "building tree 55 of 110\n",
      "building tree 56 of 110\n",
      "building tree 57 of 110\n",
      "building tree 58 of 110\n",
      "building tree 59 of 110\n",
      "building tree 60 of 110\n",
      "building tree 61 of 110\n",
      "building tree 62 of 110\n",
      "building tree 63 of 110\n"
     ]
    },
    {
     "name": "stderr",
     "output_type": "stream",
     "text": [
      "[Parallel(n_jobs=-1)]: Done  56 tasks      | elapsed:    1.2s\n"
     ]
    },
    {
     "name": "stdout",
     "output_type": "stream",
     "text": [
      "building tree 64 of 110\n",
      "building tree 65 of 110\n",
      "building tree 66 of 110\n",
      "building tree 67 of 110\n",
      "building tree 68 of 110building tree 69 of 110\n",
      "\n",
      "building tree 70 of 110\n",
      "building tree 71 of 110\n",
      "building tree 72 of 110\n",
      "building tree 73 of 110\n",
      "building tree 74 of 110\n",
      "building tree 75 of 110\n",
      "building tree 76 of 110\n",
      "building tree 77 of 110\n",
      "building tree 78 of 110\n",
      "building tree 79 of 110\n",
      "building tree 80 of 110\n",
      "building tree 81 of 110\n",
      "building tree 82 of 110\n",
      "building tree 83 of 110\n",
      "building tree 84 of 110\n",
      "building tree 85 of 110\n",
      "building tree 86 of 110\n",
      "building tree 87 of 110\n",
      "building tree 88 of 110\n",
      "building tree 89 of 110\n",
      "building tree 90 of 110\n",
      "building tree 91 of 110\n",
      "building tree 92 of 110\n",
      "building tree 93 of 110\n",
      "building tree 94 of 110\n",
      "building tree 95 of 110\n",
      "building tree 96 of 110\n",
      "building tree 97 of 110\n",
      "building tree 98 of 110\n",
      "building tree 99 of 110\n",
      "building tree 100 of 110\n",
      "building tree 101 of 110\n",
      "building tree 102 of 110\n",
      "building tree 103 of 110\n",
      "building tree 104 of 110\n",
      "building tree 105 of 110\n",
      "building tree 106 of 110\n",
      "building tree 107 of 110building tree 108 of 110\n",
      "\n",
      "building tree 109 of 110\n",
      "building tree 110 of 110\n"
     ]
    },
    {
     "name": "stderr",
     "output_type": "stream",
     "text": [
      "[Parallel(n_jobs=-1)]: Done 110 out of 110 | elapsed:    2.4s finished\n"
     ]
    },
    {
     "data": {
      "text/plain": [
       "RandomForestRegressor(min_samples_split=22, n_estimators=110, n_jobs=-1,\n",
       "                      verbose=5)"
      ]
     },
     "execution_count": 111,
     "metadata": {},
     "output_type": "execute_result"
    }
   ],
   "source": [
    "reg.fit(train_x,train_y)"
   ]
  },
  {
   "cell_type": "code",
   "execution_count": 112,
   "metadata": {},
   "outputs": [
    {
     "name": "stderr",
     "output_type": "stream",
     "text": [
      "[Parallel(n_jobs=8)]: Using backend ThreadingBackend with 8 concurrent workers.\n",
      "[Parallel(n_jobs=8)]: Done   2 tasks      | elapsed:    0.0s\n",
      "[Parallel(n_jobs=8)]: Done  56 tasks      | elapsed:    0.0s\n",
      "[Parallel(n_jobs=8)]: Done 110 out of 110 | elapsed:    0.0s finished\n"
     ]
    }
   ],
   "source": [
    "pred_y = reg.predict(test_x)"
   ]
  },
  {
   "cell_type": "code",
   "execution_count": 113,
   "metadata": {},
   "outputs": [
    {
     "data": {
      "text/plain": [
       "5.318220341595731"
      ]
     },
     "execution_count": 113,
     "metadata": {},
     "output_type": "execute_result"
    }
   ],
   "source": [
    "mean_squared_error(test_y,pred_y)"
   ]
  },
  {
   "cell_type": "code",
   "execution_count": 114,
   "metadata": {},
   "outputs": [],
   "source": [
    "reg2 = RandomForestRegressor(n_jobs=-1)"
   ]
  },
  {
   "cell_type": "code",
   "execution_count": 115,
   "metadata": {},
   "outputs": [
    {
     "data": {
      "text/plain": [
       "{'n_estimators': array([ 50,  80, 110, 140, 170, 200, 230, 260, 290]),\n",
       " 'min_samples_split': array([ 2,  6, 10, 14, 18, 22, 26, 30, 34]),\n",
       " 'min_samples_leaf': array([1, 3, 5, 7, 9])}"
      ]
     },
     "execution_count": 115,
     "metadata": {},
     "output_type": "execute_result"
    }
   ],
   "source": [
    "params = {\"n_estimators\" : np.arange(50,300,30),\n",
    "\"min_samples_split\" : np.arange(2,38,4),\n",
    "\"min_samples_leaf\" : np.arange(1,10,2),\n",
    "}\n",
    "params"
   ]
  },
  {
   "cell_type": "code",
   "execution_count": 116,
   "metadata": {},
   "outputs": [],
   "source": [
    "#clf = GridSearchCV(reg2, params, verbose=10, n_jobs=-1, cv=3)"
   ]
  },
  {
   "cell_type": "code",
   "execution_count": 117,
   "metadata": {},
   "outputs": [],
   "source": [
    "#clf.fit(train_x,train_y)"
   ]
  }
 ],
 "metadata": {
  "kernelspec": {
   "display_name": "Python 3",
   "language": "python",
   "name": "python3"
  },
  "language_info": {
   "codemirror_mode": {
    "name": "ipython",
    "version": 3
   },
   "file_extension": ".py",
   "mimetype": "text/x-python",
   "name": "python",
   "nbconvert_exporter": "python",
   "pygments_lexer": "ipython3",
   "version": "3.8.3"
  }
 },
 "nbformat": 4,
 "nbformat_minor": 4
}
