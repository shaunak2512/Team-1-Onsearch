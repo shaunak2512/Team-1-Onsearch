{
 "cells": [
  {
   "cell_type": "code",
   "execution_count": 1,
   "metadata": {},
   "outputs": [],
   "source": [
    "import pickle\n",
    "import random\n",
    "import numpy as np\n",
    "import pandas as pd\n",
    "import json\n",
    "from itertools import groupby, chain, permutations, combinations, combinations_with_replacement"
   ]
  },
  {
   "cell_type": "code",
   "execution_count": 2,
   "metadata": {},
   "outputs": [],
   "source": [
    "reg_model = open('final_reg_model.sav', 'rb')\n",
    "reg = pickle.load(reg_model)"
   ]
  },
  {
   "cell_type": "code",
   "execution_count": 3,
   "metadata": {},
   "outputs": [
    {
     "name": "stdout",
     "output_type": "stream",
     "text": [
      "[2.41929347e-01 1.43612345e-01 7.83580597e-04 1.01204220e-04\n",
      " 5.51466436e-04 1.13638592e-04 3.71696041e-04 1.03751745e-04\n",
      " 3.71916972e-04 6.77853381e-06 6.03588345e-04 7.50785656e-05\n",
      " 2.19364171e-04 9.87194975e-06 1.86194526e-04 2.39813158e-07\n",
      " 2.12815938e-05 1.41306741e-07 2.55752461e-04 0.00000000e+00\n",
      " 1.44637358e-03 8.91452310e-05 1.18383149e-03 3.00839551e-04\n",
      " 1.24860120e-03 4.77289095e-04 1.04717745e-03 1.09367934e-04\n",
      " 1.17926897e-03 2.78946344e-04 8.70615991e-04 1.80979634e-04\n",
      " 7.37889822e-04 2.31624847e-05 8.28889389e-05 8.55959545e-06\n",
      " 1.23882953e-03 0.00000000e+00 2.86183956e-03 7.29824514e-05\n",
      " 2.61600130e-03 5.46324888e-04 3.10927582e-03 5.93263334e-04\n",
      " 3.16268441e-03 1.02182841e-03 2.96723129e-03 6.33471286e-04\n",
      " 2.99187256e-03 7.01051380e-04 3.38401341e-03 8.47366506e-04\n",
      " 9.19210283e-04 3.57706625e-04 3.08419419e-03 7.10812975e-04\n",
      " 1.05666925e-03 3.05657170e-04 7.06847372e-04 1.78276506e-04\n",
      " 2.67623485e-04 7.11753619e-04 8.07633118e-04 3.68518700e-04\n",
      " 6.17972949e-04 1.18429920e-04 5.35483806e-04 9.56526374e-04\n",
      " 2.34203873e-04 1.52605810e-04 2.45469479e-04 9.89761706e-04\n",
      " 8.19034534e-04 3.36676439e-04 1.68569948e-04 1.44956691e-03\n",
      " 6.89423552e-04 3.00520088e-04 2.15001537e-04 4.94607935e-04\n",
      " 4.41973075e-04 8.73704230e-04 4.58820549e-04 2.28091755e-04\n",
      " 7.00152330e-04 4.88706457e-04 6.80637094e-04 6.47776231e-04\n",
      " 9.53484503e-04 6.28542230e-04 1.16477038e-03 1.62121681e-03\n",
      " 4.35468562e-04 2.84392123e-04 2.80950768e-04 8.72532027e-04\n",
      " 6.36129504e-04 6.65311611e-04 1.25782606e-04 2.26102248e-04\n",
      " 5.97832402e-04 1.40361496e-04 3.01124810e-04 4.66576215e-04\n",
      " 3.62236052e-04 6.06647204e-04 1.01972224e-03 1.43834066e-04\n",
      " 1.10462279e-03 5.51643929e-04 4.14373908e-04 6.08480432e-04\n",
      " 1.18030278e-03 2.14613366e-02 2.36881680e-02 2.33024706e-02\n",
      " 1.77247207e-02 2.23289686e-02 2.74470999e-02 3.33312814e-02\n",
      " 2.40954376e-02 3.22323229e-02 1.00299385e-02 1.84874365e-02\n",
      " 1.38469258e-02 1.27783421e-02 2.19350674e-03 2.33430851e-02\n",
      " 4.53649100e-03 2.47190321e-02 2.01729777e-02 2.10578628e-02\n",
      " 2.03414256e-02 2.14652964e-02 2.77388368e-02 4.67680144e-03\n",
      " 2.89153260e-02 2.55453337e-04 1.16876137e-03 2.62038225e-03\n",
      " 8.13009444e-03 2.59694356e-02 5.93614168e-03 1.29500502e-02\n",
      " 1.33175880e-05]\n"
     ]
    }
   ],
   "source": [
    "print(reg.feature_importances_)"
   ]
  },
  {
   "cell_type": "code",
   "execution_count": 4,
   "metadata": {},
   "outputs": [],
   "source": [
    "# Generate all possible item combinations\n",
    "from itertools import combinations_with_replacement \n",
    "def generate_item_combinations(items_list):\n",
    "    combinations = combinations_with_replacement(items_list,3)\n",
    "    res = []\n",
    "    for combination in combinations:\n",
    "        combination = tuple(x for x in combination)\n",
    "        # check if tuple is in ascending order\n",
    "        if(combination[0] <= combination[1] and combination[1] <= combination[2]):\n",
    "            # check if there are no more than 1 basic items in the tuple \n",
    "            # note: 0 is considered as a combined item since 1, 2 or even all 3 item slots can be empty\n",
    "            if(np.sum(np.floor([(x/10) if x else 1 for x in combination]) == 0) <= 1):\n",
    "                res.append(combination)\n",
    "    return res"
   ]
  },
  {
   "cell_type": "code",
   "execution_count": 5,
   "metadata": {},
   "outputs": [
    {
     "data": {
      "text/plain": [
       "[(3, 38, 68),\n",
       " (33, 37, 45),\n",
       " (14, 14, 24),\n",
       " (9, 16, 78),\n",
       " (14, 26, 79),\n",
       " (13, 27, 69),\n",
       " (27, 47, 99),\n",
       " (0, 33, 48),\n",
       " (15, 23, 45),\n",
       " (23, 36, 44)]"
      ]
     },
     "execution_count": 5,
     "metadata": {},
     "output_type": "execute_result"
    }
   ],
   "source": [
    "items_list = [10 * i + j for i in range(10) for j in range(i,10)]\n",
    "item_combinations_list = generate_item_combinations(items_list)\n",
    "random.sample(item_combinations_list, 10)"
   ]
  },
  {
   "cell_type": "code",
   "execution_count": 9,
   "metadata": {},
   "outputs": [],
   "source": [
    "def vectorise_items(items):\n",
    "    item_index = {x:y for x,y in zip(range(1,10),range(0,18,2))}\n",
    "    res = {}\n",
    "    for i,item in enumerate(items):\n",
    "        item_str = str(item)\n",
    "        vect = np.zeros([18])\n",
    "        for i in item_str:\n",
    "            if i != '0':\n",
    "                first_index = item_index[int(i)]\n",
    "                if(not vect[first_index]):\n",
    "                    vect[first_index] = 1\n",
    "                else:\n",
    "                    vect[first_index+1] = 1\n",
    "        res[item] = vect\n",
    "    res[0] = np.zeros([18])\n",
    "    return res\n",
    "# Vector embeddings for all item combinations\n",
    "# Convert a list of items to vectors\n",
    "item_vector_dict = vectorise_items(items_list)\n",
    "def item_vector_lookup(item_list, d=item_vector_dict):\n",
    "    res = []\n",
    "    for items in item_list:\n",
    "        temp_res = []\n",
    "        for item in items:\n",
    "            temp_res = temp_res + d[item].tolist()\n",
    "        res.append(temp_res)\n",
    "    return res\n",
    "item_combinations_vector = item_vector_lookup(item_combinations_list)"
   ]
  },
  {
   "cell_type": "code",
   "execution_count": 10,
   "metadata": {},
   "outputs": [],
   "source": [
    "item_combinations_vector = np.asarray(item_combinations_vector)"
   ]
  },
  {
   "cell_type": "code",
   "execution_count": 11,
   "metadata": {},
   "outputs": [],
   "source": [
    "\n",
    "# Get n item recommendations and their predicted rank by running random forest model on all possible item combinations\n",
    "def get_n_item_recommendations(model, item_combinations_list, item_combinations_vector, input_vector, n=5):\n",
    "    # Duplicate input vector N times, N = #total number of item combinations\n",
    "    input_vector_stretched = np.tile(input_vector,(item_combinations_vector.shape[0],1))\n",
    "    # Add every item combination vector to the stretched input vector\n",
    "    input_vector_with_item_combo = np.insert(input_vector_stretched,3,item_combinations_vector.transpose(),axis=1)\n",
    "    # Predict rank\n",
    "    results = reg.predict(input_vector_with_item_combo)\n",
    "    # sort indices by predicted rank (descending)\n",
    "    sorted_items_index = np.argsort(results)\n",
    "    # Return n item combinations with the highest predicted ranks\n",
    "    return np.asarray([(item_combinations_list[x], results[x]) for x in sorted_items_index[:n]], dtype = object)"
   ]
  },
  {
   "cell_type": "code",
   "execution_count": 12,
   "metadata": {},
   "outputs": [],
   "source": [
    "with open('full_mapping.json') as json_data:\n",
    "    fullmap = json.load(json_data)\n",
    "item_mapping = fullmap['item_mapping_json']\n",
    "item_mapping['0'] = 'None'"
   ]
  },
  {
   "cell_type": "code",
   "execution_count": 13,
   "metadata": {},
   "outputs": [],
   "source": [
    "# Get item names for a tuple of item numbers\n",
    "def get_item_names(item_combo, item_mapping = item_mapping):\n",
    "    return tuple(item_mapping.get(str(item)) for item in item_combo)"
   ]
  },
  {
   "cell_type": "code",
   "execution_count": 34,
   "metadata": {},
   "outputs": [
    {
     "name": "stdout",
     "output_type": "stream",
     "text": [
      "gold_spent          3\n",
      "level         3.66667\n",
      "TFT3_Ahri           0\n",
      "TFT3_Annie          0\n",
      "TFT3_Ashe           0\n",
      "               ...   \n",
      "stage_4             0\n",
      "stage_5             0\n",
      "stage_6             0\n",
      "stage_7             0\n",
      "stage_8             0\n",
      "Name: 1989045, Length: 91, dtype: object\n"
     ]
    }
   ],
   "source": [
    "combined_df = pd.read_pickle(\"final_data_frame_one_hot\")\n",
    "combined_df = combined_df.drop(columns = [\"stage\"])\n",
    "# Get a random row of combined_df and remove all item indices\n",
    "not_item_index = list(chain(range(3),range(58,combined_df.shape[1])))\n",
    "#x_single = combined_df.iloc[663,not_item_index]\n",
    "row = random.randint(0,combined_df.shape[0])\n",
    "x_single = combined_df.iloc[row,~combined_df.columns.str.match(r'^(item|rank)')]\n",
    "print(x_single)\n",
    "\n",
    "def get_row_info(row):\n",
    "    character = 'None'\n",
    "    for key in combined_df.iloc[row, combined_df.columns.str.match(r'^TFT3_')].keys():\n",
    "        if combined_df.iloc[row, combined_df.columns.str.match(r'^TFT3_')][key] == 1:\n",
    "            character = key\n",
    "            break\n",
    "    stage = 'None'\n",
    "    for key in combined_df.iloc[row, combined_df.columns.str.match(r'^stage')].keys():\n",
    "        if combined_df.iloc[row, combined_df.columns.str.match(r'^stage')][key] == 1:\n",
    "            stage = key\n",
    "            break\n",
    "    gold_spent = combined_df.iloc[row, combined_df.columns.str.match(r'^gold_spent$')][0]\n",
    "    level = combined_df.iloc[row, combined_df.columns.str.match(r'^level$')][0]\n",
    "    info_dict = {'Character': character[5:],\n",
    "                 'Stage': stage,\n",
    "                 'Gold_spent': gold_spent,\n",
    "                 'Level': level}\n",
    "    return info_dict\n",
    "\n",
    "row_info = get_row_info(row)\n",
    "input_vector = x_single.to_numpy()"
   ]
  },
  {
   "cell_type": "code",
   "execution_count": 35,
   "metadata": {},
   "outputs": [
    {
     "name": "stdout",
     "output_type": "stream",
     "text": [
      "Character: XinZhao\n",
      "Stage: stage_2\n",
      "Gold_spent: 3.0\n",
      "Level: 3.6666666666666665\n"
     ]
    },
    {
     "data": {
      "text/plain": [
       "array([[(22, 56, 78), 3.3166666666666664],\n",
       "       [(33, 56, 78), 3.3566666666666665],\n",
       "       [(15, 56, 78), 3.416666666666666],\n",
       "       [(35, 56, 78), 3.416666666666666],\n",
       "       [(56, 56, 78), 3.416666666666666],\n",
       "       [(5, 56, 78), 3.416666666666666],\n",
       "       [(45, 56, 78), 3.416666666666666],\n",
       "       [(25, 56, 78), 3.416666666666666],\n",
       "       [(3, 56, 78), 3.4266666666666663],\n",
       "       [(26, 56, 78), 3.4266666666666663],\n",
       "       [(13, 56, 78), 3.4266666666666663],\n",
       "       [(29, 56, 78), 3.4266666666666663],\n",
       "       [(18, 56, 78), 3.4266666666666663],\n",
       "       [(9, 56, 78), 3.4266666666666663],\n",
       "       [(46, 56, 78), 3.4266666666666663],\n",
       "       [(36, 56, 78), 3.4266666666666663],\n",
       "       [(39, 56, 78), 3.4266666666666663],\n",
       "       [(7, 56, 78), 3.4266666666666663],\n",
       "       [(44, 56, 78), 3.4266666666666663],\n",
       "       [(24, 56, 78), 3.4266666666666663],\n",
       "       [(47, 56, 78), 3.4266666666666663],\n",
       "       [(27, 56, 78), 3.4266666666666663],\n",
       "       [(12, 56, 78), 3.4266666666666663],\n",
       "       [(6, 56, 78), 3.4266666666666663],\n",
       "       [(49, 56, 78), 3.4266666666666663],\n",
       "       [(34, 56, 78), 3.4266666666666663],\n",
       "       [(38, 56, 78), 3.4266666666666663],\n",
       "       [(37, 56, 78), 3.4266666666666663],\n",
       "       [(19, 56, 78), 3.4266666666666663],\n",
       "       [(0, 56, 78), 3.4266666666666663],\n",
       "       [(2, 56, 78), 3.4266666666666663],\n",
       "       [(8, 56, 78), 3.4266666666666663],\n",
       "       [(48, 56, 78), 3.4266666666666663],\n",
       "       [(28, 56, 78), 3.4266666666666663],\n",
       "       [(14, 56, 78), 3.4266666666666663],\n",
       "       [(23, 56, 78), 3.4266666666666663],\n",
       "       [(16, 56, 78), 3.4266666666666663],\n",
       "       [(17, 56, 78), 3.4266666666666663],\n",
       "       [(1, 56, 78), 3.4266666666666663],\n",
       "       [(4, 56, 78), 3.4266666666666663],\n",
       "       [(11, 56, 78), 3.436666666666666],\n",
       "       [(22, 56, 77), 3.438095238095238],\n",
       "       [(55, 56, 78), 3.4666666666666663],\n",
       "       [(22, 56, 79), 3.476666666666666],\n",
       "       [(15, 16, 78), 3.516666666666666],\n",
       "       [(33, 56, 79), 3.516666666666666],\n",
       "       [(5, 16, 78), 3.516666666666666],\n",
       "       [(33, 67, 78), 3.516666666666666],\n",
       "       [(33, 36, 78), 3.516666666666666],\n",
       "       [(33, 68, 78), 3.516666666666666]], dtype=object)"
      ]
     },
     "execution_count": 35,
     "metadata": {},
     "output_type": "execute_result"
    }
   ],
   "source": [
    "recommended_items = get_n_item_recommendations(reg, item_combinations_list, item_combinations_vector, input_vector,n=50)\n",
    "for k, v in row_info.items():\n",
    "    print(f'{k}: {v}')\n",
    "recommended_items"
   ]
  },
  {
   "cell_type": "code",
   "execution_count": 36,
   "metadata": {},
   "outputs": [
    {
     "name": "stdout",
     "output_type": "stream",
     "text": [
      "Character: XinZhao\n",
      "Stage: stage_2\n",
      "Gold_spent: 3.0\n",
      "Level: 3.6666666666666665\n"
     ]
    },
    {
     "data": {
      "text/plain": [
       "[('RapidFirecannon', 'SwordBreaker', 'ProtectorsChestguard'),\n",
       " ('RabadonsDeathcap', 'SwordBreaker', 'ProtectorsChestguard'),\n",
       " ('GuardianAngel', 'SwordBreaker', 'ProtectorsChestguard'),\n",
       " ('LocketoftheIronSolari', 'SwordBreaker', 'ProtectorsChestguard'),\n",
       " ('SwordBreaker', 'SwordBreaker', 'ProtectorsChestguard'),\n",
       " ('Chain Vest', 'SwordBreaker', 'ProtectorsChestguard'),\n",
       " ('FrozenHeart', 'SwordBreaker', 'ProtectorsChestguard'),\n",
       " ('TitansResolve', 'SwordBreaker', 'ProtectorsChestguard'),\n",
       " ('Needlessly Large Rod', 'SwordBreaker', 'ProtectorsChestguard'),\n",
       " ('RunaansHurricane', 'SwordBreaker', 'ProtectorsChestguard'),\n",
       " ('HextechGunblade', 'SwordBreaker', 'ProtectorsChestguard'),\n",
       " ('LastWhisper', 'SwordBreaker', 'ProtectorsChestguard'),\n",
       " ('BladeoftheRuinedKing', 'SwordBreaker', 'ProtectorsChestguard'),\n",
       " ('Sparring Gloves', 'SwordBreaker', 'ProtectorsChestguard'),\n",
       " ('ChaliceofFavor', 'SwordBreaker', 'ProtectorsChestguard'),\n",
       " ('IonicSpark', 'SwordBreaker', 'ProtectorsChestguard'),\n",
       " ('JeweledGauntlet', 'SwordBreaker', 'ProtectorsChestguard'),\n",
       " (\"Giant's Belt\", 'SwordBreaker', 'ProtectorsChestguard'),\n",
       " ('BlueBuff', 'SwordBreaker', 'ProtectorsChestguard'),\n",
       " ('StatikkShiv', 'SwordBreaker', 'ProtectorsChestguard'),\n",
       " ('Redemption', 'SwordBreaker', 'ProtectorsChestguard'),\n",
       " ('ZzrotPortal', 'SwordBreaker', 'ProtectorsChestguard'),\n",
       " ('GiantSlayer', 'SwordBreaker', 'ProtectorsChestguard'),\n",
       " ('Negatron Cloak', 'SwordBreaker', 'ProtectorsChestguard'),\n",
       " ('HandofJustice', 'SwordBreaker', 'ProtectorsChestguard'),\n",
       " ('LudensEcho', 'SwordBreaker', 'ProtectorsChestguard'),\n",
       " ('BattlecastArmor', 'SwordBreaker', 'ProtectorsChestguard'),\n",
       " ('Morellonomicon', 'SwordBreaker', 'ProtectorsChestguard'),\n",
       " ('InfinityEdge', 'SwordBreaker', 'ProtectorsChestguard'),\n",
       " ('None', 'SwordBreaker', 'ProtectorsChestguard'),\n",
       " ('Recurve Bow', 'SwordBreaker', 'ProtectorsChestguard'),\n",
       " ('Spatula', 'SwordBreaker', 'ProtectorsChestguard'),\n",
       " ('StarGuardiansCharm', 'SwordBreaker', 'ProtectorsChestguard'),\n",
       " ('InfiltratorsTalons', 'SwordBreaker', 'ProtectorsChestguard'),\n",
       " ('SpearofShojin', 'SwordBreaker', 'ProtectorsChestguard'),\n",
       " ('GuinsoosRageblade', 'SwordBreaker', 'ProtectorsChestguard'),\n",
       " ('Bloodthirster', 'SwordBreaker', 'ProtectorsChestguard'),\n",
       " ('ZekesHerald', 'SwordBreaker', 'ProtectorsChestguard'),\n",
       " ('B.F. Sword', 'SwordBreaker', 'ProtectorsChestguard'),\n",
       " ('Tear of the Goddess', 'SwordBreaker', 'ProtectorsChestguard'),\n",
       " ('Deathblade', 'SwordBreaker', 'ProtectorsChestguard'),\n",
       " ('RapidFirecannon', 'SwordBreaker', 'WarmogsArmor'),\n",
       " ('BrambleVest', 'SwordBreaker', 'ProtectorsChestguard'),\n",
       " ('RapidFirecannon', 'SwordBreaker', 'TrapClaw'),\n",
       " ('GuardianAngel', 'Bloodthirster', 'ProtectorsChestguard'),\n",
       " ('RabadonsDeathcap', 'SwordBreaker', 'TrapClaw'),\n",
       " ('Chain Vest', 'Bloodthirster', 'ProtectorsChestguard'),\n",
       " ('RabadonsDeathcap', 'Zephyr', 'ProtectorsChestguard'),\n",
       " ('RabadonsDeathcap', 'IonicSpark', 'ProtectorsChestguard'),\n",
       " ('RabadonsDeathcap', 'CelestialOrb', 'ProtectorsChestguard')]"
      ]
     },
     "execution_count": 36,
     "metadata": {},
     "output_type": "execute_result"
    }
   ],
   "source": [
    "for k, v in row_info.items():\n",
    "    print(f'{k}: {v}')\n",
    "[get_item_names(x) for x in recommended_items[:,0]]"
   ]
  },
  {
   "cell_type": "code",
   "execution_count": null,
   "metadata": {},
   "outputs": [],
   "source": []
  }
 ],
 "metadata": {
  "kernelspec": {
   "display_name": "Python 3",
   "language": "python",
   "name": "python3"
  },
  "language_info": {
   "codemirror_mode": {
    "name": "ipython",
    "version": 3
   },
   "file_extension": ".py",
   "mimetype": "text/x-python",
   "name": "python",
   "nbconvert_exporter": "python",
   "pygments_lexer": "ipython3",
   "version": "3.8.5"
  }
 },
 "nbformat": 4,
 "nbformat_minor": 4
}
