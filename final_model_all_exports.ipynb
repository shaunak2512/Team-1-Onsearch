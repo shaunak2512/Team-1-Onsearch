{
 "cells": [
  {
   "cell_type": "code",
   "execution_count": 1,
   "metadata": {},
   "outputs": [],
   "source": [
    "import numpy as np\n",
    "import pandas as pd\n",
    "import json\n",
    "from typing import Dict\n",
    "from itertools import groupby, chain\n",
    "from functools import reduce\n",
    "from collections import Counter, defaultdict\n",
    "import re\n",
    "from sklearn.preprocessing import OneHotEncoder \n",
    "from sklearn.feature_extraction import DictVectorizer\n",
    "from sklearn.model_selection import train_test_split\n",
    "from sklearn.ensemble import RandomForestRegressor, RandomForestClassifier \n",
    "from sklearn.metrics import mean_squared_error, mean_absolute_error, accuracy_score"
   ]
  },
  {
   "cell_type": "code",
   "execution_count": 2,
   "metadata": {},
   "outputs": [],
   "source": [
    "df = pd.read_json(\"export/export_0.json\")"
   ]
  },
  {
   "cell_type": "markdown",
   "metadata": {},
   "source": [
    "# Gold Per Stage"
   ]
  },
  {
   "cell_type": "code",
   "execution_count": 3,
   "metadata": {},
   "outputs": [],
   "source": [
    "def gold_spent(player):\n",
    "    gold_spent_per_round = {}\n",
    "    for currRound, group in groupby(player[\"gold\"][\"by_round\"], lambda x: x[\"current_round\"]):\n",
    "        l = list(group)\n",
    "        goldSpent = max(0,int(l[0][\"gold\"]) - int(l[-1][\"gold\"]))\n",
    "        gold_spent_per_round[currRound] = goldSpent\n",
    "    gold_spent_by_stage = defaultdict(int)\n",
    "    for x in list(gold_spent_per_round.keys()):\n",
    "        m = re.match(r'(\\d).+', x)\n",
    "        gold_spent_by_stage[int(m.group(1))] += gold_spent_per_round[m.group(0)]\n",
    "\n",
    "    return gold_spent_by_stage"
   ]
  },
  {
   "cell_type": "code",
   "execution_count": 4,
   "metadata": {},
   "outputs": [
    {
     "data": {
      "text/plain": [
       "defaultdict(int, {1: 4, 2: 20, 3: 13, 4: 97, 5: 40, 6: 30})"
      ]
     },
     "execution_count": 4,
     "metadata": {},
     "output_type": "execute_result"
    }
   ],
   "source": [
    "gold_spent(df.player.iloc[0])"
   ]
  },
  {
   "cell_type": "code",
   "execution_count": 5,
   "metadata": {},
   "outputs": [],
   "source": [
    "gold_dict = [gold_spent(df.player.iloc[i]) for i in range(df.shape[0])]"
   ]
  },
  {
   "cell_type": "code",
   "execution_count": 6,
   "metadata": {},
   "outputs": [
    {
     "data": {
      "text/plain": [
       "[defaultdict(int, {1: 4, 2: 20, 3: 13, 4: 97, 5: 40, 6: 30}),\n",
       " defaultdict(int, {1: 4, 2: 5, 3: 27, 4: 67, 5: 68, 6: 87}),\n",
       " defaultdict(int, {1: 2, 2: 5, 3: 86, 4: 24, 5: 70, 6: 12}),\n",
       " defaultdict(int, {1: 4, 2: 7, 3: 52, 4: 68, 5: 109, 6: 31}),\n",
       " defaultdict(int, {1: 2, 2: 11, 3: 36, 4: 93, 5: 66}),\n",
       " defaultdict(int, {1: 2, 2: 22, 3: 15, 4: 62, 5: 80}),\n",
       " defaultdict(int, {1: 4, 2: 4, 3: 53, 4: 71, 5: 76}),\n",
       " defaultdict(int, {1: 4, 2: 13, 3: 24, 4: 69, 5: 87}),\n",
       " defaultdict(int, {1: 2, 2: 9, 3: 52, 4: 79, 5: 94, 6: 18}),\n",
       " defaultdict(int, {1: 1, 2: 25, 3: 34, 4: 47, 5: 43, 6: 0})]"
      ]
     },
     "execution_count": 6,
     "metadata": {},
     "output_type": "execute_result"
    }
   ],
   "source": [
    "gold_dict[:10]"
   ]
  },
  {
   "cell_type": "code",
   "execution_count": 7,
   "metadata": {},
   "outputs": [
    {
     "data": {
      "text/html": [
       "<div>\n",
       "<style scoped>\n",
       "    .dataframe tbody tr th:only-of-type {\n",
       "        vertical-align: middle;\n",
       "    }\n",
       "\n",
       "    .dataframe tbody tr th {\n",
       "        vertical-align: top;\n",
       "    }\n",
       "\n",
       "    .dataframe thead th {\n",
       "        text-align: right;\n",
       "    }\n",
       "</style>\n",
       "<table border=\"1\" class=\"dataframe\">\n",
       "  <thead>\n",
       "    <tr style=\"text-align: right;\">\n",
       "      <th></th>\n",
       "      <th>1</th>\n",
       "      <th>2</th>\n",
       "      <th>3</th>\n",
       "      <th>4</th>\n",
       "      <th>5</th>\n",
       "      <th>6</th>\n",
       "      <th>7</th>\n",
       "    </tr>\n",
       "  </thead>\n",
       "  <tbody>\n",
       "    <tr>\n",
       "      <th>0</th>\n",
       "      <td>4.0</td>\n",
       "      <td>20.0</td>\n",
       "      <td>13.0</td>\n",
       "      <td>97.0</td>\n",
       "      <td>40.0</td>\n",
       "      <td>30.0</td>\n",
       "      <td>0.0</td>\n",
       "    </tr>\n",
       "    <tr>\n",
       "      <th>1</th>\n",
       "      <td>4.0</td>\n",
       "      <td>5.0</td>\n",
       "      <td>27.0</td>\n",
       "      <td>67.0</td>\n",
       "      <td>68.0</td>\n",
       "      <td>87.0</td>\n",
       "      <td>0.0</td>\n",
       "    </tr>\n",
       "    <tr>\n",
       "      <th>2</th>\n",
       "      <td>2.0</td>\n",
       "      <td>5.0</td>\n",
       "      <td>86.0</td>\n",
       "      <td>24.0</td>\n",
       "      <td>70.0</td>\n",
       "      <td>12.0</td>\n",
       "      <td>0.0</td>\n",
       "    </tr>\n",
       "    <tr>\n",
       "      <th>3</th>\n",
       "      <td>4.0</td>\n",
       "      <td>7.0</td>\n",
       "      <td>52.0</td>\n",
       "      <td>68.0</td>\n",
       "      <td>109.0</td>\n",
       "      <td>31.0</td>\n",
       "      <td>0.0</td>\n",
       "    </tr>\n",
       "    <tr>\n",
       "      <th>4</th>\n",
       "      <td>2.0</td>\n",
       "      <td>11.0</td>\n",
       "      <td>36.0</td>\n",
       "      <td>93.0</td>\n",
       "      <td>66.0</td>\n",
       "      <td>0.0</td>\n",
       "      <td>0.0</td>\n",
       "    </tr>\n",
       "  </tbody>\n",
       "</table>\n",
       "</div>"
      ],
      "text/plain": [
       "     1     2     3     4      5     6    7\n",
       "0  4.0  20.0  13.0  97.0   40.0  30.0  0.0\n",
       "1  4.0   5.0  27.0  67.0   68.0  87.0  0.0\n",
       "2  2.0   5.0  86.0  24.0   70.0  12.0  0.0\n",
       "3  4.0   7.0  52.0  68.0  109.0  31.0  0.0\n",
       "4  2.0  11.0  36.0  93.0   66.0   0.0  0.0"
      ]
     },
     "execution_count": 7,
     "metadata": {},
     "output_type": "execute_result"
    }
   ],
   "source": [
    "gold_df = pd.DataFrame(gold_dict).fillna(0)\n",
    "gold_df.head()"
   ]
  },
  {
   "cell_type": "markdown",
   "metadata": {},
   "source": [
    "# Level Per Stage"
   ]
  },
  {
   "cell_type": "code",
   "execution_count": 8,
   "metadata": {},
   "outputs": [],
   "source": [
    "def level_stage(player):\n",
    "    tp_dict = {}\n",
    "    \n",
    "    level_agg = 0\n",
    "    current_stage = 0\n",
    "    count_stage = 0\n",
    "    \n",
    "    for key, group in groupby(player[\"xp\"][\"by_round\"], lambda x: x[\"current_round\"]): \n",
    "        round_split = key.split(\"-\")\n",
    "        stage = int(round_split[0])\n",
    "\n",
    "        #start of loop\n",
    "        if current_stage == 0:\n",
    "            current_stage = stage\n",
    "        #going from stage x to stage y\n",
    "        elif current_stage != stage:\n",
    "            level_avg = level_agg/count_stage\n",
    "#             tp_dict[f\"level_at_stage_{current_stage}\"] = level_avg \n",
    "            tp_dict[current_stage] = level_avg \n",
    "            current_stage = stage\n",
    "            level_agg = 0\n",
    "            count_stage = 0\n",
    "\n",
    "        #continue\n",
    "        list_r = list(group)\n",
    "        level_agg += list_r[0]['level']\n",
    "        count_stage += 1\n",
    "\n",
    "    #getting the last stage\n",
    "    level_avg = level_agg/count_stage\n",
    "#     tp_dict[f\"level_at_stage_{current_stage}\"] = level_avg\n",
    "    tp_dict[current_stage] = level_avg\n",
    "    \n",
    "    return tp_dict"
   ]
  },
  {
   "cell_type": "code",
   "execution_count": 9,
   "metadata": {},
   "outputs": [
    {
     "data": {
      "text/plain": [
       "{1: 2.0,\n",
       " 2: 4.166666666666667,\n",
       " 3: 5.333333333333333,\n",
       " 4: 6.5,\n",
       " 5: 7.333333333333333,\n",
       " 6: 8.0}"
      ]
     },
     "execution_count": 9,
     "metadata": {},
     "output_type": "execute_result"
    }
   ],
   "source": [
    "level_stage(df.player.iloc[0])"
   ]
  },
  {
   "cell_type": "code",
   "execution_count": 10,
   "metadata": {},
   "outputs": [],
   "source": [
    "level_dict = [level_stage(df.player.iloc[i]) for i in range(df.shape[0])]"
   ]
  },
  {
   "cell_type": "code",
   "execution_count": 11,
   "metadata": {},
   "outputs": [
    {
     "data": {
      "text/html": [
       "<div>\n",
       "<style scoped>\n",
       "    .dataframe tbody tr th:only-of-type {\n",
       "        vertical-align: middle;\n",
       "    }\n",
       "\n",
       "    .dataframe tbody tr th {\n",
       "        vertical-align: top;\n",
       "    }\n",
       "\n",
       "    .dataframe thead th {\n",
       "        text-align: right;\n",
       "    }\n",
       "</style>\n",
       "<table border=\"1\" class=\"dataframe\">\n",
       "  <thead>\n",
       "    <tr style=\"text-align: right;\">\n",
       "      <th></th>\n",
       "      <th>1</th>\n",
       "      <th>2</th>\n",
       "      <th>3</th>\n",
       "      <th>4</th>\n",
       "      <th>5</th>\n",
       "      <th>6</th>\n",
       "      <th>7</th>\n",
       "    </tr>\n",
       "  </thead>\n",
       "  <tbody>\n",
       "    <tr>\n",
       "      <th>0</th>\n",
       "      <td>2.000000</td>\n",
       "      <td>4.166667</td>\n",
       "      <td>5.333333</td>\n",
       "      <td>6.500000</td>\n",
       "      <td>7.333333</td>\n",
       "      <td>8.00</td>\n",
       "      <td>8.00</td>\n",
       "    </tr>\n",
       "    <tr>\n",
       "      <th>1</th>\n",
       "      <td>2.000000</td>\n",
       "      <td>4.333333</td>\n",
       "      <td>5.000000</td>\n",
       "      <td>5.833333</td>\n",
       "      <td>7.166667</td>\n",
       "      <td>8.00</td>\n",
       "      <td>8.00</td>\n",
       "    </tr>\n",
       "    <tr>\n",
       "      <th>2</th>\n",
       "      <td>1.666667</td>\n",
       "      <td>3.666667</td>\n",
       "      <td>5.166667</td>\n",
       "      <td>6.000000</td>\n",
       "      <td>6.833333</td>\n",
       "      <td>7.00</td>\n",
       "      <td>7.00</td>\n",
       "    </tr>\n",
       "    <tr>\n",
       "      <th>3</th>\n",
       "      <td>1.666667</td>\n",
       "      <td>4.166667</td>\n",
       "      <td>5.833333</td>\n",
       "      <td>7.333333</td>\n",
       "      <td>8.000000</td>\n",
       "      <td>8.00</td>\n",
       "      <td>8.00</td>\n",
       "    </tr>\n",
       "    <tr>\n",
       "      <th>4</th>\n",
       "      <td>1.666667</td>\n",
       "      <td>3.500000</td>\n",
       "      <td>4.833333</td>\n",
       "      <td>6.000000</td>\n",
       "      <td>7.750000</td>\n",
       "      <td>7.75</td>\n",
       "      <td>7.75</td>\n",
       "    </tr>\n",
       "  </tbody>\n",
       "</table>\n",
       "</div>"
      ],
      "text/plain": [
       "          1         2         3         4         5     6     7\n",
       "0  2.000000  4.166667  5.333333  6.500000  7.333333  8.00  8.00\n",
       "1  2.000000  4.333333  5.000000  5.833333  7.166667  8.00  8.00\n",
       "2  1.666667  3.666667  5.166667  6.000000  6.833333  7.00  7.00\n",
       "3  1.666667  4.166667  5.833333  7.333333  8.000000  8.00  8.00\n",
       "4  1.666667  3.500000  4.833333  6.000000  7.750000  7.75  7.75"
      ]
     },
     "execution_count": 11,
     "metadata": {},
     "output_type": "execute_result"
    }
   ],
   "source": [
    "level_df = pd.DataFrame(level_dict).fillna(method='ffill',axis=1)\n",
    "level_df.head()"
   ]
  },
  {
   "cell_type": "code",
   "execution_count": null,
   "metadata": {},
   "outputs": [],
   "source": []
  },
  {
   "cell_type": "markdown",
   "metadata": {},
   "source": [
    "# Active Traits"
   ]
  },
  {
   "cell_type": "code",
   "execution_count": 12,
   "metadata": {},
   "outputs": [],
   "source": [
    "def encode_traits(trait_dict_column, active_trait_df, trait_index):\n",
    "    encoding_list = []\n",
    "    for trait_dict in trait_dict_column:\n",
    "        trait_encoding = [ 0 for i in range(len(trait_index)) ]\n",
    "        for key, value in trait_dict.items():\n",
    "            if key[:5] == 'Set3_':\n",
    "                trait = key[5:]\n",
    "            else:\n",
    "                trait = key\n",
    "            min_active_dict = active_trait_df.loc[active_trait_df['trait'] == trait]['min_active'].values[0]\n",
    "            has_trait_flag = 0\n",
    "            for k, v in min_active_dict.items():\n",
    "                if value >= v[0] and value < v[1]:\n",
    "                    trait_tier = int(k)\n",
    "                    has_trait_flag = 1\n",
    "            if has_trait_flag == 0:\n",
    "                trait_tier = 0\n",
    "            trait_encoding[trait_index[trait]] = trait_tier\n",
    "        encoding_list.append(trait_encoding)\n",
    "    return encoding_list\n",
    "\n",
    "def get_active_traits(player, char_trait, trait_tier):\n",
    "    active_traits = {}\n",
    "    last_rounds = get_last_rounds(player)\n",
    "    for rounds in last_rounds:\n",
    "        stage = rounds.split('-')[0]\n",
    "        board = player['round_outcomes']['by_round'][rounds]['board']\n",
    "        char_seen = set()\n",
    "        trait_count = {}\n",
    "        for char_dict in board:\n",
    "            char = char_dict['character_id']\n",
    "            if char not in char_seen:\n",
    "                char_seen.add(char_dict['character_id'])\n",
    "                trait_list = char_trait.loc[char_trait['name'] == char]['trait'].values[0].replace('\\'', '').replace(' ', '').strip('][ ').split(',')\n",
    "                for trait in trait_list:\n",
    "                    if trait not in trait_count:\n",
    "                        trait_count[trait] = 1\n",
    "                    else:\n",
    "                        trait_count[trait] += 1      \n",
    "        active_traits[stage] = trait_count\n",
    "        \n",
    "    return active_traits\n",
    "    \n",
    "def get_last_rounds(player):\n",
    "    round_list = list(player['round_outcomes']['by_round'].keys())\n",
    "    last_round_stage = []\n",
    "    last_r = 0\n",
    "    last_round = ''\n",
    "    for rounds in round_list:\n",
    "        r = int(rounds.split('-')[1])\n",
    "        if last_r > r:\n",
    "            last_round_stage.append(last_round)\n",
    "        last_r = r\n",
    "        last_round = rounds\n",
    "    last_round_stage.append(round_list[-1])\n",
    "    return last_round_stage"
   ]
  },
  {
   "cell_type": "code",
   "execution_count": 13,
   "metadata": {},
   "outputs": [],
   "source": [
    "with open('full_mapping.json') as json_data:\n",
    "    fullmap = json.load(json_data)\n",
    "    \n",
    "char_trait = pd.DataFrame(fullmap['character_trait_json'].items()).astype(str)\n",
    "char_trait.columns = ['name', 'trait']\n",
    "#print(char_trait)\n",
    "\n",
    "trait_tier = pd.DataFrame(fullmap['trait_tier_mapping_json'].items())\n",
    "#print(trait_tier)"
   ]
  },
  {
   "cell_type": "code",
   "execution_count": 14,
   "metadata": {},
   "outputs": [
    {
     "data": {
      "text/plain": [
       "{'1': {'Blademaster': 1, 'Cybernetic': 1, 'Protector': 1, 'DarkStar': 1},\n",
       " '2': {'Blademaster': 1,\n",
       "  'Celestial': 2,\n",
       "  'Mystic': 1,\n",
       "  'DarkStar': 3,\n",
       "  'Protector': 2,\n",
       "  'Vanguard': 1},\n",
       " '3': {'Blademaster': 1,\n",
       "  'Celestial': 2,\n",
       "  'Sniper': 1,\n",
       "  'Chrono': 2,\n",
       "  'Vanguard': 2,\n",
       "  'Protector': 2,\n",
       "  'DarkStar': 2},\n",
       " '4': {'Sniper': 1,\n",
       "  'Celestial': 4,\n",
       "  'Blademaster': 2,\n",
       "  'ManaReaver': 1,\n",
       "  'Cybernetic': 1,\n",
       "  'Protector': 4,\n",
       "  'DarkStar': 1,\n",
       "  'StarGuardian': 1},\n",
       " '5': {'Sniper': 1,\n",
       "  'Celestial': 4,\n",
       "  'Blademaster': 3,\n",
       "  'ManaReaver': 1,\n",
       "  'Cybernetic': 1,\n",
       "  'Protector': 4,\n",
       "  'Battlecast': 1,\n",
       "  'DarkStar': 1,\n",
       "  'Chrono': 1},\n",
       " '6': {'Sniper': 1,\n",
       "  'Celestial': 4,\n",
       "  'Blademaster': 3,\n",
       "  'ManaReaver': 1,\n",
       "  'Cybernetic': 1,\n",
       "  'Protector': 4,\n",
       "  'Battlecast': 1,\n",
       "  'DarkStar': 1,\n",
       "  'Chrono': 1}}"
      ]
     },
     "execution_count": 14,
     "metadata": {},
     "output_type": "execute_result"
    }
   ],
   "source": [
    "get_active_traits(df.player.iloc[0], char_trait, trait_tier)"
   ]
  },
  {
   "cell_type": "code",
   "execution_count": 15,
   "metadata": {},
   "outputs": [],
   "source": [
    "def active_trait_func(player):\n",
    "    return get_active_traits(player, char_trait, trait_tier)"
   ]
  },
  {
   "cell_type": "code",
   "execution_count": 16,
   "metadata": {},
   "outputs": [],
   "source": [
    "active_trait_dict = [active_trait_func(df.player.iloc[i]) for i in range(df.shape[0])]"
   ]
  },
  {
   "cell_type": "code",
   "execution_count": 17,
   "metadata": {},
   "outputs": [
    {
     "data": {
      "text/html": [
       "<div>\n",
       "<style scoped>\n",
       "    .dataframe tbody tr th:only-of-type {\n",
       "        vertical-align: middle;\n",
       "    }\n",
       "\n",
       "    .dataframe tbody tr th {\n",
       "        vertical-align: top;\n",
       "    }\n",
       "\n",
       "    .dataframe thead th {\n",
       "        text-align: right;\n",
       "    }\n",
       "</style>\n",
       "<table border=\"1\" class=\"dataframe\">\n",
       "  <thead>\n",
       "    <tr style=\"text-align: right;\">\n",
       "      <th></th>\n",
       "      <th>1</th>\n",
       "      <th>2</th>\n",
       "      <th>3</th>\n",
       "      <th>4</th>\n",
       "      <th>5</th>\n",
       "      <th>6</th>\n",
       "      <th>7</th>\n",
       "    </tr>\n",
       "  </thead>\n",
       "  <tbody>\n",
       "    <tr>\n",
       "      <th>0</th>\n",
       "      <td>{'Blademaster': 1, 'Cybernetic': 1, 'Protector...</td>\n",
       "      <td>{'Blademaster': 1, 'Celestial': 2, 'Mystic': 1...</td>\n",
       "      <td>{'Blademaster': 1, 'Celestial': 2, 'Sniper': 1...</td>\n",
       "      <td>{'Sniper': 1, 'Celestial': 4, 'Blademaster': 2...</td>\n",
       "      <td>{'Sniper': 1, 'Celestial': 4, 'Blademaster': 3...</td>\n",
       "      <td>{'Sniper': 1, 'Celestial': 4, 'Blademaster': 3...</td>\n",
       "      <td>{'Sniper': 1, 'Celestial': 4, 'Blademaster': 3...</td>\n",
       "    </tr>\n",
       "    <tr>\n",
       "      <th>1</th>\n",
       "      <td>{'Vanguard': 2, 'Cybernetic': 1, 'StarGuardian...</td>\n",
       "      <td>{'Blaster': 2, 'Chrono': 1, 'Mystic': 1, 'Batt...</td>\n",
       "      <td>{'Blaster': 2, 'Battlecast': 4, 'Infiltrator':...</td>\n",
       "      <td>{'Sorcerer': 1, 'Battlecast': 4, 'Blaster': 2,...</td>\n",
       "      <td>{'Infiltrator': 1, 'Battlecast': 5, 'Sorcerer'...</td>\n",
       "      <td>{'Infiltrator': 1, 'Battlecast': 6, 'Mystic': ...</td>\n",
       "      <td>{'Infiltrator': 1, 'Battlecast': 6, 'Mystic': ...</td>\n",
       "    </tr>\n",
       "    <tr>\n",
       "      <th>2</th>\n",
       "      <td>{'Sniper': 1, 'Chrono': 1, 'Protector': 1, 'Da...</td>\n",
       "      <td>{'Blademaster': 1, 'Celestial': 2, 'Mystic': 1...</td>\n",
       "      <td>{'Protector': 2, 'Celestial': 2, 'Blademaster'...</td>\n",
       "      <td>{'Protector': 2, 'Celestial': 2, 'Blademaster'...</td>\n",
       "      <td>{'Protector': 2, 'Celestial': 2, 'Blademaster'...</td>\n",
       "      <td>{'Protector': 2, 'Celestial': 2, 'Blademaster'...</td>\n",
       "      <td>{'Protector': 2, 'Celestial': 2, 'Blademaster'...</td>\n",
       "    </tr>\n",
       "    <tr>\n",
       "      <th>3</th>\n",
       "      <td>{'Mystic': 1, 'Battlecast': 2, 'Infiltrator': ...</td>\n",
       "      <td>{'Infiltrator': 1, 'DarkStar': 1, 'Mystic': 1,...</td>\n",
       "      <td>{'Mystic': 2, 'Astro': 1, 'Battlecast': 4, 'So...</td>\n",
       "      <td>{'Sniper': 4, 'Celestial': 1, 'Chrono': 1, 'As...</td>\n",
       "      <td>{'Sniper': 4, 'Astro': 3, 'DarkStar': 2, 'Myst...</td>\n",
       "      <td>{'Sniper': 4, 'Astro': 3, 'DarkStar': 1, 'Star...</td>\n",
       "      <td>{'Sniper': 4, 'Astro': 3, 'DarkStar': 1, 'Star...</td>\n",
       "    </tr>\n",
       "    <tr>\n",
       "      <th>4</th>\n",
       "      <td>{'Vanguard': 2, 'StarGuardian': 1, 'Cybernetic...</td>\n",
       "      <td>{'Sniper': 1, 'Celestial': 1, 'Vanguard': 2, '...</td>\n",
       "      <td>{'Sniper': 2, 'Chrono': 1, 'Infiltrator': 1, '...</td>\n",
       "      <td>{'Sniper': 2, 'Chrono': 2, 'Infiltrator': 1, '...</td>\n",
       "      <td>{'Mystic': 1, 'DarkStar': 6, 'Sniper': 3, 'Inf...</td>\n",
       "      <td>{'Mystic': 1, 'DarkStar': 6, 'Sniper': 3, 'Inf...</td>\n",
       "      <td>{'Mystic': 1, 'DarkStar': 6, 'Sniper': 3, 'Inf...</td>\n",
       "    </tr>\n",
       "  </tbody>\n",
       "</table>\n",
       "</div>"
      ],
      "text/plain": [
       "                                                   1  \\\n",
       "0  {'Blademaster': 1, 'Cybernetic': 1, 'Protector...   \n",
       "1  {'Vanguard': 2, 'Cybernetic': 1, 'StarGuardian...   \n",
       "2  {'Sniper': 1, 'Chrono': 1, 'Protector': 1, 'Da...   \n",
       "3  {'Mystic': 1, 'Battlecast': 2, 'Infiltrator': ...   \n",
       "4  {'Vanguard': 2, 'StarGuardian': 1, 'Cybernetic...   \n",
       "\n",
       "                                                   2  \\\n",
       "0  {'Blademaster': 1, 'Celestial': 2, 'Mystic': 1...   \n",
       "1  {'Blaster': 2, 'Chrono': 1, 'Mystic': 1, 'Batt...   \n",
       "2  {'Blademaster': 1, 'Celestial': 2, 'Mystic': 1...   \n",
       "3  {'Infiltrator': 1, 'DarkStar': 1, 'Mystic': 1,...   \n",
       "4  {'Sniper': 1, 'Celestial': 1, 'Vanguard': 2, '...   \n",
       "\n",
       "                                                   3  \\\n",
       "0  {'Blademaster': 1, 'Celestial': 2, 'Sniper': 1...   \n",
       "1  {'Blaster': 2, 'Battlecast': 4, 'Infiltrator':...   \n",
       "2  {'Protector': 2, 'Celestial': 2, 'Blademaster'...   \n",
       "3  {'Mystic': 2, 'Astro': 1, 'Battlecast': 4, 'So...   \n",
       "4  {'Sniper': 2, 'Chrono': 1, 'Infiltrator': 1, '...   \n",
       "\n",
       "                                                   4  \\\n",
       "0  {'Sniper': 1, 'Celestial': 4, 'Blademaster': 2...   \n",
       "1  {'Sorcerer': 1, 'Battlecast': 4, 'Blaster': 2,...   \n",
       "2  {'Protector': 2, 'Celestial': 2, 'Blademaster'...   \n",
       "3  {'Sniper': 4, 'Celestial': 1, 'Chrono': 1, 'As...   \n",
       "4  {'Sniper': 2, 'Chrono': 2, 'Infiltrator': 1, '...   \n",
       "\n",
       "                                                   5  \\\n",
       "0  {'Sniper': 1, 'Celestial': 4, 'Blademaster': 3...   \n",
       "1  {'Infiltrator': 1, 'Battlecast': 5, 'Sorcerer'...   \n",
       "2  {'Protector': 2, 'Celestial': 2, 'Blademaster'...   \n",
       "3  {'Sniper': 4, 'Astro': 3, 'DarkStar': 2, 'Myst...   \n",
       "4  {'Mystic': 1, 'DarkStar': 6, 'Sniper': 3, 'Inf...   \n",
       "\n",
       "                                                   6  \\\n",
       "0  {'Sniper': 1, 'Celestial': 4, 'Blademaster': 3...   \n",
       "1  {'Infiltrator': 1, 'Battlecast': 6, 'Mystic': ...   \n",
       "2  {'Protector': 2, 'Celestial': 2, 'Blademaster'...   \n",
       "3  {'Sniper': 4, 'Astro': 3, 'DarkStar': 1, 'Star...   \n",
       "4  {'Mystic': 1, 'DarkStar': 6, 'Sniper': 3, 'Inf...   \n",
       "\n",
       "                                                   7  \n",
       "0  {'Sniper': 1, 'Celestial': 4, 'Blademaster': 3...  \n",
       "1  {'Infiltrator': 1, 'Battlecast': 6, 'Mystic': ...  \n",
       "2  {'Protector': 2, 'Celestial': 2, 'Blademaster'...  \n",
       "3  {'Sniper': 4, 'Astro': 3, 'DarkStar': 1, 'Star...  \n",
       "4  {'Mystic': 1, 'DarkStar': 6, 'Sniper': 3, 'Inf...  "
      ]
     },
     "execution_count": 17,
     "metadata": {},
     "output_type": "execute_result"
    }
   ],
   "source": [
    "active_trait_df = pd.DataFrame(active_trait_dict).fillna(method='ffill',axis=1)\n",
    "active_trait_df.head()"
   ]
  },
  {
   "cell_type": "markdown",
   "metadata": {},
   "source": [
    "# Characters and Items"
   ]
  },
  {
   "cell_type": "code",
   "execution_count": 18,
   "metadata": {},
   "outputs": [],
   "source": [
    "def character_items(player):\n",
    "    tp_dict={}\n",
    "    \n",
    "    round_outcome_dict = player['round_outcomes']\n",
    "    by_round_dict = round_outcome_dict['by_round']\n",
    "    \n",
    "    current_stage = 0\n",
    "    prev_stage = 1\n",
    "    \n",
    "    current_round = 'a'\n",
    "    prev_round = 'a'\n",
    "    \n",
    "    for key in by_round_dict.keys():\n",
    "        round_split = key.split(\"-\")\n",
    "        current_stage = int(round_split[0])\n",
    "\n",
    "        current_round = key\n",
    "\n",
    "        if(prev_round == 'a'):\n",
    "            prev_round = key\n",
    "            prev_stage = current_stage\n",
    "\n",
    "        if (current_stage == prev_stage):\n",
    "            prev_round = key\n",
    "        #went from stage x to stage y\n",
    "        elif (current_stage != prev_stage):\n",
    "            #a dictionary containg board\n",
    "            #get the board characters and items\n",
    "            board_dict = by_round_dict[prev_round]['board']\n",
    "            #each index has one character and item combo in a dictionary with character_id and items\n",
    "            #the temp dictionary will be 1: [character_id, items]\n",
    "\n",
    "            temp_list = []\n",
    "            \n",
    "            for char in board_dict:\n",
    "                character_id_value = char['character_id']\n",
    "                items_value = char['items']\n",
    "\n",
    "                temp_dict = {}\n",
    "                temp_dict['character_id'] = character_id_value\n",
    "                temp_dict['items'] = items_value\n",
    "\n",
    "                temp_list.append(temp_dict)\n",
    "\n",
    "            tp_dict[prev_stage] = temp_list\n",
    "\n",
    "            prev_round = key\n",
    "            prev_stage = current_stage\n",
    "            \n",
    "    #last one\n",
    "    board_dict = by_round_dict[prev_round]['board']\n",
    "    \n",
    "    temp_list = []\n",
    "\n",
    "    for char in board_dict:\n",
    "        character_id_value = char['character_id']\n",
    "        items_value = char['items']\n",
    "\n",
    "        temp_dict = {}\n",
    "        temp_dict['character_id'] = character_id_value\n",
    "        temp_dict['items'] = items_value\n",
    "\n",
    "        temp_list.append(temp_dict)\n",
    "\n",
    "    tp_dict[prev_stage] = temp_list\n",
    "    \n",
    "    \n",
    "    return tp_dict\n"
   ]
  },
  {
   "cell_type": "code",
   "execution_count": 19,
   "metadata": {},
   "outputs": [],
   "source": [
    "char_item_dict = [character_items(df.player.iloc[i]) for i in range(df.shape[0])]"
   ]
  },
  {
   "cell_type": "code",
   "execution_count": 20,
   "metadata": {
    "scrolled": true
   },
   "outputs": [
    {
     "data": {
      "text/plain": [
       "{1: [{'character_id': 'TFT3_Caitlyn', 'items': []},\n",
       "  {'character_id': 'TFT3_JarvanIV', 'items': []}],\n",
       " 2: [{'character_id': 'TFT3_Xayah', 'items': [6, 19]},\n",
       "  {'character_id': 'TFT3_Karma', 'items': []},\n",
       "  {'character_id': 'TFT3_XinZhao', 'items': []},\n",
       "  {'character_id': 'TFT3_JarvanIV', 'items': [5]}],\n",
       " 3: [{'character_id': 'TFT3_Rakan', 'items': [37]},\n",
       "  {'character_id': 'TFT3_Xayah', 'items': [6, 19]},\n",
       "  {'character_id': 'TFT3_Riven', 'items': []},\n",
       "  {'character_id': 'TFT3_Shen', 'items': []},\n",
       "  {'character_id': 'TFT3_JarvanIV', 'items': [5]},\n",
       "  {'character_id': 'TFT3_Fiora', 'items': []}],\n",
       " 4: [{'character_id': 'TFT3_Rakan', 'items': [37]},\n",
       "  {'character_id': 'TFT3_Riven', 'items': []},\n",
       "  {'character_id': 'TFT3_Xayah', 'items': [12, 19, 69]},\n",
       "  {'character_id': 'TFT3_Shen', 'items': []},\n",
       "  {'character_id': 'TFT3_JarvanIV', 'items': [55]},\n",
       "  {'character_id': 'TFT3_MasterYi', 'items': []}],\n",
       " 5: [{'character_id': 'TFT3_Rakan', 'items': [37]},\n",
       "  {'character_id': 'TFT3_MasterYi', 'items': [22, 24]},\n",
       "  {'character_id': 'TFT3_Xayah', 'items': [12, 19, 69]},\n",
       "  {'character_id': 'TFT3_Riven', 'items': []},\n",
       "  {'character_id': 'TFT3_Shen', 'items': []},\n",
       "  {'character_id': 'TFT3_JarvanIV', 'items': [55]},\n",
       "  {'character_id': 'TFT3_Fiora', 'items': []}],\n",
       " 6: [{'character_id': 'TFT3_Rakan', 'items': [37]},\n",
       "  {'character_id': 'TFT3_MasterYi', 'items': [22, 24]},\n",
       "  {'character_id': 'TFT3_Xayah', 'items': [12, 19, 69]},\n",
       "  {'character_id': 'TFT3_Riven', 'items': []},\n",
       "  {'character_id': 'TFT3_Shen', 'items': [47]},\n",
       "  {'character_id': 'TFT3_JarvanIV', 'items': [55]},\n",
       "  {'character_id': 'TFT3_Fiora', 'items': []}]}"
      ]
     },
     "execution_count": 20,
     "metadata": {},
     "output_type": "execute_result"
    }
   ],
   "source": [
    "char_item_dict[2]"
   ]
  },
  {
   "cell_type": "markdown",
   "metadata": {},
   "source": [
    "## Create a dataframe with character_id, items, stage info and rank"
   ]
  },
  {
   "cell_type": "code",
   "execution_count": 21,
   "metadata": {},
   "outputs": [],
   "source": [
    "i = 0\n",
    "res = []\n",
    "for i in range(len(char_item_dict)):\n",
    "    for stage,comp in char_item_dict[i].items():\n",
    "        for char in comp:\n",
    "            res.append({\"stage\" : stage, \"character_id\" : char['character_id'], \"items\" : char[\"items\"], \\\n",
    "                \"gold_spent\" : gold_df.iloc[i][stage], \"level\" : level_df.iloc[i][stage], \\\n",
    "                \"active_trait\" : active_trait_df.iloc[i][str(stage)], \"rank\" : df.player.iloc[i][\"final\"][\"placement\"][\"rank\"]})\n",
    "#             print(f\"i : {i}\")\n",
    "#             print(f\"stage : {stage}\")\n",
    "#             print(f\"character_id : {char['character_id']}\")\n",
    "#             print(char[\"items\"])\n",
    "#             print(gold_df.iloc[i][stage])      \n",
    "#             print(level_df.iloc[i][stage])\n",
    "#             print(active_trait_df.iloc[i][str(stage)])\n",
    "    \n",
    "\n"
   ]
  },
  {
   "cell_type": "code",
   "execution_count": 22,
   "metadata": {},
   "outputs": [
    {
     "data": {
      "text/html": [
       "<div>\n",
       "<style scoped>\n",
       "    .dataframe tbody tr th:only-of-type {\n",
       "        vertical-align: middle;\n",
       "    }\n",
       "\n",
       "    .dataframe tbody tr th {\n",
       "        vertical-align: top;\n",
       "    }\n",
       "\n",
       "    .dataframe thead th {\n",
       "        text-align: right;\n",
       "    }\n",
       "</style>\n",
       "<table border=\"1\" class=\"dataframe\">\n",
       "  <thead>\n",
       "    <tr style=\"text-align: right;\">\n",
       "      <th></th>\n",
       "      <th>stage</th>\n",
       "      <th>character_id</th>\n",
       "      <th>items</th>\n",
       "      <th>gold_spent</th>\n",
       "      <th>level</th>\n",
       "      <th>active_trait</th>\n",
       "      <th>rank</th>\n",
       "    </tr>\n",
       "  </thead>\n",
       "  <tbody>\n",
       "    <tr>\n",
       "      <th>67778</th>\n",
       "      <td>6</td>\n",
       "      <td>TFT3_Jayce</td>\n",
       "      <td>[15, 36, 66]</td>\n",
       "      <td>22.0</td>\n",
       "      <td>7.000000</td>\n",
       "      <td>{'Mystic': 4, 'StarGuardian': 1, 'Astro': 2, '...</td>\n",
       "      <td>2</td>\n",
       "    </tr>\n",
       "    <tr>\n",
       "      <th>67779</th>\n",
       "      <td>6</td>\n",
       "      <td>TFT3_WuKong</td>\n",
       "      <td>[45, 69]</td>\n",
       "      <td>22.0</td>\n",
       "      <td>7.000000</td>\n",
       "      <td>{'Mystic': 4, 'StarGuardian': 1, 'Astro': 2, '...</td>\n",
       "      <td>2</td>\n",
       "    </tr>\n",
       "    <tr>\n",
       "      <th>67780</th>\n",
       "      <td>1</td>\n",
       "      <td>TFT3_Zoe</td>\n",
       "      <td>[]</td>\n",
       "      <td>2.0</td>\n",
       "      <td>1.666667</td>\n",
       "      <td>{'Sorcerer': 1, 'StarGuardian': 1, 'Brawler': ...</td>\n",
       "      <td>8</td>\n",
       "    </tr>\n",
       "    <tr>\n",
       "      <th>67781</th>\n",
       "      <td>1</td>\n",
       "      <td>TFT3_Malphite</td>\n",
       "      <td>[]</td>\n",
       "      <td>2.0</td>\n",
       "      <td>1.666667</td>\n",
       "      <td>{'Sorcerer': 1, 'StarGuardian': 1, 'Brawler': ...</td>\n",
       "      <td>8</td>\n",
       "    </tr>\n",
       "    <tr>\n",
       "      <th>67782</th>\n",
       "      <td>2</td>\n",
       "      <td>TFT3_Caitlyn</td>\n",
       "      <td>[]</td>\n",
       "      <td>20.0</td>\n",
       "      <td>3.666667</td>\n",
       "      <td>{'Sniper': 1, 'Chrono': 2, 'Blademaster': 2, '...</td>\n",
       "      <td>8</td>\n",
       "    </tr>\n",
       "    <tr>\n",
       "      <th>67783</th>\n",
       "      <td>2</td>\n",
       "      <td>TFT3_MasterYi</td>\n",
       "      <td>[]</td>\n",
       "      <td>20.0</td>\n",
       "      <td>3.666667</td>\n",
       "      <td>{'Sniper': 1, 'Chrono': 2, 'Blademaster': 2, '...</td>\n",
       "      <td>8</td>\n",
       "    </tr>\n",
       "    <tr>\n",
       "      <th>67784</th>\n",
       "      <td>2</td>\n",
       "      <td>TFT3_Shen</td>\n",
       "      <td>[]</td>\n",
       "      <td>20.0</td>\n",
       "      <td>3.666667</td>\n",
       "      <td>{'Sniper': 1, 'Chrono': 2, 'Blademaster': 2, '...</td>\n",
       "      <td>8</td>\n",
       "    </tr>\n",
       "    <tr>\n",
       "      <th>67785</th>\n",
       "      <td>2</td>\n",
       "      <td>TFT3_Malphite</td>\n",
       "      <td>[7]</td>\n",
       "      <td>20.0</td>\n",
       "      <td>3.666667</td>\n",
       "      <td>{'Sniper': 1, 'Chrono': 2, 'Blademaster': 2, '...</td>\n",
       "      <td>8</td>\n",
       "    </tr>\n",
       "    <tr>\n",
       "      <th>67786</th>\n",
       "      <td>3</td>\n",
       "      <td>TFT3_TwistedFate</td>\n",
       "      <td>[14]</td>\n",
       "      <td>54.0</td>\n",
       "      <td>5.500000</td>\n",
       "      <td>{'Sorcerer': 1, 'Chrono': 3, 'Blademaster': 3,...</td>\n",
       "      <td>8</td>\n",
       "    </tr>\n",
       "    <tr>\n",
       "      <th>67787</th>\n",
       "      <td>3</td>\n",
       "      <td>TFT3_Shen</td>\n",
       "      <td>[]</td>\n",
       "      <td>54.0</td>\n",
       "      <td>5.500000</td>\n",
       "      <td>{'Sorcerer': 1, 'Chrono': 3, 'Blademaster': 3,...</td>\n",
       "      <td>8</td>\n",
       "    </tr>\n",
       "    <tr>\n",
       "      <th>67788</th>\n",
       "      <td>3</td>\n",
       "      <td>TFT3_MasterYi</td>\n",
       "      <td>[2, 39]</td>\n",
       "      <td>54.0</td>\n",
       "      <td>5.500000</td>\n",
       "      <td>{'Sorcerer': 1, 'Chrono': 3, 'Blademaster': 3,...</td>\n",
       "      <td>8</td>\n",
       "    </tr>\n",
       "    <tr>\n",
       "      <th>67789</th>\n",
       "      <td>3</td>\n",
       "      <td>TFT3_Yasuo</td>\n",
       "      <td>[]</td>\n",
       "      <td>54.0</td>\n",
       "      <td>5.500000</td>\n",
       "      <td>{'Sorcerer': 1, 'Chrono': 3, 'Blademaster': 3,...</td>\n",
       "      <td>8</td>\n",
       "    </tr>\n",
       "    <tr>\n",
       "      <th>67790</th>\n",
       "      <td>3</td>\n",
       "      <td>TFT3_Blitzcrank</td>\n",
       "      <td>[66]</td>\n",
       "      <td>54.0</td>\n",
       "      <td>5.500000</td>\n",
       "      <td>{'Sorcerer': 1, 'Chrono': 3, 'Blademaster': 3,...</td>\n",
       "      <td>8</td>\n",
       "    </tr>\n",
       "    <tr>\n",
       "      <th>67791</th>\n",
       "      <td>3</td>\n",
       "      <td>TFT3_Malphite</td>\n",
       "      <td>[7]</td>\n",
       "      <td>54.0</td>\n",
       "      <td>5.500000</td>\n",
       "      <td>{'Sorcerer': 1, 'Chrono': 3, 'Blademaster': 3,...</td>\n",
       "      <td>8</td>\n",
       "    </tr>\n",
       "    <tr>\n",
       "      <th>67792</th>\n",
       "      <td>4</td>\n",
       "      <td>TFT3_TwistedFate</td>\n",
       "      <td>[]</td>\n",
       "      <td>6.0</td>\n",
       "      <td>6.000000</td>\n",
       "      <td>{'Sorcerer': 1, 'Chrono': 3, 'Blademaster': 3,...</td>\n",
       "      <td>8</td>\n",
       "    </tr>\n",
       "    <tr>\n",
       "      <th>67793</th>\n",
       "      <td>4</td>\n",
       "      <td>TFT3_Riven</td>\n",
       "      <td>[]</td>\n",
       "      <td>6.0</td>\n",
       "      <td>6.000000</td>\n",
       "      <td>{'Sorcerer': 1, 'Chrono': 3, 'Blademaster': 3,...</td>\n",
       "      <td>8</td>\n",
       "    </tr>\n",
       "    <tr>\n",
       "      <th>67794</th>\n",
       "      <td>4</td>\n",
       "      <td>TFT3_MasterYi</td>\n",
       "      <td>[]</td>\n",
       "      <td>6.0</td>\n",
       "      <td>6.000000</td>\n",
       "      <td>{'Sorcerer': 1, 'Chrono': 3, 'Blademaster': 3,...</td>\n",
       "      <td>8</td>\n",
       "    </tr>\n",
       "    <tr>\n",
       "      <th>67795</th>\n",
       "      <td>4</td>\n",
       "      <td>TFT3_Yasuo</td>\n",
       "      <td>[]</td>\n",
       "      <td>6.0</td>\n",
       "      <td>6.000000</td>\n",
       "      <td>{'Sorcerer': 1, 'Chrono': 3, 'Blademaster': 3,...</td>\n",
       "      <td>8</td>\n",
       "    </tr>\n",
       "    <tr>\n",
       "      <th>67796</th>\n",
       "      <td>4</td>\n",
       "      <td>TFT3_Blitzcrank</td>\n",
       "      <td>[]</td>\n",
       "      <td>6.0</td>\n",
       "      <td>6.000000</td>\n",
       "      <td>{'Sorcerer': 1, 'Chrono': 3, 'Blademaster': 3,...</td>\n",
       "      <td>8</td>\n",
       "    </tr>\n",
       "    <tr>\n",
       "      <th>67797</th>\n",
       "      <td>4</td>\n",
       "      <td>TFT3_Malphite</td>\n",
       "      <td>[]</td>\n",
       "      <td>6.0</td>\n",
       "      <td>6.000000</td>\n",
       "      <td>{'Sorcerer': 1, 'Chrono': 3, 'Blademaster': 3,...</td>\n",
       "      <td>8</td>\n",
       "    </tr>\n",
       "  </tbody>\n",
       "</table>\n",
       "</div>"
      ],
      "text/plain": [
       "       stage      character_id         items  gold_spent     level  \\\n",
       "67778      6        TFT3_Jayce  [15, 36, 66]        22.0  7.000000   \n",
       "67779      6       TFT3_WuKong      [45, 69]        22.0  7.000000   \n",
       "67780      1          TFT3_Zoe            []         2.0  1.666667   \n",
       "67781      1     TFT3_Malphite            []         2.0  1.666667   \n",
       "67782      2      TFT3_Caitlyn            []        20.0  3.666667   \n",
       "67783      2     TFT3_MasterYi            []        20.0  3.666667   \n",
       "67784      2         TFT3_Shen            []        20.0  3.666667   \n",
       "67785      2     TFT3_Malphite           [7]        20.0  3.666667   \n",
       "67786      3  TFT3_TwistedFate          [14]        54.0  5.500000   \n",
       "67787      3         TFT3_Shen            []        54.0  5.500000   \n",
       "67788      3     TFT3_MasterYi       [2, 39]        54.0  5.500000   \n",
       "67789      3        TFT3_Yasuo            []        54.0  5.500000   \n",
       "67790      3   TFT3_Blitzcrank          [66]        54.0  5.500000   \n",
       "67791      3     TFT3_Malphite           [7]        54.0  5.500000   \n",
       "67792      4  TFT3_TwistedFate            []         6.0  6.000000   \n",
       "67793      4        TFT3_Riven            []         6.0  6.000000   \n",
       "67794      4     TFT3_MasterYi            []         6.0  6.000000   \n",
       "67795      4        TFT3_Yasuo            []         6.0  6.000000   \n",
       "67796      4   TFT3_Blitzcrank            []         6.0  6.000000   \n",
       "67797      4     TFT3_Malphite            []         6.0  6.000000   \n",
       "\n",
       "                                            active_trait rank  \n",
       "67778  {'Mystic': 4, 'StarGuardian': 1, 'Astro': 2, '...    2  \n",
       "67779  {'Mystic': 4, 'StarGuardian': 1, 'Astro': 2, '...    2  \n",
       "67780  {'Sorcerer': 1, 'StarGuardian': 1, 'Brawler': ...    8  \n",
       "67781  {'Sorcerer': 1, 'StarGuardian': 1, 'Brawler': ...    8  \n",
       "67782  {'Sniper': 1, 'Chrono': 2, 'Blademaster': 2, '...    8  \n",
       "67783  {'Sniper': 1, 'Chrono': 2, 'Blademaster': 2, '...    8  \n",
       "67784  {'Sniper': 1, 'Chrono': 2, 'Blademaster': 2, '...    8  \n",
       "67785  {'Sniper': 1, 'Chrono': 2, 'Blademaster': 2, '...    8  \n",
       "67786  {'Sorcerer': 1, 'Chrono': 3, 'Blademaster': 3,...    8  \n",
       "67787  {'Sorcerer': 1, 'Chrono': 3, 'Blademaster': 3,...    8  \n",
       "67788  {'Sorcerer': 1, 'Chrono': 3, 'Blademaster': 3,...    8  \n",
       "67789  {'Sorcerer': 1, 'Chrono': 3, 'Blademaster': 3,...    8  \n",
       "67790  {'Sorcerer': 1, 'Chrono': 3, 'Blademaster': 3,...    8  \n",
       "67791  {'Sorcerer': 1, 'Chrono': 3, 'Blademaster': 3,...    8  \n",
       "67792  {'Sorcerer': 1, 'Chrono': 3, 'Blademaster': 3,...    8  \n",
       "67793  {'Sorcerer': 1, 'Chrono': 3, 'Blademaster': 3,...    8  \n",
       "67794  {'Sorcerer': 1, 'Chrono': 3, 'Blademaster': 3,...    8  \n",
       "67795  {'Sorcerer': 1, 'Chrono': 3, 'Blademaster': 3,...    8  \n",
       "67796  {'Sorcerer': 1, 'Chrono': 3, 'Blademaster': 3,...    8  \n",
       "67797  {'Sorcerer': 1, 'Chrono': 3, 'Blademaster': 3,...    8  "
      ]
     },
     "execution_count": 22,
     "metadata": {},
     "output_type": "execute_result"
    }
   ],
   "source": [
    "combined_df = pd.DataFrame(res)\n",
    "combined_df.tail(20)"
   ]
  },
  {
   "cell_type": "code",
   "execution_count": 23,
   "metadata": {},
   "outputs": [],
   "source": [
    "# Pad item array with zeroes\n",
    "combined_df[\"items\"] = combined_df[\"items\"].apply(lambda x: np.pad(i := np.asarray(x), (0,3-len(i))))"
   ]
  },
  {
   "cell_type": "markdown",
   "metadata": {},
   "source": [
    "## Vectorise Items in combined_df"
   ]
  },
  {
   "cell_type": "code",
   "execution_count": 24,
   "metadata": {},
   "outputs": [],
   "source": [
    "# List of all items\n",
    "items_list = list(range(1,10)) + [10 * i + j for i in range(1,10) for j in range(i,10)]"
   ]
  },
  {
   "cell_type": "code",
   "execution_count": 25,
   "metadata": {},
   "outputs": [],
   "source": [
    "def vectorise_items(items):\n",
    "    item_index = {x:y for x,y in zip(range(1,10),range(0,18,2))}\n",
    "    res = {}\n",
    "    for i,item in enumerate(items):\n",
    "        item_str = str(item)\n",
    "        vect = np.zeros([18])\n",
    "        for i in item_str:\n",
    "            first_index = item_index[int(i)]\n",
    "            if(not vect[first_index]):\n",
    "                vect[first_index] = 1\n",
    "            else:\n",
    "                vect[first_index+1] = 1\n",
    "        res[item] = vect\n",
    "    res[0] = np.zeros([18])\n",
    "    return res"
   ]
  },
  {
   "cell_type": "code",
   "execution_count": 26,
   "metadata": {},
   "outputs": [],
   "source": [
    "item_vector_dict = vectorise_items(items_list)"
   ]
  },
  {
   "cell_type": "code",
   "execution_count": 27,
   "metadata": {},
   "outputs": [],
   "source": [
    "# Convert a list of items to vectors\n",
    "def item_vector_lookup(item_list, d=item_vector_dict):\n",
    "    res = []\n",
    "    for items in item_list:\n",
    "        temp_res = []\n",
    "        for item in items:\n",
    "            temp_res = temp_res + d[item].tolist()\n",
    "        res.append(temp_res)\n",
    "    return res\n"
   ]
  },
  {
   "cell_type": "code",
   "execution_count": 28,
   "metadata": {},
   "outputs": [],
   "source": [
    "one_hot_items = pd.DataFrame(item_vector_lookup(combined_df[\"items\"]) , columns = [f\"item_index{x}\" for x in range(1,55)])"
   ]
  },
  {
   "cell_type": "code",
   "execution_count": 29,
   "metadata": {},
   "outputs": [],
   "source": [
    "# add item vectors to the existing data frame\n",
    "combined_df = combined_df.join(one_hot_items)                "
   ]
  },
  {
   "cell_type": "markdown",
   "metadata": {},
   "source": [
    "## One-hot encode character_id"
   ]
  },
  {
   "cell_type": "code",
   "execution_count": 30,
   "metadata": {},
   "outputs": [],
   "source": [
    "combined_df = combined_df.join(pd.get_dummies(combined_df[\"character_id\"]))"
   ]
  },
  {
   "cell_type": "code",
   "execution_count": 31,
   "metadata": {},
   "outputs": [
    {
     "data": {
      "text/html": [
       "<div>\n",
       "<style scoped>\n",
       "    .dataframe tbody tr th:only-of-type {\n",
       "        vertical-align: middle;\n",
       "    }\n",
       "\n",
       "    .dataframe tbody tr th {\n",
       "        vertical-align: top;\n",
       "    }\n",
       "\n",
       "    .dataframe thead th {\n",
       "        text-align: right;\n",
       "    }\n",
       "</style>\n",
       "<table border=\"1\" class=\"dataframe\">\n",
       "  <thead>\n",
       "    <tr style=\"text-align: right;\">\n",
       "      <th></th>\n",
       "      <th>stage</th>\n",
       "      <th>character_id</th>\n",
       "      <th>items</th>\n",
       "      <th>gold_spent</th>\n",
       "      <th>level</th>\n",
       "      <th>active_trait</th>\n",
       "      <th>rank</th>\n",
       "      <th>item_index1</th>\n",
       "      <th>item_index2</th>\n",
       "      <th>item_index3</th>\n",
       "      <th>...</th>\n",
       "      <th>TFT3_Vi</th>\n",
       "      <th>TFT3_Viktor</th>\n",
       "      <th>TFT3_WuKong</th>\n",
       "      <th>TFT3_Xayah</th>\n",
       "      <th>TFT3_Xerath</th>\n",
       "      <th>TFT3_XinZhao</th>\n",
       "      <th>TFT3_Yasuo</th>\n",
       "      <th>TFT3_Zed</th>\n",
       "      <th>TFT3_Ziggs</th>\n",
       "      <th>TFT3_Zoe</th>\n",
       "    </tr>\n",
       "  </thead>\n",
       "  <tbody>\n",
       "    <tr>\n",
       "      <th>7831</th>\n",
       "      <td>1</td>\n",
       "      <td>TFT3_Fiora</td>\n",
       "      <td>[5, 0, 0]</td>\n",
       "      <td>3.0</td>\n",
       "      <td>1.666667</td>\n",
       "      <td>NaN</td>\n",
       "      <td>1</td>\n",
       "      <td>0.0</td>\n",
       "      <td>0.0</td>\n",
       "      <td>0.0</td>\n",
       "      <td>...</td>\n",
       "      <td>0</td>\n",
       "      <td>0</td>\n",
       "      <td>0</td>\n",
       "      <td>0</td>\n",
       "      <td>0</td>\n",
       "      <td>0</td>\n",
       "      <td>0</td>\n",
       "      <td>0</td>\n",
       "      <td>0</td>\n",
       "      <td>0</td>\n",
       "    </tr>\n",
       "    <tr>\n",
       "      <th>10222</th>\n",
       "      <td>1</td>\n",
       "      <td>TFT3_Caitlyn</td>\n",
       "      <td>[5, 0, 0]</td>\n",
       "      <td>2.0</td>\n",
       "      <td>1.666667</td>\n",
       "      <td>NaN</td>\n",
       "      <td>3</td>\n",
       "      <td>0.0</td>\n",
       "      <td>0.0</td>\n",
       "      <td>0.0</td>\n",
       "      <td>...</td>\n",
       "      <td>0</td>\n",
       "      <td>0</td>\n",
       "      <td>0</td>\n",
       "      <td>0</td>\n",
       "      <td>0</td>\n",
       "      <td>0</td>\n",
       "      <td>0</td>\n",
       "      <td>0</td>\n",
       "      <td>0</td>\n",
       "      <td>0</td>\n",
       "    </tr>\n",
       "    <tr>\n",
       "      <th>39390</th>\n",
       "      <td>1</td>\n",
       "      <td>TFT3_Poppy</td>\n",
       "      <td>[7, 0, 0]</td>\n",
       "      <td>5.0</td>\n",
       "      <td>2.000000</td>\n",
       "      <td>NaN</td>\n",
       "      <td>3</td>\n",
       "      <td>0.0</td>\n",
       "      <td>0.0</td>\n",
       "      <td>0.0</td>\n",
       "      <td>...</td>\n",
       "      <td>0</td>\n",
       "      <td>0</td>\n",
       "      <td>0</td>\n",
       "      <td>0</td>\n",
       "      <td>0</td>\n",
       "      <td>0</td>\n",
       "      <td>0</td>\n",
       "      <td>0</td>\n",
       "      <td>0</td>\n",
       "      <td>0</td>\n",
       "    </tr>\n",
       "    <tr>\n",
       "      <th>50564</th>\n",
       "      <td>1</td>\n",
       "      <td>TFT3_Ziggs</td>\n",
       "      <td>[3, 0, 0]</td>\n",
       "      <td>4.0</td>\n",
       "      <td>2.000000</td>\n",
       "      <td>NaN</td>\n",
       "      <td>5</td>\n",
       "      <td>0.0</td>\n",
       "      <td>0.0</td>\n",
       "      <td>0.0</td>\n",
       "      <td>...</td>\n",
       "      <td>0</td>\n",
       "      <td>0</td>\n",
       "      <td>0</td>\n",
       "      <td>0</td>\n",
       "      <td>0</td>\n",
       "      <td>0</td>\n",
       "      <td>0</td>\n",
       "      <td>0</td>\n",
       "      <td>1</td>\n",
       "      <td>0</td>\n",
       "    </tr>\n",
       "  </tbody>\n",
       "</table>\n",
       "<p>4 rows × 118 columns</p>\n",
       "</div>"
      ],
      "text/plain": [
       "       stage  character_id      items  gold_spent     level active_trait rank  \\\n",
       "7831       1    TFT3_Fiora  [5, 0, 0]         3.0  1.666667          NaN    1   \n",
       "10222      1  TFT3_Caitlyn  [5, 0, 0]         2.0  1.666667          NaN    3   \n",
       "39390      1    TFT3_Poppy  [7, 0, 0]         5.0  2.000000          NaN    3   \n",
       "50564      1    TFT3_Ziggs  [3, 0, 0]         4.0  2.000000          NaN    5   \n",
       "\n",
       "       item_index1  item_index2  item_index3  ...  TFT3_Vi  TFT3_Viktor  \\\n",
       "7831           0.0          0.0          0.0  ...        0            0   \n",
       "10222          0.0          0.0          0.0  ...        0            0   \n",
       "39390          0.0          0.0          0.0  ...        0            0   \n",
       "50564          0.0          0.0          0.0  ...        0            0   \n",
       "\n",
       "       TFT3_WuKong  TFT3_Xayah  TFT3_Xerath  TFT3_XinZhao  TFT3_Yasuo  \\\n",
       "7831             0           0            0             0           0   \n",
       "10222            0           0            0             0           0   \n",
       "39390            0           0            0             0           0   \n",
       "50564            0           0            0             0           0   \n",
       "\n",
       "       TFT3_Zed  TFT3_Ziggs  TFT3_Zoe  \n",
       "7831          0           0         0  \n",
       "10222         0           0         0  \n",
       "39390         0           0         0  \n",
       "50564         0           1         0  \n",
       "\n",
       "[4 rows x 118 columns]"
      ]
     },
     "execution_count": 31,
     "metadata": {},
     "output_type": "execute_result"
    }
   ],
   "source": [
    "combined_df[pd.isna(combined_df[\"active_trait\"])]"
   ]
  },
  {
   "cell_type": "markdown",
   "metadata": {},
   "source": [
    "### Fill missing active_trait values with an empty dict"
   ]
  },
  {
   "cell_type": "code",
   "execution_count": 32,
   "metadata": {},
   "outputs": [],
   "source": [
    "combined_df[\"active_trait\"] = combined_df[\"active_trait\"].where(combined_df[\"active_trait\"].notna(), lambda x: [{}])"
   ]
  },
  {
   "cell_type": "markdown",
   "metadata": {},
   "source": [
    "## Vectorise active_trait column in combined_df"
   ]
  },
  {
   "cell_type": "code",
   "execution_count": 33,
   "metadata": {},
   "outputs": [],
   "source": [
    "with open('full_mapping.json') as json_data:\n",
    "    fullmap = json.load(json_data)"
   ]
  },
  {
   "cell_type": "code",
   "execution_count": 34,
   "metadata": {},
   "outputs": [],
   "source": [
    "traits_list = pd.DataFrame(fullmap['trait_active_mapping_json'].items())[0].to_numpy()"
   ]
  },
  {
   "cell_type": "code",
   "execution_count": 35,
   "metadata": {},
   "outputs": [
    {
     "data": {
      "text/plain": [
       "{'Blademaster': 1, 'Cybernetic': 1, 'Protector': 1, 'DarkStar': 1}"
      ]
     },
     "execution_count": 35,
     "metadata": {},
     "output_type": "execute_result"
    }
   ],
   "source": [
    "active_traits = combined_df[\"active_trait\"][0]\n",
    "active_traits"
   ]
  },
  {
   "cell_type": "code",
   "execution_count": 36,
   "metadata": {},
   "outputs": [],
   "source": [
    "temp_list = combined_df[\"active_trait\"].to_list()\n",
    "v = DictVectorizer(sparse=False)\n",
    "x = v.fit_transform( combined_df[\"active_trait\"])\n",
    "combined_df = combined_df.join(pd.DataFrame(x, columns=v.get_feature_names()))"
   ]
  },
  {
   "cell_type": "code",
   "execution_count": 37,
   "metadata": {},
   "outputs": [
    {
     "data": {
      "text/html": [
       "<div>\n",
       "<style scoped>\n",
       "    .dataframe tbody tr th:only-of-type {\n",
       "        vertical-align: middle;\n",
       "    }\n",
       "\n",
       "    .dataframe tbody tr th {\n",
       "        vertical-align: top;\n",
       "    }\n",
       "\n",
       "    .dataframe thead th {\n",
       "        text-align: right;\n",
       "    }\n",
       "</style>\n",
       "<table border=\"1\" class=\"dataframe\">\n",
       "  <thead>\n",
       "    <tr style=\"text-align: right;\">\n",
       "      <th></th>\n",
       "      <th>stage</th>\n",
       "      <th>character_id</th>\n",
       "      <th>items</th>\n",
       "      <th>gold_spent</th>\n",
       "      <th>level</th>\n",
       "      <th>active_trait</th>\n",
       "      <th>rank</th>\n",
       "      <th>item_index1</th>\n",
       "      <th>item_index2</th>\n",
       "      <th>item_index3</th>\n",
       "      <th>...</th>\n",
       "      <th>Mystic</th>\n",
       "      <th>Paragon</th>\n",
       "      <th>Protector</th>\n",
       "      <th>Rebel</th>\n",
       "      <th>Sniper</th>\n",
       "      <th>Sorcerer</th>\n",
       "      <th>SpacePirate</th>\n",
       "      <th>StarGuardian</th>\n",
       "      <th>Starship</th>\n",
       "      <th>Vanguard</th>\n",
       "    </tr>\n",
       "  </thead>\n",
       "  <tbody>\n",
       "    <tr>\n",
       "      <th>0</th>\n",
       "      <td>1</td>\n",
       "      <td>TFT3_Fiora</td>\n",
       "      <td>[0.0, 0.0, 0.0]</td>\n",
       "      <td>4.0</td>\n",
       "      <td>2.000000</td>\n",
       "      <td>{'Blademaster': 1, 'Cybernetic': 1, 'Protector...</td>\n",
       "      <td>4</td>\n",
       "      <td>0.0</td>\n",
       "      <td>0.0</td>\n",
       "      <td>0.0</td>\n",
       "      <td>...</td>\n",
       "      <td>0.0</td>\n",
       "      <td>0.0</td>\n",
       "      <td>1.0</td>\n",
       "      <td>0.0</td>\n",
       "      <td>0.0</td>\n",
       "      <td>0.0</td>\n",
       "      <td>0.0</td>\n",
       "      <td>0.0</td>\n",
       "      <td>0.0</td>\n",
       "      <td>0.0</td>\n",
       "    </tr>\n",
       "    <tr>\n",
       "      <th>1</th>\n",
       "      <td>1</td>\n",
       "      <td>TFT3_JarvanIV</td>\n",
       "      <td>[0.0, 0.0, 0.0]</td>\n",
       "      <td>4.0</td>\n",
       "      <td>2.000000</td>\n",
       "      <td>{'Blademaster': 1, 'Cybernetic': 1, 'Protector...</td>\n",
       "      <td>4</td>\n",
       "      <td>0.0</td>\n",
       "      <td>0.0</td>\n",
       "      <td>0.0</td>\n",
       "      <td>...</td>\n",
       "      <td>0.0</td>\n",
       "      <td>0.0</td>\n",
       "      <td>1.0</td>\n",
       "      <td>0.0</td>\n",
       "      <td>0.0</td>\n",
       "      <td>0.0</td>\n",
       "      <td>0.0</td>\n",
       "      <td>0.0</td>\n",
       "      <td>0.0</td>\n",
       "      <td>0.0</td>\n",
       "    </tr>\n",
       "    <tr>\n",
       "      <th>2</th>\n",
       "      <td>2</td>\n",
       "      <td>TFT3_Xayah</td>\n",
       "      <td>[19, 0, 0]</td>\n",
       "      <td>20.0</td>\n",
       "      <td>4.166667</td>\n",
       "      <td>{'Blademaster': 1, 'Celestial': 2, 'Mystic': 1...</td>\n",
       "      <td>4</td>\n",
       "      <td>1.0</td>\n",
       "      <td>0.0</td>\n",
       "      <td>0.0</td>\n",
       "      <td>...</td>\n",
       "      <td>1.0</td>\n",
       "      <td>0.0</td>\n",
       "      <td>2.0</td>\n",
       "      <td>0.0</td>\n",
       "      <td>0.0</td>\n",
       "      <td>0.0</td>\n",
       "      <td>0.0</td>\n",
       "      <td>0.0</td>\n",
       "      <td>0.0</td>\n",
       "      <td>1.0</td>\n",
       "    </tr>\n",
       "    <tr>\n",
       "      <th>3</th>\n",
       "      <td>2</td>\n",
       "      <td>TFT3_Karma</td>\n",
       "      <td>[0.0, 0.0, 0.0]</td>\n",
       "      <td>20.0</td>\n",
       "      <td>4.166667</td>\n",
       "      <td>{'Blademaster': 1, 'Celestial': 2, 'Mystic': 1...</td>\n",
       "      <td>4</td>\n",
       "      <td>0.0</td>\n",
       "      <td>0.0</td>\n",
       "      <td>0.0</td>\n",
       "      <td>...</td>\n",
       "      <td>1.0</td>\n",
       "      <td>0.0</td>\n",
       "      <td>2.0</td>\n",
       "      <td>0.0</td>\n",
       "      <td>0.0</td>\n",
       "      <td>0.0</td>\n",
       "      <td>0.0</td>\n",
       "      <td>0.0</td>\n",
       "      <td>0.0</td>\n",
       "      <td>1.0</td>\n",
       "    </tr>\n",
       "    <tr>\n",
       "      <th>4</th>\n",
       "      <td>2</td>\n",
       "      <td>TFT3_XinZhao</td>\n",
       "      <td>[0.0, 0.0, 0.0]</td>\n",
       "      <td>20.0</td>\n",
       "      <td>4.166667</td>\n",
       "      <td>{'Blademaster': 1, 'Celestial': 2, 'Mystic': 1...</td>\n",
       "      <td>4</td>\n",
       "      <td>0.0</td>\n",
       "      <td>0.0</td>\n",
       "      <td>0.0</td>\n",
       "      <td>...</td>\n",
       "      <td>1.0</td>\n",
       "      <td>0.0</td>\n",
       "      <td>2.0</td>\n",
       "      <td>0.0</td>\n",
       "      <td>0.0</td>\n",
       "      <td>0.0</td>\n",
       "      <td>0.0</td>\n",
       "      <td>0.0</td>\n",
       "      <td>0.0</td>\n",
       "      <td>1.0</td>\n",
       "    </tr>\n",
       "  </tbody>\n",
       "</table>\n",
       "<p>5 rows × 142 columns</p>\n",
       "</div>"
      ],
      "text/plain": [
       "   stage   character_id            items  gold_spent     level  \\\n",
       "0      1     TFT3_Fiora  [0.0, 0.0, 0.0]         4.0  2.000000   \n",
       "1      1  TFT3_JarvanIV  [0.0, 0.0, 0.0]         4.0  2.000000   \n",
       "2      2     TFT3_Xayah       [19, 0, 0]        20.0  4.166667   \n",
       "3      2     TFT3_Karma  [0.0, 0.0, 0.0]        20.0  4.166667   \n",
       "4      2   TFT3_XinZhao  [0.0, 0.0, 0.0]        20.0  4.166667   \n",
       "\n",
       "                                        active_trait rank  item_index1  \\\n",
       "0  {'Blademaster': 1, 'Cybernetic': 1, 'Protector...    4          0.0   \n",
       "1  {'Blademaster': 1, 'Cybernetic': 1, 'Protector...    4          0.0   \n",
       "2  {'Blademaster': 1, 'Celestial': 2, 'Mystic': 1...    4          1.0   \n",
       "3  {'Blademaster': 1, 'Celestial': 2, 'Mystic': 1...    4          0.0   \n",
       "4  {'Blademaster': 1, 'Celestial': 2, 'Mystic': 1...    4          0.0   \n",
       "\n",
       "   item_index2  item_index3  ...  Mystic  Paragon  Protector  Rebel  Sniper  \\\n",
       "0          0.0          0.0  ...     0.0      0.0        1.0    0.0     0.0   \n",
       "1          0.0          0.0  ...     0.0      0.0        1.0    0.0     0.0   \n",
       "2          0.0          0.0  ...     1.0      0.0        2.0    0.0     0.0   \n",
       "3          0.0          0.0  ...     1.0      0.0        2.0    0.0     0.0   \n",
       "4          0.0          0.0  ...     1.0      0.0        2.0    0.0     0.0   \n",
       "\n",
       "   Sorcerer  SpacePirate  StarGuardian  Starship  Vanguard  \n",
       "0       0.0          0.0           0.0       0.0       0.0  \n",
       "1       0.0          0.0           0.0       0.0       0.0  \n",
       "2       0.0          0.0           0.0       0.0       1.0  \n",
       "3       0.0          0.0           0.0       0.0       1.0  \n",
       "4       0.0          0.0           0.0       0.0       1.0  \n",
       "\n",
       "[5 rows x 142 columns]"
      ]
     },
     "execution_count": 37,
     "metadata": {},
     "output_type": "execute_result"
    }
   ],
   "source": [
    "combined_df.head()"
   ]
  },
  {
   "cell_type": "code",
   "execution_count": 38,
   "metadata": {},
   "outputs": [],
   "source": [
    "combined_df = combined_df.drop(columns=[\"character_id\",\"items\",\"active_trait\"])"
   ]
  },
  {
   "cell_type": "code",
   "execution_count": 39,
   "metadata": {},
   "outputs": [
    {
     "data": {
      "text/html": [
       "<div>\n",
       "<style scoped>\n",
       "    .dataframe tbody tr th:only-of-type {\n",
       "        vertical-align: middle;\n",
       "    }\n",
       "\n",
       "    .dataframe tbody tr th {\n",
       "        vertical-align: top;\n",
       "    }\n",
       "\n",
       "    .dataframe thead th {\n",
       "        text-align: right;\n",
       "    }\n",
       "</style>\n",
       "<table border=\"1\" class=\"dataframe\">\n",
       "  <thead>\n",
       "    <tr style=\"text-align: right;\">\n",
       "      <th></th>\n",
       "      <th>stage</th>\n",
       "      <th>gold_spent</th>\n",
       "      <th>level</th>\n",
       "      <th>rank</th>\n",
       "      <th>item_index1</th>\n",
       "      <th>item_index2</th>\n",
       "      <th>item_index3</th>\n",
       "      <th>item_index4</th>\n",
       "      <th>item_index5</th>\n",
       "      <th>item_index6</th>\n",
       "      <th>...</th>\n",
       "      <th>Mystic</th>\n",
       "      <th>Paragon</th>\n",
       "      <th>Protector</th>\n",
       "      <th>Rebel</th>\n",
       "      <th>Sniper</th>\n",
       "      <th>Sorcerer</th>\n",
       "      <th>SpacePirate</th>\n",
       "      <th>StarGuardian</th>\n",
       "      <th>Starship</th>\n",
       "      <th>Vanguard</th>\n",
       "    </tr>\n",
       "  </thead>\n",
       "  <tbody>\n",
       "    <tr>\n",
       "      <th>0</th>\n",
       "      <td>1</td>\n",
       "      <td>4.0</td>\n",
       "      <td>2.000000</td>\n",
       "      <td>4</td>\n",
       "      <td>0.0</td>\n",
       "      <td>0.0</td>\n",
       "      <td>0.0</td>\n",
       "      <td>0.0</td>\n",
       "      <td>0.0</td>\n",
       "      <td>0.0</td>\n",
       "      <td>...</td>\n",
       "      <td>0.0</td>\n",
       "      <td>0.0</td>\n",
       "      <td>1.0</td>\n",
       "      <td>0.0</td>\n",
       "      <td>0.0</td>\n",
       "      <td>0.0</td>\n",
       "      <td>0.0</td>\n",
       "      <td>0.0</td>\n",
       "      <td>0.0</td>\n",
       "      <td>0.0</td>\n",
       "    </tr>\n",
       "    <tr>\n",
       "      <th>1</th>\n",
       "      <td>1</td>\n",
       "      <td>4.0</td>\n",
       "      <td>2.000000</td>\n",
       "      <td>4</td>\n",
       "      <td>0.0</td>\n",
       "      <td>0.0</td>\n",
       "      <td>0.0</td>\n",
       "      <td>0.0</td>\n",
       "      <td>0.0</td>\n",
       "      <td>0.0</td>\n",
       "      <td>...</td>\n",
       "      <td>0.0</td>\n",
       "      <td>0.0</td>\n",
       "      <td>1.0</td>\n",
       "      <td>0.0</td>\n",
       "      <td>0.0</td>\n",
       "      <td>0.0</td>\n",
       "      <td>0.0</td>\n",
       "      <td>0.0</td>\n",
       "      <td>0.0</td>\n",
       "      <td>0.0</td>\n",
       "    </tr>\n",
       "    <tr>\n",
       "      <th>2</th>\n",
       "      <td>2</td>\n",
       "      <td>20.0</td>\n",
       "      <td>4.166667</td>\n",
       "      <td>4</td>\n",
       "      <td>1.0</td>\n",
       "      <td>0.0</td>\n",
       "      <td>0.0</td>\n",
       "      <td>0.0</td>\n",
       "      <td>0.0</td>\n",
       "      <td>0.0</td>\n",
       "      <td>...</td>\n",
       "      <td>1.0</td>\n",
       "      <td>0.0</td>\n",
       "      <td>2.0</td>\n",
       "      <td>0.0</td>\n",
       "      <td>0.0</td>\n",
       "      <td>0.0</td>\n",
       "      <td>0.0</td>\n",
       "      <td>0.0</td>\n",
       "      <td>0.0</td>\n",
       "      <td>1.0</td>\n",
       "    </tr>\n",
       "    <tr>\n",
       "      <th>3</th>\n",
       "      <td>2</td>\n",
       "      <td>20.0</td>\n",
       "      <td>4.166667</td>\n",
       "      <td>4</td>\n",
       "      <td>0.0</td>\n",
       "      <td>0.0</td>\n",
       "      <td>0.0</td>\n",
       "      <td>0.0</td>\n",
       "      <td>0.0</td>\n",
       "      <td>0.0</td>\n",
       "      <td>...</td>\n",
       "      <td>1.0</td>\n",
       "      <td>0.0</td>\n",
       "      <td>2.0</td>\n",
       "      <td>0.0</td>\n",
       "      <td>0.0</td>\n",
       "      <td>0.0</td>\n",
       "      <td>0.0</td>\n",
       "      <td>0.0</td>\n",
       "      <td>0.0</td>\n",
       "      <td>1.0</td>\n",
       "    </tr>\n",
       "    <tr>\n",
       "      <th>4</th>\n",
       "      <td>2</td>\n",
       "      <td>20.0</td>\n",
       "      <td>4.166667</td>\n",
       "      <td>4</td>\n",
       "      <td>0.0</td>\n",
       "      <td>0.0</td>\n",
       "      <td>0.0</td>\n",
       "      <td>0.0</td>\n",
       "      <td>0.0</td>\n",
       "      <td>0.0</td>\n",
       "      <td>...</td>\n",
       "      <td>1.0</td>\n",
       "      <td>0.0</td>\n",
       "      <td>2.0</td>\n",
       "      <td>0.0</td>\n",
       "      <td>0.0</td>\n",
       "      <td>0.0</td>\n",
       "      <td>0.0</td>\n",
       "      <td>0.0</td>\n",
       "      <td>0.0</td>\n",
       "      <td>1.0</td>\n",
       "    </tr>\n",
       "  </tbody>\n",
       "</table>\n",
       "<p>5 rows × 139 columns</p>\n",
       "</div>"
      ],
      "text/plain": [
       "   stage  gold_spent     level rank  item_index1  item_index2  item_index3  \\\n",
       "0      1         4.0  2.000000    4          0.0          0.0          0.0   \n",
       "1      1         4.0  2.000000    4          0.0          0.0          0.0   \n",
       "2      2        20.0  4.166667    4          1.0          0.0          0.0   \n",
       "3      2        20.0  4.166667    4          0.0          0.0          0.0   \n",
       "4      2        20.0  4.166667    4          0.0          0.0          0.0   \n",
       "\n",
       "   item_index4  item_index5  item_index6  ...  Mystic  Paragon  Protector  \\\n",
       "0          0.0          0.0          0.0  ...     0.0      0.0        1.0   \n",
       "1          0.0          0.0          0.0  ...     0.0      0.0        1.0   \n",
       "2          0.0          0.0          0.0  ...     1.0      0.0        2.0   \n",
       "3          0.0          0.0          0.0  ...     1.0      0.0        2.0   \n",
       "4          0.0          0.0          0.0  ...     1.0      0.0        2.0   \n",
       "\n",
       "   Rebel  Sniper  Sorcerer  SpacePirate  StarGuardian  Starship  Vanguard  \n",
       "0    0.0     0.0       0.0          0.0           0.0       0.0       0.0  \n",
       "1    0.0     0.0       0.0          0.0           0.0       0.0       0.0  \n",
       "2    0.0     0.0       0.0          0.0           0.0       0.0       1.0  \n",
       "3    0.0     0.0       0.0          0.0           0.0       0.0       1.0  \n",
       "4    0.0     0.0       0.0          0.0           0.0       0.0       1.0  \n",
       "\n",
       "[5 rows x 139 columns]"
      ]
     },
     "execution_count": 39,
     "metadata": {},
     "output_type": "execute_result"
    }
   ],
   "source": [
    "combined_df.head()"
   ]
  },
  {
   "cell_type": "markdown",
   "metadata": {},
   "source": [
    "### Create training and test sets"
   ]
  },
  {
   "cell_type": "code",
   "execution_count": 40,
   "metadata": {},
   "outputs": [],
   "source": [
    "index_X = list(chain(range(3),range(4,combined_df.shape[1])))\n",
    "X = combined_df.iloc[:,index_X]\n",
    "Y = combined_df.iloc[:,3]"
   ]
  },
  {
   "cell_type": "code",
   "execution_count": 41,
   "metadata": {},
   "outputs": [
    {
     "data": {
      "text/html": [
       "<div>\n",
       "<style scoped>\n",
       "    .dataframe tbody tr th:only-of-type {\n",
       "        vertical-align: middle;\n",
       "    }\n",
       "\n",
       "    .dataframe tbody tr th {\n",
       "        vertical-align: top;\n",
       "    }\n",
       "\n",
       "    .dataframe thead th {\n",
       "        text-align: right;\n",
       "    }\n",
       "</style>\n",
       "<table border=\"1\" class=\"dataframe\">\n",
       "  <thead>\n",
       "    <tr style=\"text-align: right;\">\n",
       "      <th></th>\n",
       "      <th>stage</th>\n",
       "      <th>gold_spent</th>\n",
       "      <th>level</th>\n",
       "      <th>item_index1</th>\n",
       "      <th>item_index2</th>\n",
       "      <th>item_index3</th>\n",
       "      <th>item_index4</th>\n",
       "      <th>item_index5</th>\n",
       "      <th>item_index6</th>\n",
       "      <th>item_index7</th>\n",
       "      <th>...</th>\n",
       "      <th>Mystic</th>\n",
       "      <th>Paragon</th>\n",
       "      <th>Protector</th>\n",
       "      <th>Rebel</th>\n",
       "      <th>Sniper</th>\n",
       "      <th>Sorcerer</th>\n",
       "      <th>SpacePirate</th>\n",
       "      <th>StarGuardian</th>\n",
       "      <th>Starship</th>\n",
       "      <th>Vanguard</th>\n",
       "    </tr>\n",
       "  </thead>\n",
       "  <tbody>\n",
       "    <tr>\n",
       "      <th>0</th>\n",
       "      <td>1</td>\n",
       "      <td>4.0</td>\n",
       "      <td>2.000000</td>\n",
       "      <td>0.0</td>\n",
       "      <td>0.0</td>\n",
       "      <td>0.0</td>\n",
       "      <td>0.0</td>\n",
       "      <td>0.0</td>\n",
       "      <td>0.0</td>\n",
       "      <td>0.0</td>\n",
       "      <td>...</td>\n",
       "      <td>0.0</td>\n",
       "      <td>0.0</td>\n",
       "      <td>1.0</td>\n",
       "      <td>0.0</td>\n",
       "      <td>0.0</td>\n",
       "      <td>0.0</td>\n",
       "      <td>0.0</td>\n",
       "      <td>0.0</td>\n",
       "      <td>0.0</td>\n",
       "      <td>0.0</td>\n",
       "    </tr>\n",
       "    <tr>\n",
       "      <th>1</th>\n",
       "      <td>1</td>\n",
       "      <td>4.0</td>\n",
       "      <td>2.000000</td>\n",
       "      <td>0.0</td>\n",
       "      <td>0.0</td>\n",
       "      <td>0.0</td>\n",
       "      <td>0.0</td>\n",
       "      <td>0.0</td>\n",
       "      <td>0.0</td>\n",
       "      <td>0.0</td>\n",
       "      <td>...</td>\n",
       "      <td>0.0</td>\n",
       "      <td>0.0</td>\n",
       "      <td>1.0</td>\n",
       "      <td>0.0</td>\n",
       "      <td>0.0</td>\n",
       "      <td>0.0</td>\n",
       "      <td>0.0</td>\n",
       "      <td>0.0</td>\n",
       "      <td>0.0</td>\n",
       "      <td>0.0</td>\n",
       "    </tr>\n",
       "    <tr>\n",
       "      <th>2</th>\n",
       "      <td>2</td>\n",
       "      <td>20.0</td>\n",
       "      <td>4.166667</td>\n",
       "      <td>1.0</td>\n",
       "      <td>0.0</td>\n",
       "      <td>0.0</td>\n",
       "      <td>0.0</td>\n",
       "      <td>0.0</td>\n",
       "      <td>0.0</td>\n",
       "      <td>0.0</td>\n",
       "      <td>...</td>\n",
       "      <td>1.0</td>\n",
       "      <td>0.0</td>\n",
       "      <td>2.0</td>\n",
       "      <td>0.0</td>\n",
       "      <td>0.0</td>\n",
       "      <td>0.0</td>\n",
       "      <td>0.0</td>\n",
       "      <td>0.0</td>\n",
       "      <td>0.0</td>\n",
       "      <td>1.0</td>\n",
       "    </tr>\n",
       "    <tr>\n",
       "      <th>3</th>\n",
       "      <td>2</td>\n",
       "      <td>20.0</td>\n",
       "      <td>4.166667</td>\n",
       "      <td>0.0</td>\n",
       "      <td>0.0</td>\n",
       "      <td>0.0</td>\n",
       "      <td>0.0</td>\n",
       "      <td>0.0</td>\n",
       "      <td>0.0</td>\n",
       "      <td>0.0</td>\n",
       "      <td>...</td>\n",
       "      <td>1.0</td>\n",
       "      <td>0.0</td>\n",
       "      <td>2.0</td>\n",
       "      <td>0.0</td>\n",
       "      <td>0.0</td>\n",
       "      <td>0.0</td>\n",
       "      <td>0.0</td>\n",
       "      <td>0.0</td>\n",
       "      <td>0.0</td>\n",
       "      <td>1.0</td>\n",
       "    </tr>\n",
       "    <tr>\n",
       "      <th>4</th>\n",
       "      <td>2</td>\n",
       "      <td>20.0</td>\n",
       "      <td>4.166667</td>\n",
       "      <td>0.0</td>\n",
       "      <td>0.0</td>\n",
       "      <td>0.0</td>\n",
       "      <td>0.0</td>\n",
       "      <td>0.0</td>\n",
       "      <td>0.0</td>\n",
       "      <td>0.0</td>\n",
       "      <td>...</td>\n",
       "      <td>1.0</td>\n",
       "      <td>0.0</td>\n",
       "      <td>2.0</td>\n",
       "      <td>0.0</td>\n",
       "      <td>0.0</td>\n",
       "      <td>0.0</td>\n",
       "      <td>0.0</td>\n",
       "      <td>0.0</td>\n",
       "      <td>0.0</td>\n",
       "      <td>1.0</td>\n",
       "    </tr>\n",
       "  </tbody>\n",
       "</table>\n",
       "<p>5 rows × 138 columns</p>\n",
       "</div>"
      ],
      "text/plain": [
       "   stage  gold_spent     level  item_index1  item_index2  item_index3  \\\n",
       "0      1         4.0  2.000000          0.0          0.0          0.0   \n",
       "1      1         4.0  2.000000          0.0          0.0          0.0   \n",
       "2      2        20.0  4.166667          1.0          0.0          0.0   \n",
       "3      2        20.0  4.166667          0.0          0.0          0.0   \n",
       "4      2        20.0  4.166667          0.0          0.0          0.0   \n",
       "\n",
       "   item_index4  item_index5  item_index6  item_index7  ...  Mystic  Paragon  \\\n",
       "0          0.0          0.0          0.0          0.0  ...     0.0      0.0   \n",
       "1          0.0          0.0          0.0          0.0  ...     0.0      0.0   \n",
       "2          0.0          0.0          0.0          0.0  ...     1.0      0.0   \n",
       "3          0.0          0.0          0.0          0.0  ...     1.0      0.0   \n",
       "4          0.0          0.0          0.0          0.0  ...     1.0      0.0   \n",
       "\n",
       "   Protector  Rebel  Sniper  Sorcerer  SpacePirate  StarGuardian  Starship  \\\n",
       "0        1.0    0.0     0.0       0.0          0.0           0.0       0.0   \n",
       "1        1.0    0.0     0.0       0.0          0.0           0.0       0.0   \n",
       "2        2.0    0.0     0.0       0.0          0.0           0.0       0.0   \n",
       "3        2.0    0.0     0.0       0.0          0.0           0.0       0.0   \n",
       "4        2.0    0.0     0.0       0.0          0.0           0.0       0.0   \n",
       "\n",
       "   Vanguard  \n",
       "0       0.0  \n",
       "1       0.0  \n",
       "2       1.0  \n",
       "3       1.0  \n",
       "4       1.0  \n",
       "\n",
       "[5 rows x 138 columns]"
      ]
     },
     "execution_count": 41,
     "metadata": {},
     "output_type": "execute_result"
    }
   ],
   "source": [
    "X.head()"
   ]
  },
  {
   "cell_type": "code",
   "execution_count": 42,
   "metadata": {},
   "outputs": [
    {
     "data": {
      "text/plain": [
       "0    4\n",
       "1    4\n",
       "2    4\n",
       "3    4\n",
       "4    4\n",
       "Name: rank, dtype: object"
      ]
     },
     "execution_count": 42,
     "metadata": {},
     "output_type": "execute_result"
    }
   ],
   "source": [
    "Y.head()"
   ]
  },
  {
   "cell_type": "code",
   "execution_count": 43,
   "metadata": {},
   "outputs": [],
   "source": [
    "train_x, test_x, train_y, test_y = train_test_split(X,Y,test_size=0.2)"
   ]
  },
  {
   "cell_type": "markdown",
   "metadata": {},
   "source": [
    "## Create and run Random Forest Regressor to predict rank"
   ]
  },
  {
   "cell_type": "code",
   "execution_count": 44,
   "metadata": {},
   "outputs": [],
   "source": [
    "reg = RandomForestRegressor(n_jobs=-1)"
   ]
  },
  {
   "cell_type": "code",
   "execution_count": 45,
   "metadata": {},
   "outputs": [
    {
     "data": {
      "text/plain": [
       "RandomForestRegressor(n_jobs=-1)"
      ]
     },
     "execution_count": 45,
     "metadata": {},
     "output_type": "execute_result"
    }
   ],
   "source": [
    "reg.fit(train_x,train_y)"
   ]
  },
  {
   "cell_type": "code",
   "execution_count": 46,
   "metadata": {},
   "outputs": [],
   "source": [
    "pred_y = reg.predict(test_x)"
   ]
  },
  {
   "cell_type": "code",
   "execution_count": 47,
   "metadata": {},
   "outputs": [
    {
     "data": {
      "text/plain": [
       "0.4027473105733982"
      ]
     },
     "execution_count": 47,
     "metadata": {},
     "output_type": "execute_result"
    }
   ],
   "source": [
    "mean_squared_error(test_y,pred_y)"
   ]
  },
  {
   "cell_type": "code",
   "execution_count": 48,
   "metadata": {},
   "outputs": [
    {
     "data": {
      "text/plain": [
       "0.1905604719764012"
      ]
     },
     "execution_count": 48,
     "metadata": {},
     "output_type": "execute_result"
    }
   ],
   "source": [
    "mean_absolute_error(test_y,np.round(pred_y))"
   ]
  },
  {
   "cell_type": "code",
   "execution_count": 49,
   "metadata": {},
   "outputs": [],
   "source": [
    "def rank_accuracy(true,pred):\n",
    "    return np.sum([x == y for x,y in zip(true,pred)])/true.shape[0]"
   ]
  },
  {
   "cell_type": "markdown",
   "metadata": {},
   "source": [
    "### Accuracy of Random Forest regressor"
   ]
  },
  {
   "cell_type": "code",
   "execution_count": 50,
   "metadata": {},
   "outputs": [
    {
     "data": {
      "text/plain": [
       "0.8783185840707964"
      ]
     },
     "execution_count": 50,
     "metadata": {},
     "output_type": "execute_result"
    }
   ],
   "source": [
    "rank_accuracy(test_y.astype(int), np.round(pred_y).astype(int))"
   ]
  },
  {
   "cell_type": "markdown",
   "metadata": {},
   "source": [
    "## Create and run Random Forest Classifier to predict top 4"
   ]
  },
  {
   "cell_type": "code",
   "execution_count": 51,
   "metadata": {},
   "outputs": [],
   "source": [
    "test_y_top_4 = np.where(test_y.astype('int') <= 4, 1, 0)"
   ]
  },
  {
   "cell_type": "code",
   "execution_count": 52,
   "metadata": {},
   "outputs": [],
   "source": [
    "train_y_top_4 = np.where(train_y.astype('int') <= 4, 1, 0)"
   ]
  },
  {
   "cell_type": "code",
   "execution_count": 53,
   "metadata": {},
   "outputs": [],
   "source": [
    "clf_top_4 = RandomForestClassifier(n_jobs=-1)"
   ]
  },
  {
   "cell_type": "code",
   "execution_count": 54,
   "metadata": {},
   "outputs": [
    {
     "data": {
      "text/plain": [
       "RandomForestClassifier(n_jobs=-1)"
      ]
     },
     "execution_count": 54,
     "metadata": {},
     "output_type": "execute_result"
    }
   ],
   "source": [
    "clf_top_4.fit(train_x,train_y_top_4)"
   ]
  },
  {
   "cell_type": "code",
   "execution_count": 55,
   "metadata": {},
   "outputs": [],
   "source": [
    "pred_y_top_4 = clf_top_4.predict(test_x)"
   ]
  },
  {
   "cell_type": "code",
   "execution_count": 56,
   "metadata": {},
   "outputs": [
    {
     "data": {
      "text/plain": [
       "0.9480825958702065"
      ]
     },
     "execution_count": 56,
     "metadata": {},
     "output_type": "execute_result"
    }
   ],
   "source": [
    "accuracy_score(test_y_top_4, pred_y_top_4)"
   ]
  },
  {
   "cell_type": "code",
   "execution_count": 57,
   "metadata": {},
   "outputs": [],
   "source": [
    "def runRF(df, rfr):\n",
    "    i = 0\n",
    "    res = []\n",
    "    for i in range(len(char_item_dict)):\n",
    "        for stage,comp in char_item_dict[i].items():\n",
    "            for char in comp:\n",
    "                res.append({\"stage\" : stage, \"character_id\" : char['character_id'], \"items\" : char[\"items\"], \\\n",
    "                    \"gold_spent\" : gold_df.iloc[i][stage], \"level\" : level_df.iloc[i][stage], \\\n",
    "                    \"active_trait\" : active_trait_df.iloc[i][str(stage)], \"rank\" : df.player.iloc[i][\"final\"][\"placement\"][\"rank\"]})\n",
    "    \n",
    "    combined_df = pd.DataFrame(res)\n",
    "    # Pad item array with zeroes\n",
    "    combined_df[\"items\"] = combined_df[\"items\"].apply(lambda x: np.pad(i := np.asarray(x), (0,3-len(i))))\n",
    "    \n",
    "    one_hot_items = pd.DataFrame(item_vector_lookup(combined_df[\"items\"]) , columns = [f\"item_index{x}\" for x in range(1,55)])\n",
    "    \n",
    "    combined_df = combined_df.join(one_hot_items)   \n",
    "    \n",
    "    combined_df = combined_df.join(pd.get_dummies(combined_df[\"character_id\"]))\n",
    "    \n",
    "    combined_df[pd.isna(combined_df[\"active_trait\"])]\n",
    "    \n",
    "    combined_df[\"active_trait\"] = combined_df[\"active_trait\"].where(combined_df[\"active_trait\"].notna(), lambda x: [{}])\n",
    "    # Vectorise active_trait column in combined_df\n",
    "    temp_list = combined_df[\"active_trait\"].to_list()\n",
    "    v = DictVectorizer(sparse=False)\n",
    "    x = v.fit_transform( combined_df[\"active_trait\"])\n",
    "    combined_df = combined_df.join(pd.DataFrame(x, columns=v.get_feature_names()))\n",
    "    combined_df = combined_df.drop(columns=[\"character_id\",\"items\",\"active_trait\"])\n",
    "    \n",
    "    index_X = list(chain(range(3),range(4,combined_df.shape[1])))\n",
    "    X = combined_df.iloc[:,index_X]\n",
    "    Y = combined_df.iloc[:,3]\n",
    "    \n",
    "    rfr.fit(X,Y)\n",
    "    #clf.n_estimators += 50"
   ]
  },
  {
   "cell_type": "code",
   "execution_count": 58,
   "metadata": {},
   "outputs": [
    {
     "name": "stdout",
     "output_type": "stream",
     "text": [
      "Current i = 10\n",
      "Current i = 20\n"
     ]
    },
    {
     "name": "stderr",
     "output_type": "stream",
     "text": [
      "C:\\Users\\Brandon\\anaconda3\\lib\\site-packages\\sklearn\\ensemble\\_forest.py:368: UserWarning: Warm-start fitting without increasing n_estimators does not fit new trees.\n",
      "  warn(\"Warm-start fitting without increasing n_estimators does not \"\n"
     ]
    },
    {
     "name": "stdout",
     "output_type": "stream",
     "text": [
      "Current i = 30\n"
     ]
    },
    {
     "name": "stderr",
     "output_type": "stream",
     "text": [
      "C:\\Users\\Brandon\\anaconda3\\lib\\site-packages\\sklearn\\ensemble\\_forest.py:368: UserWarning: Warm-start fitting without increasing n_estimators does not fit new trees.\n",
      "  warn(\"Warm-start fitting without increasing n_estimators does not \"\n"
     ]
    },
    {
     "name": "stdout",
     "output_type": "stream",
     "text": [
      "Current i = 40\n"
     ]
    },
    {
     "name": "stderr",
     "output_type": "stream",
     "text": [
      "C:\\Users\\Brandon\\anaconda3\\lib\\site-packages\\sklearn\\ensemble\\_forest.py:368: UserWarning: Warm-start fitting without increasing n_estimators does not fit new trees.\n",
      "  warn(\"Warm-start fitting without increasing n_estimators does not \"\n"
     ]
    },
    {
     "name": "stdout",
     "output_type": "stream",
     "text": [
      "Current i = 50\n"
     ]
    },
    {
     "name": "stderr",
     "output_type": "stream",
     "text": [
      "C:\\Users\\Brandon\\anaconda3\\lib\\site-packages\\sklearn\\ensemble\\_forest.py:368: UserWarning: Warm-start fitting without increasing n_estimators does not fit new trees.\n",
      "  warn(\"Warm-start fitting without increasing n_estimators does not \"\n"
     ]
    },
    {
     "name": "stdout",
     "output_type": "stream",
     "text": [
      "Current i = 60\n"
     ]
    },
    {
     "name": "stderr",
     "output_type": "stream",
     "text": [
      "C:\\Users\\Brandon\\anaconda3\\lib\\site-packages\\sklearn\\ensemble\\_forest.py:368: UserWarning: Warm-start fitting without increasing n_estimators does not fit new trees.\n",
      "  warn(\"Warm-start fitting without increasing n_estimators does not \"\n"
     ]
    },
    {
     "name": "stdout",
     "output_type": "stream",
     "text": [
      "Current i = 70\n"
     ]
    },
    {
     "name": "stderr",
     "output_type": "stream",
     "text": [
      "C:\\Users\\Brandon\\anaconda3\\lib\\site-packages\\sklearn\\ensemble\\_forest.py:368: UserWarning: Warm-start fitting without increasing n_estimators does not fit new trees.\n",
      "  warn(\"Warm-start fitting without increasing n_estimators does not \"\n"
     ]
    },
    {
     "name": "stdout",
     "output_type": "stream",
     "text": [
      "Current i = 80\n"
     ]
    },
    {
     "name": "stderr",
     "output_type": "stream",
     "text": [
      "C:\\Users\\Brandon\\anaconda3\\lib\\site-packages\\sklearn\\ensemble\\_forest.py:368: UserWarning: Warm-start fitting without increasing n_estimators does not fit new trees.\n",
      "  warn(\"Warm-start fitting without increasing n_estimators does not \"\n"
     ]
    },
    {
     "name": "stdout",
     "output_type": "stream",
     "text": [
      "Current i = 90\n"
     ]
    },
    {
     "name": "stderr",
     "output_type": "stream",
     "text": [
      "C:\\Users\\Brandon\\anaconda3\\lib\\site-packages\\sklearn\\ensemble\\_forest.py:368: UserWarning: Warm-start fitting without increasing n_estimators does not fit new trees.\n",
      "  warn(\"Warm-start fitting without increasing n_estimators does not \"\n"
     ]
    },
    {
     "name": "stdout",
     "output_type": "stream",
     "text": [
      "Current i = 100\n"
     ]
    },
    {
     "name": "stderr",
     "output_type": "stream",
     "text": [
      "C:\\Users\\Brandon\\anaconda3\\lib\\site-packages\\sklearn\\ensemble\\_forest.py:368: UserWarning: Warm-start fitting without increasing n_estimators does not fit new trees.\n",
      "  warn(\"Warm-start fitting without increasing n_estimators does not \"\n"
     ]
    }
   ],
   "source": [
    "rfr = RandomForestRegressor(n_jobs=-1, warm_start=True)\n",
    "for i in range(10,101,10):\n",
    "    print(f\"Current i = {i}\")\n",
    "    df = pd.read_json(f\"export/export_{i}.json\")\n",
    "    runRF(df, rfr)\n",
    "    del(df)"
   ]
  },
  {
   "cell_type": "code",
   "execution_count": 60,
   "metadata": {},
   "outputs": [],
   "source": [
    "df = pd.read_json(\"export/export_0.json\")\n",
    "i = 0\n",
    "res = []\n",
    "for i in range(len(char_item_dict)):\n",
    "    for stage,comp in char_item_dict[i].items():\n",
    "        for char in comp:\n",
    "            res.append({\"stage\" : stage, \"character_id\" : char['character_id'], \"items\" : char[\"items\"], \\\n",
    "                \"gold_spent\" : gold_df.iloc[i][stage], \"level\" : level_df.iloc[i][stage], \\\n",
    "                \"active_trait\" : active_trait_df.iloc[i][str(stage)], \"rank\" : df.player.iloc[i][\"final\"][\"placement\"][\"rank\"]})\n",
    "\n",
    "combined_df = pd.DataFrame(res)\n",
    "# Pad item array with zeroes\n",
    "combined_df[\"items\"] = combined_df[\"items\"].apply(lambda x: np.pad(i := np.asarray(x), (0,3-len(i))))\n",
    "\n",
    "one_hot_items = pd.DataFrame(item_vector_lookup(combined_df[\"items\"]) , columns = [f\"item_index{x}\" for x in range(1,55)])\n",
    "\n",
    "combined_df = combined_df.join(one_hot_items)   \n",
    "\n",
    "combined_df = combined_df.join(pd.get_dummies(combined_df[\"character_id\"]))\n",
    "\n",
    "combined_df[pd.isna(combined_df[\"active_trait\"])]\n",
    "\n",
    "combined_df[\"active_trait\"] = combined_df[\"active_trait\"].where(combined_df[\"active_trait\"].notna(), lambda x: [{}])\n",
    "# Vectorise active_trait column in combined_df\n",
    "temp_list = combined_df[\"active_trait\"].to_list()\n",
    "v = DictVectorizer(sparse=False)\n",
    "x = v.fit_transform( combined_df[\"active_trait\"])\n",
    "combined_df = combined_df.join(pd.DataFrame(x, columns=v.get_feature_names()))\n",
    "combined_df = combined_df.drop(columns=[\"character_id\",\"items\",\"active_trait\"])\n",
    "\n",
    "index_X = list(chain(range(3),range(4,combined_df.shape[1])))\n",
    "X = combined_df.iloc[:,index_X]\n",
    "Y = combined_df.iloc[:,3]\n",
    "\n",
    "pred_y = rfr.predict(X)"
   ]
  },
  {
   "cell_type": "code",
   "execution_count": 62,
   "metadata": {},
   "outputs": [
    {
     "data": {
      "text/plain": [
       "10.495409800077503"
      ]
     },
     "execution_count": 62,
     "metadata": {},
     "output_type": "execute_result"
    }
   ],
   "source": [
    "mean_squared_error(Y,pred_y)"
   ]
  },
  {
   "cell_type": "code",
   "execution_count": 63,
   "metadata": {},
   "outputs": [
    {
     "data": {
      "text/plain": [
       "2.632630967807514"
      ]
     },
     "execution_count": 63,
     "metadata": {},
     "output_type": "execute_result"
    }
   ],
   "source": [
    "mean_absolute_error(Y,pred_y)"
   ]
  },
  {
   "cell_type": "code",
   "execution_count": 64,
   "metadata": {},
   "outputs": [],
   "source": [
    "def rank_accuracy(true,pred):\n",
    "    return np.sum([x == y for x,y in zip(true,pred)])/true.shape[0]"
   ]
  },
  {
   "cell_type": "code",
   "execution_count": 65,
   "metadata": {},
   "outputs": [
    {
     "data": {
      "text/plain": [
       "0.121976401179941"
      ]
     },
     "execution_count": 65,
     "metadata": {},
     "output_type": "execute_result"
    }
   ],
   "source": [
    "rank_accuracy(test_y.astype(int), np.round(pred_y).astype(int))"
   ]
  },
  {
   "cell_type": "code",
   "execution_count": 72,
   "metadata": {},
   "outputs": [
    {
     "data": {
      "text/plain": [
       "array([3.24864378e-02, 2.34816152e-01, 1.17368459e-01, 9.88561413e-04,\n",
       "       9.36244590e-05, 8.76939997e-04, 1.41478186e-04, 1.03652000e-03,\n",
       "       2.07616432e-04, 8.83011608e-04, 2.27200580e-04, 9.05687363e-04,\n",
       "       1.36579638e-04, 8.67319988e-04, 1.39501459e-04, 9.83447759e-04,\n",
       "       3.53259568e-04, 3.27935838e-04, 9.21834934e-05, 9.92823281e-04,\n",
       "       2.55807240e-04, 3.06213188e-04, 7.63515939e-06, 2.75217238e-04,\n",
       "       1.02255696e-04, 3.03951491e-04, 1.14715793e-04, 3.04431089e-04,\n",
       "       1.82562874e-04, 2.86842333e-04, 1.11051917e-04, 2.99116792e-04,\n",
       "       9.15117175e-05, 3.09993550e-04, 1.18556498e-04, 1.11741732e-04,\n",
       "       1.65650289e-05, 4.04408432e-04, 9.80925240e-06, 1.01962114e-04,\n",
       "       0.00000000e+00, 1.87688626e-04, 3.36599968e-05, 1.07392966e-04,\n",
       "       2.51131953e-05, 1.47642346e-04, 4.79457957e-05, 7.81776154e-05,\n",
       "       2.34153959e-05, 1.19908777e-04, 3.73962625e-05, 1.11907144e-04,\n",
       "       1.03540204e-04, 2.80732986e-05, 3.66197903e-06, 1.64113493e-04,\n",
       "       6.21963359e-06, 2.04014486e-04, 5.79746676e-05, 1.70161636e-04,\n",
       "       1.06802071e-05, 6.81593575e-05, 1.94666653e-04, 3.92658188e-04,\n",
       "       1.08105294e-04, 1.35991846e-04, 2.56944283e-05, 1.76161513e-04,\n",
       "       5.53468571e-04, 5.72473715e-05, 1.29010767e-05, 3.33617160e-05,\n",
       "       3.52972144e-04, 4.19223399e-04, 6.32888807e-05, 3.41737593e-05,\n",
       "       6.29614747e-04, 1.74799317e-04, 8.18934582e-05, 1.92077885e-05,\n",
       "       1.32137159e-04, 1.32607549e-04, 4.86362675e-04, 1.76327677e-04,\n",
       "       4.42535829e-05, 3.74529797e-04, 2.44259505e-04, 2.59845340e-04,\n",
       "       1.80737780e-04, 2.25266308e-04, 3.27092572e-04, 5.27948929e-04,\n",
       "       3.40109528e-04, 6.29379035e-05, 6.06916684e-05, 1.19379670e-04,\n",
       "       3.09550085e-04, 8.78131389e-05, 2.01726043e-04, 3.37033712e-05,\n",
       "       2.97920647e-05, 3.08184997e-04, 1.31772242e-05, 7.27777061e-05,\n",
       "       1.13616176e-04, 3.23510457e-05, 7.70352102e-05, 3.94365578e-04,\n",
       "       3.70854151e-05, 2.16509925e-04, 1.88170816e-04, 1.00246887e-04,\n",
       "       3.54150833e-04, 3.78268092e-04, 2.09747857e-02, 2.90201481e-02,\n",
       "       3.05959435e-02, 2.33004789e-02, 2.65321385e-02, 3.16004722e-02,\n",
       "       4.08680916e-02, 2.95316208e-02, 4.36108187e-02, 1.14574594e-02,\n",
       "       2.37984972e-02, 1.78610177e-02, 9.92169804e-03, 2.98633689e-03,\n",
       "       2.88014618e-02, 8.50459576e-03, 3.23170649e-02, 3.05307332e-02,\n",
       "       2.45563758e-02, 2.25765033e-02, 2.31386514e-02, 3.17817439e-02,\n",
       "       8.39906233e-03, 3.78499220e-02])"
      ]
     },
     "execution_count": 72,
     "metadata": {},
     "output_type": "execute_result"
    }
   ],
   "source": [
    "rfr.feature_importances_"
   ]
  },
  {
   "cell_type": "code",
   "execution_count": null,
   "metadata": {},
   "outputs": [],
   "source": []
  }
 ],
 "metadata": {
  "kernelspec": {
   "display_name": "Python 3",
   "language": "python",
   "name": "python3"
  },
  "language_info": {
   "codemirror_mode": {
    "name": "ipython",
    "version": 3
   },
   "file_extension": ".py",
   "mimetype": "text/x-python",
   "name": "python",
   "nbconvert_exporter": "python",
   "pygments_lexer": "ipython3",
   "version": "3.8.5"
  }
 },
 "nbformat": 4,
 "nbformat_minor": 4
}
