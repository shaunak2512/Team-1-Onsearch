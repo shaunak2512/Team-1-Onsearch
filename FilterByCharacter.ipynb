{
 "cells": [
  {
   "cell_type": "code",
   "execution_count": 16,
   "metadata": {},
   "outputs": [],
   "source": [
    "import numpy as np\n",
    "import pandas as pd\n",
    "import json\n",
    "from typing import Dict\n",
    "from itertools import groupby\n",
    "from functools import reduce\n",
    "from collections import Counter\n",
    "import scipy.sparse as sps\n",
    "from sklearn.preprocessing import OneHotEncoder\n",
    "from sklearn.model_selection import train_test_split\n",
    "from sklearn.ensemble import RandomForestRegressor, RandomForestClassifier\n",
    "from sklearn.metrics import mean_squared_error, mean_absolute_error, accuracy_score\n",
    "from sklearn.model_selection import GridSearchCV"
   ]
  },
  {
   "cell_type": "code",
   "execution_count": 17,
   "metadata": {},
   "outputs": [],
   "source": [
    "df = pd.read_json(\"export/export_0.json\")"
   ]
  },
  {
   "cell_type": "code",
   "execution_count": 18,
   "metadata": {},
   "outputs": [],
   "source": [
    "# List of all items\n",
    "items_list = list(range(1,10)) + [10 * i + j for i in range(1,10) for j in range(i,10)]"
   ]
  },
  {
   "cell_type": "code",
   "execution_count": 19,
   "metadata": {},
   "outputs": [],
   "source": [
    "# Converting items to their corresponding vectors\n",
    "# Similar to one hot encoding\n",
    "# There are 9 basic items. Each basic item is alloted 2 bits. Therefore, size of vector = 9*2 = 18\n",
    "# Basic item to index mapping is as follows:\n",
    "# {1: (0, 1),\n",
    "#  2: (2, 3),\n",
    "#  3: (4, 5),\n",
    "#  4: (6, 7),\n",
    "#  5: (8, 9),\n",
    "#  6: (10, 11),\n",
    "#  7: (12, 13),\n",
    "#  8: (14, 15),\n",
    "#  9: (16, 17)}\n",
    "# For basic items, the leftmost bit alloted to that item is set to 1. \n",
    "# eg: item_2 => [0, 0, 1, 0, 0, 0, 0, 0, 0, 0, 0, 0, 0, 0, 0, 0, 0, 0]\n",
    "# For combined items, the leftmost bits alloted to the 2 basic items\n",
    "# used to create the combined item are set to 1.\n",
    "# eg: item_23 => [0, 0, 1, 0, 1, 0, 0, 0, 0, 0, 0, 0, 0, 0, 0, 0, 0, 0]\n",
    "# for combined items created using 2 of the same item, both the bits alloted to the basic item are set to 1.\n",
    "# eg: item_33 => [0, 0, 0, 0, 1, 1, 0, 0, 0, 0, 0, 0, 0, 0, 0, 0, 0, 0]\n",
    "def vectorise_items(items):\n",
    "    item_index = {x:y for x,y in zip(range(1,10),range(0,18,2))}\n",
    "    res = {}\n",
    "    for i,item in enumerate(items):\n",
    "        item_str = str(item)\n",
    "        vect = np.zeros([18])\n",
    "        for i in item_str:\n",
    "            first_index = item_index[int(i)]\n",
    "            if(not vect[first_index]):\n",
    "                vect[first_index] = 1\n",
    "            else:\n",
    "                vect[first_index+1] = 1\n",
    "        res[item] = vect\n",
    "    res[0] = np.zeros([18])\n",
    "    return res"
   ]
  },
  {
   "cell_type": "code",
   "execution_count": 20,
   "metadata": {},
   "outputs": [],
   "source": [
    "def vectorise_items2(items):\n",
    "    res = {}\n",
    "    for i,item in enumerate(items):\n",
    "        item_str = str(item)\n",
    "        vect = np.zeros([9])\n",
    "        for i in item_str:\n",
    "            vect[int(i)-1] += 1\n",
    "        res[item] = vect\n",
    "    res[0] = np.zeros([9])\n",
    "    return res"
   ]
  },
  {
   "cell_type": "code",
   "execution_count": 21,
   "metadata": {},
   "outputs": [],
   "source": [
    "item_vector_dict = vectorise_items(items_list)"
   ]
  },
  {
   "cell_type": "code",
   "execution_count": 22,
   "metadata": {},
   "outputs": [],
   "source": [
    "#Make a dataframe with character_id, level, and items\n",
    "char_item_rank = [(char[\"character_id\"], char[\"level\"], \\\n",
    "                   np.pad(i := np.asarray(char[\"items\"]), (0,3-len(i))), player[\"final\"][\"placement\"][\"rank\"]) \\\n",
    "                      for player in df.player for char in player[\"final\"][\"comp\"]]\n",
    "     \n",
    "char_item_rank_df = pd.DataFrame(char_item_rank, columns=[\"character_id\",\"level\",\"items\",\"rank\"])"
   ]
  },
  {
   "cell_type": "code",
   "execution_count": 23,
   "metadata": {},
   "outputs": [],
   "source": [
    "char_item_rank_df[\"rank\"] = char_item_rank_df[\"rank\"].astype(\"float\")"
   ]
  },
  {
   "cell_type": "code",
   "execution_count": 24,
   "metadata": {},
   "outputs": [],
   "source": [
    "# Convert a list of items to vectors\n",
    "def item_vector_lookup(item_list, d=item_vector_dict):\n",
    "    res = []\n",
    "    for items in item_list:\n",
    "        temp_res = []\n",
    "        for item in items:\n",
    "            temp_res = temp_res + d[item].tolist()\n",
    "        res.append(temp_res)\n",
    "    return res\n"
   ]
  },
  {
   "cell_type": "code",
   "execution_count": 25,
   "metadata": {},
   "outputs": [],
   "source": [
    "# add item vectors to the existing data frame\n",
    "temp_df = char_item_rank_df.join(pd.DataFrame(item_vector_lookup(char_item_rank_df[\"items\"]) ,\\\n",
    "                                                        columns = [f\"item_index{x}\" for x in range(1,55)]))                "
   ]
  },
  {
   "cell_type": "code",
   "execution_count": 26,
   "metadata": {},
   "outputs": [],
   "source": [
    "temp_df[\"rank\"] = temp_df[\"rank\"].astype('float')"
   ]
  },
  {
   "cell_type": "code",
   "execution_count": 27,
   "metadata": {},
   "outputs": [],
   "source": [
    "temp_df = temp_df.drop([\"level\"], axis=1)"
   ]
  },
  {
   "cell_type": "code",
   "execution_count": 28,
   "metadata": {},
   "outputs": [],
   "source": [
    "temp_df[\"top4\"] = np.where(temp_df[\"rank\"] <= 4, 1,0)"
   ]
  },
  {
   "cell_type": "code",
   "execution_count": 29,
   "metadata": {},
   "outputs": [],
   "source": [
    "# Group by character_id and create a separate dataframe fro each unique character_id\n",
    "chars_df_dict = {x:y for x,y in temp_df.groupby(temp_df[\"character_id\"])}"
   ]
  },
  {
   "cell_type": "code",
   "execution_count": null,
   "metadata": {},
   "outputs": [],
   "source": []
  }
 ],
 "metadata": {
  "kernelspec": {
   "display_name": "Python 3",
   "language": "python",
   "name": "python3"
  },
  "language_info": {
   "codemirror_mode": {
    "name": "ipython",
    "version": 3
   },
   "file_extension": ".py",
   "mimetype": "text/x-python",
   "name": "python",
   "nbconvert_exporter": "python",
   "pygments_lexer": "ipython3",
   "version": "3.8.3"
  }
 },
 "nbformat": 4,
 "nbformat_minor": 4
}
