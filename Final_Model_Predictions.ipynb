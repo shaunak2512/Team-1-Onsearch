{
 "cells": [
  {
   "cell_type": "code",
   "execution_count": 14,
   "metadata": {},
   "outputs": [],
   "source": [
    "import pickle\n",
    "import random\n",
    "import numpy as np\n",
    "import pandas as pd\n",
    "import json\n",
    "from itertools import groupby, chain, permutations, combinations, combinations_with_replacement\n",
    "from collections import Counter"
   ]
  },
  {
   "cell_type": "code",
   "execution_count": 2,
   "metadata": {},
   "outputs": [],
   "source": [
    "reg_model = open('final_reg_model.sav', 'rb')\n",
    "reg = pickle.load(reg_model)"
   ]
  },
  {
   "cell_type": "code",
   "execution_count": 3,
   "metadata": {},
   "outputs": [
    {
     "name": "stdout",
     "output_type": "stream",
     "text": [
      "[2.41929347e-01 1.43612345e-01 7.83580597e-04 1.01204220e-04\n",
      " 5.51466436e-04 1.13638592e-04 3.71696041e-04 1.03751745e-04\n",
      " 3.71916972e-04 6.77853381e-06 6.03588345e-04 7.50785656e-05\n",
      " 2.19364171e-04 9.87194975e-06 1.86194526e-04 2.39813158e-07\n",
      " 2.12815938e-05 1.41306741e-07 2.55752461e-04 0.00000000e+00\n",
      " 1.44637358e-03 8.91452310e-05 1.18383149e-03 3.00839551e-04\n",
      " 1.24860120e-03 4.77289095e-04 1.04717745e-03 1.09367934e-04\n",
      " 1.17926897e-03 2.78946344e-04 8.70615991e-04 1.80979634e-04\n",
      " 7.37889822e-04 2.31624847e-05 8.28889389e-05 8.55959545e-06\n",
      " 1.23882953e-03 0.00000000e+00 2.86183956e-03 7.29824514e-05\n",
      " 2.61600130e-03 5.46324888e-04 3.10927582e-03 5.93263334e-04\n",
      " 3.16268441e-03 1.02182841e-03 2.96723129e-03 6.33471286e-04\n",
      " 2.99187256e-03 7.01051380e-04 3.38401341e-03 8.47366506e-04\n",
      " 9.19210283e-04 3.57706625e-04 3.08419419e-03 7.10812975e-04\n",
      " 1.05666925e-03 3.05657170e-04 7.06847372e-04 1.78276506e-04\n",
      " 2.67623485e-04 7.11753619e-04 8.07633118e-04 3.68518700e-04\n",
      " 6.17972949e-04 1.18429920e-04 5.35483806e-04 9.56526374e-04\n",
      " 2.34203873e-04 1.52605810e-04 2.45469479e-04 9.89761706e-04\n",
      " 8.19034534e-04 3.36676439e-04 1.68569948e-04 1.44956691e-03\n",
      " 6.89423552e-04 3.00520088e-04 2.15001537e-04 4.94607935e-04\n",
      " 4.41973075e-04 8.73704230e-04 4.58820549e-04 2.28091755e-04\n",
      " 7.00152330e-04 4.88706457e-04 6.80637094e-04 6.47776231e-04\n",
      " 9.53484503e-04 6.28542230e-04 1.16477038e-03 1.62121681e-03\n",
      " 4.35468562e-04 2.84392123e-04 2.80950768e-04 8.72532027e-04\n",
      " 6.36129504e-04 6.65311611e-04 1.25782606e-04 2.26102248e-04\n",
      " 5.97832402e-04 1.40361496e-04 3.01124810e-04 4.66576215e-04\n",
      " 3.62236052e-04 6.06647204e-04 1.01972224e-03 1.43834066e-04\n",
      " 1.10462279e-03 5.51643929e-04 4.14373908e-04 6.08480432e-04\n",
      " 1.18030278e-03 2.14613366e-02 2.36881680e-02 2.33024706e-02\n",
      " 1.77247207e-02 2.23289686e-02 2.74470999e-02 3.33312814e-02\n",
      " 2.40954376e-02 3.22323229e-02 1.00299385e-02 1.84874365e-02\n",
      " 1.38469258e-02 1.27783421e-02 2.19350674e-03 2.33430851e-02\n",
      " 4.53649100e-03 2.47190321e-02 2.01729777e-02 2.10578628e-02\n",
      " 2.03414256e-02 2.14652964e-02 2.77388368e-02 4.67680144e-03\n",
      " 2.89153260e-02 2.55453337e-04 1.16876137e-03 2.62038225e-03\n",
      " 8.13009444e-03 2.59694356e-02 5.93614168e-03 1.29500502e-02\n",
      " 1.33175880e-05]\n"
     ]
    }
   ],
   "source": [
    "print(reg.feature_importances_)"
   ]
  },
  {
   "cell_type": "code",
   "execution_count": 4,
   "metadata": {},
   "outputs": [],
   "source": [
    "# Generate all possible item combinations\n",
    "from itertools import combinations_with_replacement \n",
    "def generate_item_combinations(items_list):\n",
    "    combinations = combinations_with_replacement(items_list,3)\n",
    "    res = []\n",
    "    for combination in combinations:\n",
    "        combination = tuple(x for x in combination)\n",
    "        # check if tuple is in ascending order\n",
    "        if(combination[0] <= combination[1] and combination[1] <= combination[2]):\n",
    "            # check if there are no more than 1 basic items in the tuple \n",
    "            # note: 0 is considered as a combined item since 1, 2 or even all 3 item slots can be empty\n",
    "            if(np.sum(np.floor([(x/10) if x else 1 for x in combination]) == 0) <= 1):\n",
    "                res.append(combination)\n",
    "    return res"
   ]
  },
  {
   "cell_type": "code",
   "execution_count": 5,
   "metadata": {},
   "outputs": [
    {
     "data": {
      "text/plain": [
       "[(0, 12, 22),\n",
       " (15, 19, 58),\n",
       " (25, 27, 29),\n",
       " (27, 59, 99),\n",
       " (0, 28, 89),\n",
       " (16, 39, 99),\n",
       " (29, 44, 47),\n",
       " (14, 48, 79),\n",
       " (19, 57, 79),\n",
       " (13, 28, 28)]"
      ]
     },
     "execution_count": 5,
     "metadata": {},
     "output_type": "execute_result"
    }
   ],
   "source": [
    "items_list = [10 * i + j for i in range(10) for j in range(i,10)]\n",
    "item_combinations_list = generate_item_combinations(items_list)\n",
    "random.sample(item_combinations_list, 10)"
   ]
  },
  {
   "cell_type": "code",
   "execution_count": 6,
   "metadata": {},
   "outputs": [],
   "source": [
    "def vectorise_items(items):\n",
    "    item_index = {x:y for x,y in zip(range(1,10),range(0,18,2))}\n",
    "    res = {}\n",
    "    for i,item in enumerate(items):\n",
    "        item_str = str(item)\n",
    "        vect = np.zeros([18])\n",
    "        for i in item_str:\n",
    "            if i != '0':\n",
    "                first_index = item_index[int(i)]\n",
    "                if(not vect[first_index]):\n",
    "                    vect[first_index] = 1\n",
    "                else:\n",
    "                    vect[first_index+1] = 1\n",
    "        res[item] = vect\n",
    "    res[0] = np.zeros([18])\n",
    "    return res\n",
    "# Vector embeddings for all item combinations\n",
    "# Convert a list of items to vectors\n",
    "item_vector_dict = vectorise_items(items_list)\n",
    "def item_vector_lookup(item_list, d=item_vector_dict):\n",
    "    res = []\n",
    "    for items in item_list:\n",
    "        temp_res = []\n",
    "        for item in items:\n",
    "            temp_res = temp_res + d[item].tolist()\n",
    "        res.append(temp_res)\n",
    "    return res\n",
    "item_combinations_vector = item_vector_lookup(item_combinations_list)"
   ]
  },
  {
   "cell_type": "code",
   "execution_count": 7,
   "metadata": {},
   "outputs": [],
   "source": [
    "item_combinations_vector = np.asarray(item_combinations_vector)"
   ]
  },
  {
   "cell_type": "code",
   "execution_count": 26,
   "metadata": {},
   "outputs": [],
   "source": [
    "# Get n item recommendations and their predicted rank by running random forest model on all possible item combinations\n",
    "def get_n_item_recommendations(model, item_combinations_list, item_combinations_vector, input_vector):\n",
    "    # Duplicate input vector N times, N = #total number of item combinations\n",
    "    input_vector_stretched = np.tile(input_vector,(item_combinations_vector.shape[0],1))\n",
    "    # Add every item combination vector to the stretched input vector\n",
    "    input_vector_with_item_combo = np.insert(input_vector_stretched,3,item_combinations_vector.transpose(),axis=1)\n",
    "    # Predict rank\n",
    "    results = reg.predict(input_vector_with_item_combo)\n",
    "    # sort indices by predicted rank (descending)\n",
    "    sorted_items_index = np.argsort(results)\n",
    "    # Return n item combinations with the highest predicted ranks\n",
    "    return np.asarray([(item_combinations_list[x], results[x]) for x in sorted_items_index], dtype = object)\n",
    "\n",
    "# Get the highest average predicted rank of each item by using the model on all item combos\n",
    "def get_highest_average_rank_items(model, item_combinations_list, item_combinations_vector, input_vector):\n",
    "    # Duplicate input vector N times, N = #total number of item combinations\n",
    "    input_vector_stretched = np.tile(input_vector,(item_combinations_vector.shape[0],1))\n",
    "    # Add every item combination vector to the stretched input vector\n",
    "    input_vector_with_item_combo = np.insert(input_vector_stretched,3,item_combinations_vector.transpose(),axis=1)\n",
    "    # Predict rank\n",
    "    results = reg.predict(input_vector_with_item_combo)\n",
    "    sum_rank_dict = {}\n",
    "    for i, rank in enumerate(results):\n",
    "        for item in item_combinations_list[i]:\n",
    "            if item not in sum_rank_dict:\n",
    "                sum_rank_dict[item] = [rank, 1]\n",
    "            else:\n",
    "                sum_rank_dict[item][0] += rank\n",
    "                sum_rank_dict[item][1] += 1\n",
    "    avg_rank_dict = {}\n",
    "    for k, v in sum_rank_dict.items():\n",
    "        avg_rank_dict[k] = 1.0 * v[0] / v[1]\n",
    "    return avg_rank_dict"
   ]
  },
  {
   "cell_type": "code",
   "execution_count": 27,
   "metadata": {},
   "outputs": [],
   "source": [
    "with open('full_mapping.json') as json_data:\n",
    "    fullmap = json.load(json_data)\n",
    "item_mapping = fullmap['item_mapping_json']\n",
    "item_mapping['0'] = 'None'"
   ]
  },
  {
   "cell_type": "code",
   "execution_count": 28,
   "metadata": {},
   "outputs": [],
   "source": [
    "# Get item names for a tuple of item numbers\n",
    "def get_item_names(item_combo, item_mapping = item_mapping):\n",
    "    return tuple(item_mapping.get(str(item)) for item in item_combo)"
   ]
  },
  {
   "cell_type": "code",
   "execution_count": 39,
   "metadata": {},
   "outputs": [],
   "source": [
    "combined_df = pd.read_pickle(\"final_data_frame_one_hot\")\n",
    "combined_df = combined_df.drop(columns = [\"stage\"])"
   ]
  },
  {
   "cell_type": "code",
   "execution_count": 85,
   "metadata": {},
   "outputs": [
    {
     "name": "stdout",
     "output_type": "stream",
     "text": [
      "['gold_spent', 'level', 'Celestial', 'Cybernetic', 'Starship', 'SpacePirate', 'Brawler', 'stage_4', 'Paragon', 'Chrono', 'Astro', 'Mercenary', 'Battlecast', 'Blaster', 'Sorcerer', 'TFT3_Zoe', 'Rebel', 'Sniper', 'Protector', 'Demolitionist', 'Blademaster', 'Infiltrator', 'stage_6', 'ManaReaver', 'DarkStar', 'stage_3', 'stage_5', 'StarGuardian', 'Mystic', 'item_index48', 'item_index42', 'item_index40', 'item_index52', 'item_index46', 'item_index44', 'item_index36', 'stage_2', 'item_index38', 'MechPilot', 'TFT3_Poppy', 'TFT3_Janna', 'item_index18', 'item_index22', 'item_index34', 'item_index20', 'TFT3_Ziggs', 'item_index26', 'stage_1', 'TFT3_Nocturne', 'TFT3_Xerath', 'item_index54', 'item_index24', 'item_index43', 'TFT3_WuKong', 'TFT3_Gnar', 'TFT3_Ezreal', 'TFT3_Nautilus', 'item_index50', 'TFT3_KogMaw', 'TFT3_Shaco', 'item_index28', 'item_index49', 'TFT3_Graves', 'TFT3_Blitzcrank', 'rank', 'item_index30', 'TFT3_Bard', 'item_index53', 'TFT3_Annie', 'item_index47', 'TFT3_Lulu', 'TFT3_JarvanIV', 'TFT3_MasterYi', 'TFT3_Soraka', 'TFT3_Mordekaiser', 'TFT3_Shen', 'item_index45', 'TFT3_Neeko', 'TFT3_Cassiopeia', 'TFT3_Zed', 'TFT3_Viktor', 'item_index8', 'TFT3_Thresh', 'item_index41', 'TFT3_XinZhao', 'item_index2', 'item_index39', 'TFT3_Ekko', 'TFT3_Jinx', 'TFT3_Malphite', 'item_index23', 'TFT3_Vayne', 'TFT3_Leona', 'TFT3_Karma', 'TFT3_Rakan', 'TFT3_Yasuo', 'item_index6', 'item_index4', 'TFT3_Caitlyn', 'TFT3_Vi', 'item_index51', 'TFT3_Illaoi', 'TFT3_Ahri', 'TFT3_Urgot', 'item_index21', 'TFT3_Jayce', 'TFT3_Riven', 'TFT3_Rumble', 'item_index27', 'TFT3_AurelionSol', 'item_index16', 'Vanguard', 'TFT3_Gangplank', 'TFT3_Fiora', 'TFT3_Lucian', 'TFT3_Teemo', 'item_index10', 'TFT3_Jhin', 'item_index12', 'item_index29', 'TFT3_Ashe', 'TFT3_Irelia', 'TFT3_Fizz', 'TFT3_Xayah', 'TFT3_TwistedFate', 'TFT3_Syndra', 'TFT3_Darius', 'item_index3', 'item_index25', 'item_index5', 'item_index1', 'item_index19', 'item_index32', 'item_index9', 'item_index37', 'item_index31', 'item_index14', 'stage_7', 'item_index11', 'item_index33', 'item_index7', 'item_index13', 'item_index15', 'item_index17', 'item_index35']\n"
     ]
    }
   ],
   "source": [
    "col_name = list(combined_df.columns)\n",
    "col_importance = list(reg.feature_importances_)\n",
    "feature_importance = [name for (value, name) in sorted(zip(col_importance, col_name), key = lambda x: x[0], reverse = True)]\n",
    "print(feature_importance)"
   ]
  },
  {
   "cell_type": "code",
   "execution_count": 127,
   "metadata": {},
   "outputs": [
    {
     "name": "stdout",
     "output_type": "stream",
     "text": [
      "gold_spent      8\n",
      "level         3.5\n",
      "TFT3_Ahri       0\n",
      "TFT3_Annie      0\n",
      "TFT3_Ashe       0\n",
      "             ... \n",
      "stage_4         0\n",
      "stage_5         0\n",
      "stage_6         0\n",
      "stage_7         0\n",
      "stage_8         0\n",
      "Name: 2083499, Length: 91, dtype: object\n"
     ]
    }
   ],
   "source": [
    "# Get a random row of combined_df and remove all item indices\n",
    "not_item_index = list(chain(range(3),range(58,combined_df.shape[1])))\n",
    "#x_single = combined_df.iloc[663,not_item_index]\n",
    "row = random.randint(0,combined_df.shape[0])\n",
    "x_single = combined_df.iloc[row,~combined_df.columns.str.match(r'^(item|rank)')]\n",
    "print(x_single)\n",
    "\n",
    "def get_row_info(row):\n",
    "    character = 'None'\n",
    "    for key in combined_df.iloc[row, combined_df.columns.str.match(r'^TFT3_')].keys():\n",
    "        if combined_df.iloc[row, combined_df.columns.str.match(r'^TFT3_')][key] == 1:\n",
    "            character = key\n",
    "            break\n",
    "    stage = 'None'\n",
    "    for key in combined_df.iloc[row, combined_df.columns.str.match(r'^stage')].keys():\n",
    "        if combined_df.iloc[row, combined_df.columns.str.match(r'^stage')][key] == 1:\n",
    "            stage = key\n",
    "            break\n",
    "    gold_spent = combined_df.iloc[row, combined_df.columns.str.match(r'^gold_spent$')][0]\n",
    "    level = combined_df.iloc[row, combined_df.columns.str.match(r'^level$')][0]\n",
    "    info_dict = {'Character': character[5:],\n",
    "                 'Stage': stage,\n",
    "                 'Gold_spent': gold_spent,\n",
    "                 'Level': level}\n",
    "    return info_dict\n",
    "\n",
    "row_info = get_row_info(row)\n",
    "input_vector = x_single.to_numpy()"
   ]
  },
  {
   "cell_type": "code",
   "execution_count": 128,
   "metadata": {},
   "outputs": [
    {
     "name": "stdout",
     "output_type": "stream",
     "text": [
      "Character: Darius\n",
      "Stage: stage_2\n",
      "Gold_spent: 8.0\n",
      "Level: 3.5\n"
     ]
    },
    {
     "data": {
      "text/plain": [
       "array([[(22, 23, 66), 2.856666666666667],\n",
       "       [(22, 36, 66), 2.856666666666667],\n",
       "       [(22, 38, 66), 2.8866666666666667],\n",
       "       ...,\n",
       "       [(7, 44, 89), 5.956666666666666],\n",
       "       [(28, 44, 89), 5.956666666666666],\n",
       "       [(4, 44, 99), 5.956666666666666]], dtype=object)"
      ]
     },
     "execution_count": 128,
     "metadata": {},
     "output_type": "execute_result"
    }
   ],
   "source": [
    "recommended_items = get_n_item_recommendations(reg, item_combinations_list, item_combinations_vector, input_vector)\n",
    "for k, v in row_info.items():\n",
    "    print(f'{k}: {v}')\n",
    "recommended_items"
   ]
  },
  {
   "cell_type": "code",
   "execution_count": 129,
   "metadata": {},
   "outputs": [
    {
     "name": "stdout",
     "output_type": "stream",
     "text": [
      "Character: Darius\n",
      "Stage: stage_2\n",
      "Gold_spent: 8.0\n",
      "Level: 3.5\n",
      "Recommendation: RapidFirecannon\n"
     ]
    }
   ],
   "source": [
    "def get_best_item(recommended_items):\n",
    "    max_rank = recommended_items[0][1]\n",
    "    max_rank_items = []\n",
    "    for items,rank in recommended_items:\n",
    "        if(rank == max_rank):\n",
    "            max_rank_items += list(items)\n",
    "    c = Counter(max_rank_items)\n",
    "    return c.most_common(1)[0][0]\n",
    "\n",
    "for k, v in row_info.items():\n",
    "    print(f'{k}: {v}')\n",
    "print('Recommendation: ' + item_mapping.get(str(get_best_item(recommended_items))))"
   ]
  },
  {
   "cell_type": "code",
   "execution_count": 130,
   "metadata": {},
   "outputs": [
    {
     "name": "stdout",
     "output_type": "stream",
     "text": [
      "Character: Darius\n",
      "Stage: stage_2\n",
      "Gold_spent: 8.0\n",
      "Level: 3.5\n",
      "Recommendations:\n",
      "('RapidFirecannon', 'GuinsoosRageblade', 'DragonsClaw')\n",
      "('RapidFirecannon', 'IonicSpark', 'DragonsClaw')\n",
      "('RapidFirecannon', 'BattlecastArmor', 'DragonsClaw')\n",
      "('RapidFirecannon', 'Morellonomicon', 'DragonsClaw')\n",
      "('RapidFirecannon', 'JeweledGauntlet', 'DragonsClaw')\n",
      "('RapidFirecannon', 'LudensEcho', 'DragonsClaw')\n",
      "('RapidFirecannon', 'LocketoftheIronSolari', 'DragonsClaw')\n",
      "('RapidFirecannon', 'RapidFirecannon', 'DragonsClaw')\n",
      "('RunaansHurricane', 'IonicSpark', 'DragonsClaw')\n",
      "('Bloodthirster', 'GuinsoosRageblade', 'DragonsClaw')\n"
     ]
    }
   ],
   "source": [
    "for k, v in row_info.items():\n",
    "    print(f'{k}: {v}')\n",
    "recommended = [get_item_names(x) for x in recommended_items[:,0]]\n",
    "print('Recommendations:')\n",
    "for rec in recommended[:10]:\n",
    "    print(rec)"
   ]
  },
  {
   "cell_type": "code",
   "execution_count": 131,
   "metadata": {},
   "outputs": [
    {
     "name": "stdout",
     "output_type": "stream",
     "text": [
      "Character: Darius\n",
      "Stage: stage_2\n",
      "Gold_spent: 8.0\n",
      "Level: 3.5\n",
      "Recommendations:\n",
      "('DragonsClaw', 3.966653341929921)\n",
      "('RapidFirecannon', 4.375577047066408)\n",
      "('ForceofNature', 4.623925102084644)\n",
      "('GuinsoosRageblade', 4.642378787878766)\n",
      "('IonicSpark', 4.666616913819011)\n",
      "('Zephyr', 4.703398022780921)\n",
      "('LudensEcho', 4.725180743606259)\n",
      "('Morellonomicon', 4.729835804857062)\n",
      "('HextechGunblade', 4.744445519019956)\n",
      "('ChaliceofFavor', 4.745415108532101)\n",
      "('LocketoftheIronSolari', 4.763923490221327)\n",
      "('RabadonsDeathcap', 4.769203954438004)\n",
      "('SwordBreaker', 4.769883193638489)\n",
      "('BattlecastArmor', 4.802575972490855)\n",
      "('JeweledGauntlet', 4.802717816462486)\n",
      "('CelestialOrb', 4.826376746185175)\n",
      "('Quicksilver', 4.841734579840965)\n",
      "('RunaansHurricane', 4.864329142488691)\n",
      "('Needlessly Large Rod', 4.868339654640753)\n",
      "('StatikkShiv', 4.883471631205651)\n",
      "('BrambleVest', 4.884965398667487)\n",
      "('ZzrotPortal', 4.8890099935525155)\n",
      "('Recurve Bow', 4.890437249460366)\n",
      "('Negatron Cloak', 4.893249460376184)\n",
      "('Tear of the Goddess', 4.8935662966389035)\n",
      "(\"Giant's Belt\", 4.893575547332706)\n",
      "('Chain Vest', 4.893723558433538)\n",
      "('B.F. Sword', 4.893816065371559)\n",
      "('Spatula', 4.893816065371559)\n",
      "('Sparring Gloves', 4.893834566759162)\n",
      "('FrozenHeart', 4.896799699118812)\n",
      "('TitansResolve', 4.90058317214697)\n",
      "('RedBuff', 4.913845153664275)\n",
      "('GiantSlayer', 4.929480980012865)\n",
      "('InfiltratorsTalons', 4.936237588652467)\n",
      "('Redemption', 4.938659789383133)\n",
      "('None', 4.940663120567342)\n",
      "('LastWhisper', 4.9406734364925615)\n",
      "('Bloodthirster', 4.948193101224978)\n",
      "('WarmogsArmor', 4.956128519234815)\n",
      "('StarGuardiansCharm', 4.9646301310982155)\n",
      "('SpearofShojin', 4.967720825273978)\n",
      "('Deathblade', 4.968784332688558)\n",
      "('ZekesHerald', 4.971068665377141)\n",
      "('GuardianAngel', 4.973839458413887)\n",
      "('BlueBuff', 4.977628196862231)\n",
      "('BladeoftheRuinedKing', 4.991029980657601)\n",
      "('InfinityEdge', 4.99304158607346)\n",
      "('HandofJustice', 4.999749408983408)\n",
      "('RebelMedal', 5.056379002793847)\n",
      "('ShroudofStillness', 5.069286804212354)\n",
      "('ProtectorsChestguard', 5.076370298731975)\n",
      "('TrapClaw', 5.093630131098118)\n",
      "('ThiefsGloves', 5.313950354609866)\n",
      "('DarkStarsHeart', 5.337956372232892)\n"
     ]
    }
   ],
   "source": [
    "for k, v in row_info.items():\n",
    "    print(f'{k}: {v}')\n",
    "highest_items = get_highest_average_rank_items(reg, item_combinations_list, item_combinations_vector, input_vector)\n",
    "situational_trait_items = {'BladeoftheRuinedKing', 'InfiltratorsTalons', 'RebelMedal', 'CelestialOrb', 'BattlecastArmor', 'StarGuardiansCharm', 'ProtectorsChestguard', 'DarkStarsHeart'}\n",
    "print('Recommendations:')\n",
    "for tup in sorted([(item_mapping.get(str(item)), avg_rank) for item, avg_rank in highest_items.items()], key = lambda x: x[1]):\n",
    "    #if tup[0] not in situational_trait_items:\n",
    "    print(tup)"
   ]
  },
  {
   "cell_type": "code",
   "execution_count": null,
   "metadata": {},
   "outputs": [],
   "source": []
  },
  {
   "cell_type": "code",
   "execution_count": null,
   "metadata": {},
   "outputs": [],
   "source": []
  }
 ],
 "metadata": {
  "kernelspec": {
   "display_name": "Python 3",
   "language": "python",
   "name": "python3"
  },
  "language_info": {
   "codemirror_mode": {
    "name": "ipython",
    "version": 3
   },
   "file_extension": ".py",
   "mimetype": "text/x-python",
   "name": "python",
   "nbconvert_exporter": "python",
   "pygments_lexer": "ipython3",
   "version": "3.8.5"
  }
 },
 "nbformat": 4,
 "nbformat_minor": 4
}
